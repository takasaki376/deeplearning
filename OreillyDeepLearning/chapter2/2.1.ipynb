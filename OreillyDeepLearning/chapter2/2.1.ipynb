{
 "metadata": {
  "language_info": {
   "codemirror_mode": {
    "name": "ipython",
    "version": 3
   },
   "file_extension": ".py",
   "mimetype": "text/x-python",
   "name": "python",
   "nbconvert_exporter": "python",
   "pygments_lexer": "ipython3",
   "version": "3.8.10"
  },
  "orig_nbformat": 2,
  "kernelspec": {
   "name": "python3810jvsc74a57bd097d3723faa4999a5fbc2f5ff613a8146b45a4dc56859e084e7329fed153e30f7",
   "display_name": "Python 3.8.10 64-bit ('ml': conda)"
  },
  "metadata": {
   "interpreter": {
    "hash": "97d3723faa4999a5fbc2f5ff613a8146b45a4dc56859e084e7329fed153e30f7"
   }
  }
 },
 "nbformat": 4,
 "nbformat_minor": 2,
 "cells": [
  {
   "source": [
    "# 2.1 パーセプトロンとは"
   ],
   "cell_type": "markdown",
   "metadata": {}
  },
  {
   "source": [
    "パーセプトロンの動作原理はたったこれだけです。"
   ],
   "cell_type": "markdown",
   "metadata": {}
  },
  {
   "source": [
    "$$\n",
    "    y = \n",
    "    \\begin{cases}\n",
    "        0 \\quad (w_1x_1 + w_2x_2 \\leqq \\theta) \\\\\n",
    "        1 \\quad (w_1x_1 + w_2x_2 > \\theta) \\\\\n",
    "    \\end{cases}\n",
    "$$\n"
   ],
   "cell_type": "markdown",
   "metadata": {}
  },
  {
   "cell_type": "code",
   "execution_count": null,
   "metadata": {},
   "outputs": [],
   "source": []
  }
 ]
}