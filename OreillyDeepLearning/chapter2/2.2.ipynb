{
 "metadata": {
  "language_info": {
   "codemirror_mode": {
    "name": "ipython",
    "version": 3
   },
   "file_extension": ".py",
   "mimetype": "text/x-python",
   "name": "python",
   "nbconvert_exporter": "python",
   "pygments_lexer": "ipython3",
   "version": "3.8.10"
  },
  "orig_nbformat": 2,
  "kernelspec": {
   "name": "python3810jvsc74a57bd097d3723faa4999a5fbc2f5ff613a8146b45a4dc56859e084e7329fed153e30f7",
   "display_name": "Python 3.8.10 64-bit"
  },
  "metadata": {
   "interpreter": {
    "hash": "97d3723faa4999a5fbc2f5ff613a8146b45a4dc56859e084e7329fed153e30f7"
   }
  }
 },
 "nbformat": 4,
 "nbformat_minor": 2,
 "cells": [
  {
   "source": [
    "# 2.2.1 AND ゲート"
   ],
   "cell_type": "markdown",
   "metadata": {}
  },
  {
   "source": [
    "\\begin{array}{cc|c}\n",
    "x_1 & x_2 & y \\\\ \\hline\n",
    "0 & 0 & 0 \\\\\n",
    "1 & 0 & 0 \\\\\n",
    "0 & 1 & 0 \\\\\n",
    "1 & 1 & 1 \\\\\n",
    "\\end{array}\n"
   ],
   "cell_type": "markdown",
   "metadata": {}
  },
  {
   "source": [
    "# 2.2.2 NANDゲートとORゲート"
   ],
   "cell_type": "markdown",
   "metadata": {}
  },
  {
   "source": [
    "NANDゲート\n",
    "\\begin{array}{cc|c}\n",
    "x_1 & x_2 & y \\\\ \\hline\n",
    "0 & 0 & 1 \\\\\n",
    "1 & 0 & 1 \\\\\n",
    "0 & 1 & 1 \\\\\n",
    "1 & 1 & 0 \\\\\n",
    "\\end{array}\n"
   ],
   "cell_type": "markdown",
   "metadata": {}
  },
  {
   "source": [
    "ORゲート\n",
    "\\begin{array}{cc|c}\n",
    "x_1 & x_2 & y \\\\ \\hline\n",
    "0 & 0 & 0 \\\\\n",
    "1 & 0 & 1 \\\\\n",
    "0 & 1 & 1 \\\\\n",
    "1 & 1 & 1 \\\\\n",
    "\\end{array}"
   ],
   "cell_type": "markdown",
   "metadata": {}
  },
  {
   "cell_type": "code",
   "execution_count": null,
   "metadata": {},
   "outputs": [],
   "source": []
  }
 ]
}