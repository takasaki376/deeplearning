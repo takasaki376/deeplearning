{
 "cells": [
  {
   "cell_type": "markdown",
   "id": "fd147487",
   "metadata": {},
   "source": [
    "# 出力層の設計"
   ]
  },
  {
   "cell_type": "markdown",
   "id": "8236d450",
   "metadata": {},
   "source": [
    "## 3.5.1 恒等関数とソフトマックス関数"
   ]
  },
  {
   "cell_type": "code",
   "execution_count": 1,
   "id": "e17fdc26",
   "metadata": {},
   "outputs": [],
   "source": [
    "import numpy as np"
   ]
  },
  {
   "cell_type": "code",
   "execution_count": 2,
   "id": "62ade015",
   "metadata": {},
   "outputs": [
    {
     "name": "stdout",
     "output_type": "stream",
     "text": [
      "[ 1.34985881 18.17414537 54.59815003]\n"
     ]
    }
   ],
   "source": [
    "a = np.array([0.3 , 2.9 , 4.0])\n",
    "\n",
    "exp_a = np.exp(a)\n",
    "print(exp_a)"
   ]
  },
  {
   "cell_type": "code",
   "execution_count": 3,
   "id": "90cc9453",
   "metadata": {},
   "outputs": [
    {
     "name": "stdout",
     "output_type": "stream",
     "text": [
      "74.1221542101633\n"
     ]
    }
   ],
   "source": [
    "sum_exp_a = np.sum(exp_a)\n",
    "print(sum_exp_a)"
   ]
  },
  {
   "cell_type": "code",
   "execution_count": 4,
   "id": "db433fef",
   "metadata": {},
   "outputs": [
    {
     "name": "stdout",
     "output_type": "stream",
     "text": [
      "[0.01821127 0.24519181 0.73659691]\n"
     ]
    }
   ],
   "source": [
    "y = exp_a / sum_exp_a\n",
    "print(y)"
   ]
  },
  {
   "cell_type": "code",
   "execution_count": 5,
   "id": "cff0e5ef",
   "metadata": {},
   "outputs": [],
   "source": [
    "def softmax(a):\n",
    "    exp_a = np.exp(a)\n",
    "    sum_exp_a = np.sum(exp_a)\n",
    "    y = exp_a / sum_exp_a\n",
    "    \n",
    "    return y"
   ]
  },
  {
   "cell_type": "markdown",
   "id": "c02aa705",
   "metadata": {},
   "source": [
    "# 3.5.2 ソフトマックス関数の実装上の注意"
   ]
  },
  {
   "cell_type": "markdown",
   "id": "85dcf44b",
   "metadata": {},
   "source": [
    "softmax関数の実装は、コンピュータで計算を行う上では欠点があります。その欠点とは、オーバーフローに関する問題です。ソフトマックス関数の実装では、指数関数の計算を行うことになりますが、その際、指数関数の値が容易に大きな値になります。例えば、$e^{10}$は20,000を超え、$e^{100}$は０が40個以上も並ぶ大きな値になり、$e^{1000}$の結果は無限大を表すinfが返ってきます。そして、このような大きな値どうしで割り算を行うと、数値が不安定な結果になってしまうのです。\n",
    "\n",
    "オーバーフローの対策としては、入力信号の中で最大の値を用いることが一般的です。"
   ]
  },
  {
   "cell_type": "code",
   "execution_count": 6,
   "id": "159ca967",
   "metadata": {},
   "outputs": [
    {
     "name": "stdout",
     "output_type": "stream",
     "text": [
      "[nan nan nan]\n"
     ]
    },
    {
     "name": "stderr",
     "output_type": "stream",
     "text": [
      "<ipython-input-6-6af97dd3ad3c>:2: RuntimeWarning: overflow encountered in exp\n",
      "  exp_a = np.exp(a)\n",
      "<ipython-input-6-6af97dd3ad3c>:4: RuntimeWarning: invalid value encountered in true_divide\n",
      "  y = exp_a / sum_exp_a\n"
     ]
    }
   ],
   "source": [
    "a = np.array([1010 , 1000 , 990])\n",
    "exp_a = np.exp(a)\n",
    "sum_exp_a = np.sum(exp_a)\n",
    "y = exp_a / sum_exp_a\n",
    "print(y)"
   ]
  },
  {
   "cell_type": "code",
   "execution_count": 7,
   "id": "400b9bad",
   "metadata": {},
   "outputs": [
    {
     "name": "stdout",
     "output_type": "stream",
     "text": [
      "[  0 -10 -20]\n",
      "[9.99954600e-01 4.53978686e-05 2.06106005e-09]\n"
     ]
    }
   ],
   "source": [
    "a = np.array([1010 , 1000 , 990])\n",
    "c = np.max(a)\n",
    "print(a-c)\n",
    "exp_a = np.exp(a-c)\n",
    "sum_exp_a = np.sum(exp_a)\n",
    "y = exp_a / sum_exp_a\n",
    "print(y)"
   ]
  },
  {
   "cell_type": "code",
   "execution_count": 8,
   "id": "12cca4c6",
   "metadata": {},
   "outputs": [],
   "source": [
    "def softmax(a):\n",
    "    c = np.max(a)\n",
    "    exp_a = np.exp(a - c)\n",
    "    sum_exp_a = np.sum(exp_a)\n",
    "    y = exp_a / sum_exp_a\n",
    "    \n",
    "    return y"
   ]
  },
  {
   "cell_type": "markdown",
   "id": "e07ca707",
   "metadata": {},
   "source": [
    "## 3.5.3 ソフトマックス関数の特徴"
   ]
  },
  {
   "cell_type": "markdown",
   "id": "49d27c81",
   "metadata": {},
   "source": [
    "ソフトマックス関数の出力は、0から1.0の間の実数になります。また、ソフトマックス関数の出力の総和は1になります。さて、この総和が1になるという性質ですが、これはソフトマックス関数の重要な性質です。この性質のおかげでソフトマックス関数の出力を「確率」として解釈することができます。"
   ]
  },
  {
   "cell_type": "code",
   "execution_count": 9,
   "id": "76094e1b",
   "metadata": {},
   "outputs": [
    {
     "name": "stdout",
     "output_type": "stream",
     "text": [
      "[0.01821127 0.24519181 0.73659691]\n"
     ]
    }
   ],
   "source": [
    "a = np.array([0.3 , 2.9 , 4.0])\n",
    "y = softmax(a)\n",
    "print(y)"
   ]
  },
  {
   "cell_type": "code",
   "execution_count": 10,
   "id": "854408bc",
   "metadata": {},
   "outputs": [
    {
     "data": {
      "text/plain": [
       "1.0"
      ]
     },
     "execution_count": 10,
     "metadata": {},
     "output_type": "execute_result"
    }
   ],
   "source": [
    "np.sum(y)"
   ]
  },
  {
   "cell_type": "code",
   "execution_count": null,
   "id": "7c48a420",
   "metadata": {},
   "outputs": [],
   "source": []
  }
 ],
 "metadata": {
  "kernelspec": {
   "display_name": "Python 3 (ipykernel)",
   "language": "python",
   "name": "python3"
  },
  "language_info": {
   "codemirror_mode": {
    "name": "ipython",
    "version": 3
   },
   "file_extension": ".py",
   "mimetype": "text/x-python",
   "name": "python",
   "nbconvert_exporter": "python",
   "pygments_lexer": "ipython3",
   "version": "3.9.7"
  }
 },
 "nbformat": 4,
 "nbformat_minor": 5
}
