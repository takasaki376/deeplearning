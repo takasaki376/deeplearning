{
 "cells": [
  {
   "cell_type": "markdown",
   "id": "c4b16684",
   "metadata": {},
   "source": [
    "# 3.6 手描き文字の認識"
   ]
  },
  {
   "cell_type": "markdown",
   "id": "71518ce9",
   "metadata": {},
   "source": [
    "## 3.6.3 バッチ処理"
   ]
  },
  {
   "cell_type": "code",
   "execution_count": 1,
   "id": "46ecafe7",
   "metadata": {},
   "outputs": [],
   "source": [
    "import sys, os\n",
    "sys.path.append(os.pardir)\n",
    "from dataset.mnist import load_mnist\n",
    "import numpy as np\n",
    "# 機械学習\n",
    "import torch\n",
    "# 自動微分\n",
    "from torch.autograd import Variable\n",
    "# ニューラルネットワーク\n",
    "import torch.nn as nn\n",
    "# 活性化関数\n",
    "import torch.nn.functional as F\n",
    "# ユーティリティ\n",
    "from torch.utils.data import DataLoader , TensorDataset , Dataset\n",
    "# 最適化関数\n",
    "import torch.optim as optim"
   ]
  },
  {
   "cell_type": "code",
   "execution_count": 2,
   "id": "55e5e4e5",
   "metadata": {},
   "outputs": [],
   "source": [
    "# データの読み込み\n",
    "def get_data():\n",
    "    (x_train, t_train) , (x_test , t_test) = load_mnist(flatten=True , normalize=True, one_hot_label=False)\n",
    "\n",
    "    # pytorch で読み込める形式に変換する\n",
    "    x_test_torch = torch.from_numpy(x_test).float()\n",
    "    t_test_torch = torch.from_numpy(t_test).long()\n",
    "    return x_test_torch , t_test ,t_test_torch"
   ]
  },
  {
   "cell_type": "code",
   "execution_count": 3,
   "id": "44a39df5",
   "metadata": {},
   "outputs": [
    {
     "name": "stderr",
     "output_type": "stream",
     "text": [
      "<ipython-input-2-bbb77ddbb357>:7: UserWarning: The given NumPy array is not writeable, and PyTorch does not support non-writeable tensors. This means you can write to the underlying (supposedly non-writeable) NumPy array using the tensor. You may want to copy the array to protect its data or make it writeable before converting it to a tensor. This type of warning will be suppressed for the rest of this program. (Triggered internally at  ../torch/csrc/utils/tensor_numpy.cpp:143.)\n",
      "  t_test_torch = torch.from_numpy(t_test).long()\n"
     ]
    },
    {
     "data": {
      "text/plain": [
       "torch.Size([10000])"
      ]
     },
     "execution_count": 3,
     "metadata": {},
     "output_type": "execute_result"
    }
   ],
   "source": [
    "x , t  ,t_tensor= get_data()\n",
    "t_tensor.shape"
   ]
  },
  {
   "cell_type": "markdown",
   "id": "28b29833",
   "metadata": {},
   "source": [
    "## 学習なしで、いきなり予測する。"
   ]
  },
  {
   "cell_type": "code",
   "execution_count": 4,
   "id": "31c1f387",
   "metadata": {},
   "outputs": [],
   "source": [
    "# ニューラルネットワークの定義\n",
    "input_cnt = x.shape[1]\n",
    "node1 = 50\n",
    "node2 = 100\n",
    "node3 = 10\n",
    "\n",
    "class Net1(nn.Module):\n",
    "    def __init__(self):\n",
    "        super(Net1 , self).__init__()\n",
    "        \n",
    "        self.fc1 = nn.Linear(input_cnt , node1)\n",
    "        self.fc2 = nn.Linear(node1 , node2)\n",
    "        self.fc3 = nn.Linear(node2 , node3)\n",
    "    \n",
    "    def forward(self , x):\n",
    "        \n",
    "        a1 = F.sigmoid(self.fc1(x))\n",
    "        a2 = F.sigmoid(self.fc2(a1))\n",
    "        a3 = F.sigmoid(self.fc3(a2))\n",
    "        return F.softmax(a3)   "
   ]
  },
  {
   "cell_type": "code",
   "execution_count": 5,
   "id": "53901d11",
   "metadata": {},
   "outputs": [],
   "source": [
    "# ニューラルネットワーク\n",
    "model1 = Net1()"
   ]
  },
  {
   "cell_type": "code",
   "execution_count": 6,
   "id": "eb4d3137",
   "metadata": {},
   "outputs": [
    {
     "name": "stdout",
     "output_type": "stream",
     "text": [
      "Accuracy:0.1413\n"
     ]
    },
    {
     "name": "stderr",
     "output_type": "stream",
     "text": [
      "/Users/taka-tomo/opt/anaconda3/envs/ml/lib/python3.8/site-packages/torch/nn/functional.py:1709: UserWarning: nn.functional.sigmoid is deprecated. Use torch.sigmoid instead.\n",
      "  warnings.warn(\"nn.functional.sigmoid is deprecated. Use torch.sigmoid instead.\")\n",
      "<ipython-input-4-b936f3b20b4d>:20: UserWarning: Implicit dimension choice for softmax has been deprecated. Change the call to include dim=X as an argument.\n",
      "  return F.softmax(a3)\n"
     ]
    }
   ],
   "source": [
    "batch_size = 100\n",
    "accuracy_cnt = 0\n",
    "\n",
    "dataloader = DataLoader(dataset=x , batch_size=batch_size , shuffle=False)\n",
    "index = 0\n",
    "\n",
    "#for i in range(0 , len(x) , batch_size):\n",
    "#     x_batch = x[i : i+batch_size]\n",
    "for x_batch in dataloader:\n",
    "    index += 1\n",
    "    y_batch = model1(x_batch)\n",
    "    p = np.argmax(Variable(y_batch).numpy(), axis=1)\n",
    "    accuracy_cnt += np.sum(p == t[index : index+batch_size])\n",
    "\n",
    "print(\"Accuracy:\" + str(float(accuracy_cnt) / len(x)) )"
   ]
  },
  {
   "cell_type": "markdown",
   "id": "b15a03a3",
   "metadata": {},
   "source": [
    "<b> ↑ 全然精度が悪い。</b>"
   ]
  },
  {
   "cell_type": "markdown",
   "id": "fc0de2d4",
   "metadata": {},
   "source": [
    "## 学習あり"
   ]
  },
  {
   "cell_type": "code",
   "execution_count": 7,
   "id": "0eb9c797",
   "metadata": {},
   "outputs": [],
   "source": [
    "# ニューラルネットワークの定義\n",
    "input_cnt = x.shape[1]\n",
    "node1 = 50\n",
    "node2 = 100\n",
    "node3 = 10\n",
    "\n",
    "class Net2(nn.Module):\n",
    "    def __init__(self):\n",
    "        super(Net2 , self).__init__()\n",
    "        \n",
    "        self.fc1 = nn.Linear(input_cnt , node1)\n",
    "        self.fc2 = nn.Linear(node1 , node2)\n",
    "        self.fc3 = nn.Linear(node2 , node3)\n",
    "    \n",
    "    def forward(self , x):\n",
    "        \n",
    "        a1 = F.sigmoid(self.fc1(x))\n",
    "        a2 = F.sigmoid(self.fc2(a1))\n",
    "        a3 = F.sigmoid(self.fc3(a2))\n",
    "        return a3"
   ]
  },
  {
   "cell_type": "code",
   "execution_count": 8,
   "id": "eac54c56",
   "metadata": {},
   "outputs": [],
   "source": [
    "model2= Net2()\n",
    "\n",
    "# 損失の定義 (クロスエントロピー誤差)\n",
    "criterion = nn.CrossEntropyLoss()\n",
    "\n",
    "# 最適化のアルゴリズムの選択　（Adam：Stochastic Gradient Descent）\n",
    "## model.parameters  調整する値\n",
    "## lr(learning rate) ：学習率　どれぐらいの幅でパラメータを更新していくのか\n",
    "optimizer = optim.Adam(model2.parameters() , lr=0.01)"
   ]
  },
  {
   "cell_type": "code",
   "execution_count": 9,
   "id": "7bd9d6fd",
   "metadata": {},
   "outputs": [],
   "source": [
    "# バッチサイズ\n",
    "batch_size = 100\n",
    "\n",
    "accuracy_cnt = 0\n",
    "\n",
    "# 学習回数\n",
    "epochs = 200\n",
    "\n",
    "# x と y の値をひとつの変数に格納する\n",
    "train = TensorDataset(x ,t_tensor)\n",
    "train_loader = DataLoader(dataset=train , batch_size=batch_size , shuffle=False)\n",
    "\n",
    "# 誤差の退避領域\n",
    "loss_list = []\n",
    "loss_temp = 0"
   ]
  },
  {
   "cell_type": "code",
   "execution_count": 10,
   "id": "cbb837ee",
   "metadata": {},
   "outputs": [
    {
     "name": "stdout",
     "output_type": "stream",
     "text": [
      "Epoch\t5\t\tLoss\t0.00304159\t\taccuracy:\t81.594%\n",
      "Epoch\t10\t\tLoss\t0.00297724\t\taccuracy:\t95.416%\n",
      "Epoch\t15\t\tLoss\t0.00295766\t\taccuracy:\t97.844%\n",
      "Epoch\t20\t\tLoss\t0.00294501\t\taccuracy:\t98.598%\n",
      "Epoch\t25\t\tLoss\t0.00294371\t\taccuracy:\t98.960%\n",
      "Epoch\t30\t\tLoss\t0.00294370\t\taccuracy:\t98.994%\n",
      "Epoch\t35\t\tLoss\t0.00294183\t\taccuracy:\t98.984%\n",
      "Epoch\t40\t\tLoss\t0.00293587\t\taccuracy:\t99.222%\n",
      "Epoch\t45\t\tLoss\t0.00293696\t\taccuracy:\t99.294%\n",
      "Epoch\t50\t\tLoss\t0.00294104\t\taccuracy:\t99.160%\n",
      "Epoch\t55\t\tLoss\t0.00293825\t\taccuracy:\t99.120%\n",
      "Epoch\t60\t\tLoss\t0.00293596\t\taccuracy:\t99.216%\n",
      "Epoch\t65\t\tLoss\t0.00293401\t\taccuracy:\t99.358%\n",
      "Epoch\t70\t\tLoss\t0.00293479\t\taccuracy:\t99.330%\n",
      "Epoch\t75\t\tLoss\t0.00293665\t\taccuracy:\t99.404%\n",
      "Epoch\t80\t\tLoss\t0.00293039\t\taccuracy:\t99.496%\n",
      "Epoch\t85\t\tLoss\t0.00293004\t\taccuracy:\t99.590%\n",
      "Epoch\t90\t\tLoss\t0.00292987\t\taccuracy:\t99.598%\n",
      "Epoch\t95\t\tLoss\t0.00292987\t\taccuracy:\t99.600%\n",
      "Epoch\t100\t\tLoss\t0.00292986\t\taccuracy:\t99.600%\n",
      "Epoch\t105\t\tLoss\t0.00292983\t\taccuracy:\t99.600%\n",
      "Epoch\t110\t\tLoss\t0.00292980\t\taccuracy:\t99.600%\n",
      "Epoch\t115\t\tLoss\t0.00292980\t\taccuracy:\t99.600%\n",
      "Epoch\t120\t\tLoss\t0.00292980\t\taccuracy:\t99.600%\n",
      "Epoch\t125\t\tLoss\t0.00292980\t\taccuracy:\t99.602%\n",
      "Epoch\t130\t\tLoss\t0.00295032\t\taccuracy:\t97.158%\n",
      "Epoch\t135\t\tLoss\t0.00293616\t\taccuracy:\t98.848%\n",
      "Epoch\t140\t\tLoss\t0.00293366\t\taccuracy:\t99.346%\n",
      "Epoch\t145\t\tLoss\t0.00293282\t\taccuracy:\t99.486%\n",
      "Epoch\t150\t\tLoss\t0.00293318\t\taccuracy:\t99.292%\n",
      "Epoch\t155\t\tLoss\t0.00293127\t\taccuracy:\t99.490%\n",
      "Epoch\t160\t\tLoss\t0.00293114\t\taccuracy:\t99.616%\n",
      "Epoch\t165\t\tLoss\t0.00292967\t\taccuracy:\t99.460%\n",
      "Epoch\t170\t\tLoss\t0.00293140\t\taccuracy:\t99.494%\n",
      "Epoch\t175\t\tLoss\t0.00293216\t\taccuracy:\t99.458%\n",
      "Epoch\t180\t\tLoss\t0.00293100\t\taccuracy:\t99.420%\n",
      "Epoch\t185\t\tLoss\t0.00292910\t\taccuracy:\t99.604%\n",
      "Epoch\t190\t\tLoss\t0.00293387\t\taccuracy:\t99.458%\n",
      "Epoch\t195\t\tLoss\t0.00293270\t\taccuracy:\t99.510%\n",
      "Epoch\t200\t\tLoss\t0.00293078\t\taccuracy:\t99.612%\n"
     ]
    }
   ],
   "source": [
    "# ログ出力する際の間隔\n",
    "logdisp = 5\n",
    "\n",
    "accuracy_list = []\n",
    "correct_counter = 0\n",
    "acccnt=len(x)*logdisp\n",
    "\n",
    "# トレーニングの回数分ループする。\n",
    "for epoch in range(epochs):\n",
    "    # 損失を初期化　\n",
    "    total_loss = 0\n",
    "    \n",
    "    # データの件数分ループする。（x_train , y_train　に１レコードずつ格納される）\n",
    "    for X_train , Y_train in train_loader:\n",
    "        # Variable ：　torch,autograd.Variable  ：テンソルをwrapして計算操作を記録する\n",
    "        x_train ,y_train = Variable(X_train) ,Variable(Y_train)\n",
    "        # 出力を計算する \n",
    "        output = model2(x_train)\n",
    "        # 損失の計算 (出力の結果；output と 正解：y_trainを渡す)\n",
    "        loss = criterion(output ,y_train.data)\n",
    "        \n",
    "        # 損失\n",
    "        y_pred = torch.max(output.data, axis=1)[1]\n",
    "        correct_temp = (y_train == y_pred).sum()\n",
    "        correct_counter += correct_temp\n",
    "        \n",
    "        # パラメータの勾配を初期化する\n",
    "        optimizer.zero_grad()\n",
    "        # ロスを伝播する\n",
    "        loss.backward()\n",
    "        # パラメータを更新する\n",
    "        optimizer.step()\n",
    "        # トータルロスを格納\n",
    "        total_loss += loss.item()\n",
    "        loss_temp += loss\n",
    "\n",
    "    # 一定回数毎に回数とトータルロスを表示する\n",
    "    if (epoch+1)%logdisp == 0:\n",
    "        loss_tmp=total_loss/acccnt\n",
    "        print(f'Epoch\\t{epoch+1}\\t\\tLoss\\t{loss_tmp:.8f}\\t\\taccuracy:\\t{(correct_counter*100)/acccnt:.3f}%')\n",
    "        \n",
    "        accuracy_list.append(correct_counter.item()*100/(acccnt))\n",
    "        loss_list.append(loss_tmp)\n",
    "        loss_temp=0\n",
    "        total_loss=0\n",
    "        correct_counter = 0"
   ]
  },
  {
   "cell_type": "code",
   "execution_count": 11,
   "id": "4fa0b92c",
   "metadata": {},
   "outputs": [
    {
     "name": "stdout",
     "output_type": "stream",
     "text": [
      "Accuracy:0.9957\n"
     ]
    }
   ],
   "source": [
    "y = model2(x)\n",
    "p = np.argmax(Variable(y).numpy(), axis=1)\n",
    "accuracy_cnt += np.sum(p == t)\n",
    "\n",
    "print(\"Accuracy:\" + str(float(accuracy_cnt) / len(x)) )"
   ]
  },
  {
   "cell_type": "code",
   "execution_count": 12,
   "id": "219b823a",
   "metadata": {},
   "outputs": [
    {
     "data": {
      "text/plain": [
       "[<matplotlib.lines.Line2D at 0x7f8f7842be80>]"
      ]
     },
     "execution_count": 12,
     "metadata": {},
     "output_type": "execute_result"
    },
    {
     "data": {
      "image/png": "[encoded data removed]",
      "text/plain": [
       "<Figure size 432x288 with 1 Axes>"
      ]
     },
     "metadata": {
      "needs_background": "light"
     },
     "output_type": "display_data"
    }
   ],
   "source": [
    "import matplotlib.pyplot as plt\n",
    "# 誤差の推移\n",
    "plt.plot(loss_list)"
   ]
  },
  {
   "cell_type": "code",
   "execution_count": 13,
   "id": "e41796fd",
   "metadata": {},
   "outputs": [
    {
     "data": {
      "text/plain": [
       "[<matplotlib.lines.Line2D at 0x7f8f480a20a0>]"
      ]
     },
     "execution_count": 13,
     "metadata": {},
     "output_type": "execute_result"
    },
    {
     "data": {
      "image/png": "[encoded data removed]",
      "text/plain": [
       "<Figure size 432x288 with 1 Axes>"
      ]
     },
     "metadata": {
      "needs_background": "light"
     },
     "output_type": "display_data"
    }
   ],
   "source": [
    "# 正解率の推移\n",
    "plt.plot(accuracy_list)"
   ]
  },
  {
   "cell_type": "code",
   "execution_count": null,
   "id": "971d4348",
   "metadata": {},
   "outputs": [],
   "source": []
  },
  {
   "cell_type": "code",
   "execution_count": null,
   "id": "3b0848bc",
   "metadata": {},
   "outputs": [],
   "source": []
  },
  {
   "cell_type": "markdown",
   "id": "a0e1450e",
   "metadata": {},
   "source": [
    "# 本の結果"
   ]
  },
  {
   "cell_type": "code",
   "execution_count": 8,
   "id": "1912096b",
   "metadata": {},
   "outputs": [
    {
     "name": "stdout",
     "output_type": "stream",
     "text": [
      "Accuracy:0.9352\n"
     ]
    }
   ],
   "source": [
    "batch_size = 100\n",
    "accuracy_cnt = 0\n",
    "for i in range(0 , len(x) , batch_size):\n",
    "    x_batch = x[i : i+batch_size]\n",
    "    y_batch = predict(network , x_batch)\n",
    "    p = np.argmax(y_batch, axis=1)\n",
    "    accuracy_cnt += np.sum(p == t[i : i+batch_size])\n",
    "\n",
    "print(\"Accuracy:\" + str(float(accuracy_cnt) / len(x)) )"
   ]
  },
  {
   "cell_type": "code",
   "execution_count": null,
   "id": "9d38f949",
   "metadata": {},
   "outputs": [],
   "source": []
  },
  {
   "cell_type": "code",
   "execution_count": null,
   "id": "3d80560a",
   "metadata": {},
   "outputs": [],
   "source": []
  }
 ],
 "metadata": {
  "kernelspec": {
   "display_name": "Python 3.8.10 64-bit ('ml': conda)",
   "language": "python",
   "name": "python3810jvsc74a57bd097d3723faa4999a5fbc2f5ff613a8146b45a4dc56859e084e7329fed153e30f7"
  },
  "language_info": {
   "codemirror_mode": {
    "name": "ipython",
    "version": 3
   },
   "file_extension": ".py",
   "mimetype": "text/x-python",
   "name": "python",
   "nbconvert_exporter": "python",
   "pygments_lexer": "ipython3",
   "version": "3.8.10"
  }
 },
 "nbformat": 4,
 "nbformat_minor": 5
}
