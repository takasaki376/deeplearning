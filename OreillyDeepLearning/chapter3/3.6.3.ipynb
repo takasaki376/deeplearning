{
 "cells": [
  {
   "cell_type": "markdown",
   "id": "c4b16684",
   "metadata": {},
   "source": [
    "# 3.6 手描き文字の認識"
   ]
  },
  {
   "cell_type": "markdown",
   "id": "71518ce9",
   "metadata": {},
   "source": [
    "## 3.6.3 バッチ処理"
   ]
  },
  {
   "cell_type": "code",
   "execution_count": 1,
   "id": "46ecafe7",
   "metadata": {},
   "outputs": [],
   "source": [
    "import sys, os\n",
    "sys.path.append(os.pardir)\n",
    "from dataset.mnist import load_mnist\n",
    "import numpy as np\n",
    "import pickle\n",
    "from common.functions import sigmoid, softmax"
   ]
  },
  {
   "cell_type": "code",
   "execution_count": 2,
   "id": "55e5e4e5",
   "metadata": {},
   "outputs": [],
   "source": [
    "def get_data():\n",
    "    (x_train, t_train) , (x_test , t_test) = load_mnist(flatten=True , normalize=True, one_hot_label=False)\n",
    "    return x_test , t_test"
   ]
  },
  {
   "cell_type": "code",
   "execution_count": 3,
   "id": "6685e5ff",
   "metadata": {},
   "outputs": [],
   "source": [
    "def init_network():\n",
    "    with open(\"sample_weight.pkl\" , \"rb\") as f:\n",
    "        network = pickle.load(f)\n",
    "    return network"
   ]
  },
  {
   "cell_type": "code",
   "execution_count": 7,
   "id": "20562e26",
   "metadata": {},
   "outputs": [
    {
     "name": "stdout",
     "output_type": "stream",
     "text": [
      "W1: (784, 50)\n",
      "W2: (50, 100)\n",
      "W3: (100, 10)\n",
      "b1: (50,)\n",
      "b2: (100,)\n",
      "b3: (10,)\n"
     ]
    }
   ],
   "source": [
    "W1, W2, W3 = network['W1'] , network['W2'] , network['W3'] \n",
    "b1, b2, b3 = network['b1'] , network['b2'] , network['b3'] \n",
    "\n",
    "print(\"W1:\" ,W1.shape)\n",
    "print(\"W2:\", W2.shape)\n",
    "print(\"W3:\" ,W3.shape)\n",
    "print(\"b1:\" ,b1.shape)\n",
    "print(\"b2:\" ,b2.shape)\n",
    "print(\"b3:\" ,b3.shape)"
   ]
  },
  {
   "cell_type": "code",
   "execution_count": 8,
   "id": "189fe7fc",
   "metadata": {},
   "outputs": [],
   "source": [
    "def predict(network, x):\n",
    "    W1, W2, W3 = network['W1'] , network['W2'] , network['W3'] \n",
    "    b1, b2, b3 = network['b1'] , network['b2'] , network['b3'] \n",
    "    \n",
    "    a1 = np.dot(x , W1) + b1\n",
    "    z1 = sigmoid(a1)\n",
    "    a2 = np.dot(z1 , W2) + b2\n",
    "    z2 = sigmoid(a2)\n",
    "    a3 = np.dot(z2 , W3) + b3\n",
    "    y = softmax(a3)\n",
    "    return y"
   ]
  },
  {
   "cell_type": "code",
   "execution_count": 6,
   "id": "53901d11",
   "metadata": {},
   "outputs": [],
   "source": [
    "x , t = get_data()\n",
    "network = init_network()"
   ]
  },
  {
   "cell_type": "code",
   "execution_count": 8,
   "id": "1912096b",
   "metadata": {},
   "outputs": [
    {
     "name": "stdout",
     "output_type": "stream",
     "text": [
      "Accuracy:0.9352\n"
     ]
    }
   ],
   "source": [
    "batch_size = 100\n",
    "accuracy_cnt = 0\n",
    "for i in range(0 , len(x) , batch_size):\n",
    "    x_batch = x[i : i+batch_size]\n",
    "    y_batch = predict(network , x_batch)\n",
    "    p = np.argmax(y_batch, axis=1)\n",
    "    accuracy_cnt += np.sum(p == t[i : i+batch_size])\n",
    "\n",
    "print(\"Accuracy:\" + str(float(accuracy_cnt) / len(x)) )"
   ]
  },
  {
   "cell_type": "code",
   "execution_count": null,
   "id": "9d38f949",
   "metadata": {},
   "outputs": [],
   "source": []
  },
  {
   "cell_type": "code",
   "execution_count": null,
   "id": "3d80560a",
   "metadata": {},
   "outputs": [],
   "source": []
  }
 ],
 "metadata": {
  "kernelspec": {
   "display_name": "Python 3.8.10 64-bit ('ml': conda)",
   "language": "python",
   "name": "python3810jvsc74a57bd097d3723faa4999a5fbc2f5ff613a8146b45a4dc56859e084e7329fed153e30f7"
  },
  "language_info": {
   "codemirror_mode": {
    "name": "ipython",
    "version": 3
   },
   "file_extension": ".py",
   "mimetype": "text/x-python",
   "name": "python",
   "nbconvert_exporter": "python",
   "pygments_lexer": "ipython3",
   "version": "3.8.10"
  }
 },
 "nbformat": 4,
 "nbformat_minor": 5
}
