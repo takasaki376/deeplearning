{
 "cells": [
  {
   "cell_type": "code",
   "execution_count": 2,
   "id": "9f82082b",
   "metadata": {},
   "outputs": [],
   "source": [
    "import numpy as np"
   ]
  },
  {
   "cell_type": "markdown",
   "id": "6787cc33",
   "metadata": {},
   "source": [
    "# 4.3.3 偏微分"
   ]
  },
  {
   "cell_type": "code",
   "execution_count": 3,
   "id": "f00e331d",
   "metadata": {},
   "outputs": [],
   "source": [
    "def function_2(x):\n",
    "    return np.sum(x**2)"
   ]
  },
  {
   "cell_type": "markdown",
   "id": "56e248ca",
   "metadata": {},
   "source": [
    "# 4.4 勾配"
   ]
  },
  {
   "cell_type": "code",
   "execution_count": 10,
   "id": "11260500",
   "metadata": {},
   "outputs": [],
   "source": [
    "def numerical_gradient(f , x):\n",
    "    h = np.exp(-4)\n",
    "    grad = np.zeros_like(x)  # x と同じ形状の配列を生成する\n",
    "    \n",
    "    for idx in range(x.size):\n",
    "        tmp_val = x[idx]\n",
    "        \n",
    "        # f(x+h)の計算\n",
    "        x[idx] = tmp_val + h\n",
    "        fxh1 = f(x)\n",
    "        \n",
    "        # f(x+h)の計算\n",
    "        x[idx] = tmp_val - h\n",
    "        fxh2 = f(x)\n",
    "        \n",
    "        grad[idx] = (fxh1 - fxh2)  / (2*h)\n",
    "        x[idx] = tmp_val   # 値を元に戻す\n",
    "    \n",
    "    return grad"
   ]
  },
  {
   "cell_type": "code",
   "execution_count": 15,
   "id": "c9fc2fb9",
   "metadata": {},
   "outputs": [
    {
     "data": {
      "text/plain": [
       "array([6., 8.])"
      ]
     },
     "execution_count": 15,
     "metadata": {},
     "output_type": "execute_result"
    }
   ],
   "source": [
    "a = np.array([3.0 , 4.0])\n",
    "numerical_gradient(function_2 , a)"
   ]
  },
  {
   "cell_type": "code",
   "execution_count": 16,
   "id": "9a51116c",
   "metadata": {},
   "outputs": [
    {
     "data": {
      "text/plain": [
       "array([0., 4.])"
      ]
     },
     "execution_count": 16,
     "metadata": {},
     "output_type": "execute_result"
    }
   ],
   "source": [
    "b = np.array([0.0 , 2.0])\n",
    "numerical_gradient(function_2 , b)"
   ]
  },
  {
   "cell_type": "code",
   "execution_count": 17,
   "id": "26055292",
   "metadata": {},
   "outputs": [],
   "source": [
    "def gradient_descent(f , init_x , lr=0.01 , step_num=100):\n",
    "    x = init_x\n",
    "    \n",
    "    for i in range(step_num):\n",
    "        grad = numerical_gradient(f , x)\n",
    "        x -= lr * grad\n",
    "    return x"
   ]
  },
  {
   "cell_type": "code",
   "execution_count": 18,
   "id": "413b3eea",
   "metadata": {},
   "outputs": [],
   "source": [
    "def function_2(x):\n",
    "    return x[0]**2 + x[1]**2"
   ]
  },
  {
   "cell_type": "code",
   "execution_count": 20,
   "id": "124f201b",
   "metadata": {},
   "outputs": [
    {
     "data": {
      "text/plain": [
       "array([-6.11110793e-10,  8.14814390e-10])"
      ]
     },
     "execution_count": 20,
     "metadata": {},
     "output_type": "execute_result"
    }
   ],
   "source": [
    "init_x = np.array([-3.0 , 4.0])\n",
    "gradient_descent(function_2 , init_x=init_x , lr=0.1 , step_num=100)"
   ]
  },
  {
   "cell_type": "code",
   "execution_count": 23,
   "id": "8502d5ce",
   "metadata": {},
   "outputs": [
    {
     "data": {
      "text/plain": [
       "array([ 3.94190998e+14, -5.00769798e+14])"
      ]
     },
     "execution_count": 23,
     "metadata": {},
     "output_type": "execute_result"
    }
   ],
   "source": [
    "init_x = np.array([-3.0 , 4.0])\n",
    "gradient_descent(function_2 , init_x=init_x , lr=10 , step_num=100)"
   ]
  },
  {
   "cell_type": "code",
   "execution_count": 25,
   "id": "6a5b3cd7",
   "metadata": {},
   "outputs": [
    {
     "data": {
      "text/plain": [
       "array([-2.97288211,  3.96384282])"
      ]
     },
     "execution_count": 25,
     "metadata": {},
     "output_type": "execute_result"
    }
   ],
   "source": [
    "init_x = np.array([-3.0 , 4.0])\n",
    "gradient_descent(function_2 , init_x=init_x , lr=np.exp(-10) , step_num=100)"
   ]
  },
  {
   "cell_type": "code",
   "execution_count": null,
   "id": "704a19a0",
   "metadata": {},
   "outputs": [],
   "source": []
  }
 ],
 "metadata": {
  "kernelspec": {
   "display_name": "Python 3.8.10 64-bit ('ml': conda)",
   "language": "python",
   "name": "python3810jvsc74a57bd097d3723faa4999a5fbc2f5ff613a8146b45a4dc56859e084e7329fed153e30f7"
  },
  "language_info": {
   "codemirror_mode": {
    "name": "ipython",
    "version": 3
   },
   "file_extension": ".py",
   "mimetype": "text/x-python",
   "name": "python",
   "nbconvert_exporter": "python",
   "pygments_lexer": "ipython3",
   "version": "3.8.10"
  }
 },
 "nbformat": 4,
 "nbformat_minor": 5
}
