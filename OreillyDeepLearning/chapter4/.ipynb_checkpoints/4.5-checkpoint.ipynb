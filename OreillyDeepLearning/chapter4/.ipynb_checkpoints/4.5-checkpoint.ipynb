{
 "cells": [
  {
   "cell_type": "code",
   "execution_count": 1,
   "id": "e052c050",
   "metadata": {},
   "outputs": [],
   "source": [
    "import sys , os\n",
    "sys.path.append(os.pardir)\n",
    "from common.functions import *\n",
    "from common.gradient import numerical_gradient\n",
    "import numpy as np"
   ]
  },
  {
   "cell_type": "markdown",
   "id": "e4905c5a",
   "metadata": {},
   "source": [
    "# ニューラルネットワークの実装"
   ]
  },
  {
   "cell_type": "code",
   "execution_count": 2,
   "id": "3306c18a",
   "metadata": {},
   "outputs": [],
   "source": [
    "class TwoLayerNet:\n",
    "    \n",
    "    def __init__(self , input_size , hidden_size , output_size , weight_init_std=0.01):\n",
    "        \n",
    "        # 重みの初期化\n",
    "        self.params = {}\n",
    "        self.params[\"W1\"] = weight_init_std * np.random.randn(input_size , hidden_size)\n",
    "        self.params[\"b1\"]  = np.zeros(hidden_size)\n",
    "        self.params[\"W2\"] = weight_init_std * np.random.randn(hidden_size , output_size)\n",
    "        self.params[\"b2\"] = np.zeros(output_size)\n",
    "        \n",
    "    def predict(self , x):\n",
    "        \n",
    "        W1 ,W2 = self.params[\"W1\"] , self.params[\"W2\"]\n",
    "        b1 ,b2 = self.params[\"b1\"] , self.params[\"b2\"]\n",
    "        \n",
    "        a1 = np.dot(x ,W1) + b1\n",
    "        z1 = sigmoid(a1)\n",
    "        a2 = np.dot(z1 ,W2) + b2\n",
    "        y = softmax(a2)\n",
    "        \n",
    "        return y\n",
    "    \n",
    "    # x : 入力データ、 t ：　教師データ\n",
    "    def loss(self , x , t):\n",
    "        y = self.predict(x)\n",
    "        \n",
    "        return cross_entropy_error(y , t)\n",
    "    \n",
    "    def accuracy(self , x , t):\n",
    "        y = self.predict(x)\n",
    "        y = np.argmax(y , axis=1)\n",
    "        t = np.argmax(t , axis=1)\n",
    "        \n",
    "        accuracy = np.sum(y == t) / float(x.shape[0])\n",
    "        return accuracy\n",
    "    \n",
    "    def numerical_gradient(self , x , t):\n",
    "        loss_W = lambda W : self.loss(x ,t)\n",
    "        grads = {}\n",
    "        grads[\"W1\"] = numerical_gradient(loss_W , self.params[\"W1\"])\n",
    "        grads[\"b1\"] = numerical_gradient(loss_W , self.params[\"b1\"])\n",
    "        grads[\"W2\"] = numerical_gradient(loss_W , self.params[\"W2\"])\n",
    "        grads[\"b2\"] = numerical_gradient(loss_W , self.params[\"b2\"])\n",
    "        \n",
    "        return grads"
   ]
  },
  {
   "cell_type": "code",
   "execution_count": 3,
   "id": "39fd996d",
   "metadata": {},
   "outputs": [],
   "source": [
    "from dataset.mnist import load_mnist\n",
    "(x_train, t_train) , (x_test , t_test) = load_mnist(normalize=True , one_hot_label=True)"
   ]
  },
  {
   "cell_type": "code",
   "execution_count": 4,
   "id": "e8a35bbd",
   "metadata": {},
   "outputs": [
    {
     "name": "stdout",
     "output_type": "stream",
     "text": [
      "(60000, 784)\n"
     ]
    }
   ],
   "source": [
    "print(x_train.shape)"
   ]
  },
  {
   "cell_type": "code",
   "execution_count": 5,
   "id": "4ff8fc45",
   "metadata": {},
   "outputs": [],
   "source": [
    "train_loss_list = []"
   ]
  },
  {
   "cell_type": "code",
   "execution_count": 6,
   "id": "caeec4a6",
   "metadata": {},
   "outputs": [],
   "source": [
    "# ハイパーパラメータ\n",
    "iters_num = 1000\n",
    "train_size = x_train.shape[0]\n",
    "batch_size = 100\n",
    "lr = 0.1"
   ]
  },
  {
   "cell_type": "code",
   "execution_count": 7,
   "id": "1b52769b",
   "metadata": {},
   "outputs": [],
   "source": [
    "network = TwoLayerNet(input_size=784, hidden_size=50 , output_size=10)\n"
   ]
  },
  {
   "cell_type": "code",
   "execution_count": null,
   "id": "7d9001fd",
   "metadata": {},
   "outputs": [],
   "source": [
    "for idx in range(iters_num):\n",
    "    # ミニバッチの取得\n",
    "    batch_mask = np.random.choice(train_size , batch_size)\n",
    "    x_batch = x_train[batch_mask]\n",
    "    t_batch = t_train[batch_mask]\n",
    "    \n",
    "    # 勾配の計算\n",
    "    grad = network.numerical_gradient(x_batch , t_batch)\n",
    "    \n",
    "    # パラメータの更新\n",
    "    for key in (\"W1\" , \"b1\" , \"W2\" , \"b2\"):\n",
    "        network.params[key] -= lr * grad[key]\n",
    "    \n",
    "    # 学習経過の記録\n",
    "    loss = network.loss(x_batch , t_batch)\n",
    "    train_loss_list.append(loss)"
   ]
  },
  {
   "cell_type": "code",
   "execution_count": null,
   "id": "2d0b7a0a",
   "metadata": {},
   "outputs": [],
   "source": [
    "from matplotlib import pyplot as plt"
   ]
  },
  {
   "cell_type": "code",
   "execution_count": null,
   "id": "2976225f",
   "metadata": {},
   "outputs": [],
   "source": [
    "x = np.arange(0 , 9999 , 1)   # 0から9999まで1刻みで生成\n",
    "plt.plot(x,train_loss_list)\n",
    "plt.show() "
   ]
  },
  {
   "cell_type": "code",
   "execution_count": null,
   "id": "2fee74b0",
   "metadata": {},
   "outputs": [],
   "source": []
  }
 ],
 "metadata": {
  "kernelspec": {
   "display_name": "Python 3.8.10 64-bit ('ml': conda)",
   "language": "python",
   "name": "python3810jvsc74a57bd097d3723faa4999a5fbc2f5ff613a8146b45a4dc56859e084e7329fed153e30f7"
  },
  "language_info": {
   "codemirror_mode": {
    "name": "ipython",
    "version": 3
   },
   "file_extension": ".py",
   "mimetype": "text/x-python",
   "name": "python",
   "nbconvert_exporter": "python",
   "pygments_lexer": "ipython3",
   "version": "3.8.10"
  }
 },
 "nbformat": 4,
 "nbformat_minor": 5
}
