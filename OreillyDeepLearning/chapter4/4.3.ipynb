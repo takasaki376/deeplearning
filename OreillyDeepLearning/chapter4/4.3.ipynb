{
 "cells": [
  {
   "cell_type": "markdown",
   "id": "a6c0f0d8",
   "metadata": {},
   "source": [
    "# 実データ（を想定したサンプル）"
   ]
  },
  {
   "cell_type": "code",
   "execution_count": 4,
   "id": "fe16a0a0",
   "metadata": {},
   "outputs": [],
   "source": [
    "import numpy as np\n",
    "import matplotlib.pyplot as plt\n",
    "import japanize_matplotlib\n",
    "import pandas as pd"
   ]
  },
  {
   "cell_type": "code",
   "execution_count": 20,
   "id": "f4b492a3",
   "metadata": {},
   "outputs": [
    {
     "data": {
      "text/html": [
       "<div>\n",
       "<style scoped>\n",
       "    .dataframe tbody tr th:only-of-type {\n",
       "        vertical-align: middle;\n",
       "    }\n",
       "\n",
       "    .dataframe tbody tr th {\n",
       "        vertical-align: top;\n",
       "    }\n",
       "\n",
       "    .dataframe thead th {\n",
       "        text-align: right;\n",
       "    }\n",
       "</style>\n",
       "<table border=\"1\" class=\"dataframe\">\n",
       "  <thead>\n",
       "    <tr style=\"text-align: right;\">\n",
       "      <th></th>\n",
       "      <th>気温</th>\n",
       "      <th>個数</th>\n",
       "    </tr>\n",
       "  </thead>\n",
       "  <tbody>\n",
       "    <tr>\n",
       "      <th>0</th>\n",
       "      <td>-2</td>\n",
       "      <td>2</td>\n",
       "    </tr>\n",
       "    <tr>\n",
       "      <th>1</th>\n",
       "      <td>26</td>\n",
       "      <td>22</td>\n",
       "    </tr>\n",
       "    <tr>\n",
       "      <th>2</th>\n",
       "      <td>28</td>\n",
       "      <td>26</td>\n",
       "    </tr>\n",
       "  </tbody>\n",
       "</table>\n",
       "</div>"
      ],
      "text/plain": [
       "   気温  個数\n",
       "0  -2   2\n",
       "1  26  22\n",
       "2  28  26"
      ]
     },
     "execution_count": 20,
     "metadata": {},
     "output_type": "execute_result"
    }
   ],
   "source": [
    "df = pd.DataFrame([[-2,2] , [26, 22] , [28,26]] , columns=['気温','個数'])\n",
    "df"
   ]
  },
  {
   "cell_type": "code",
   "execution_count": 21,
   "id": "43953641",
   "metadata": {},
   "outputs": [
    {
     "data": {
      "text/plain": [
       "Text(0, 0.5, '売れた個数')"
      ]
     },
     "execution_count": 21,
     "metadata": {},
     "output_type": "execute_result"
    },
    {
     "data": {
      "image/png": "[encoded data removed]",
      "text/plain": [
       "<Figure size 432x288 with 1 Axes>"
      ]
     },
     "metadata": {
      "needs_background": "light"
     },
     "output_type": "display_data"
    }
   ],
   "source": [
    "# 入力データ（気温）\n",
    "x = np.array([-2,26,28])\n",
    "# 出力データ（それぞれ、気温に対してアイスクリームが売れた個数とする）\n",
    "y = np.array([2,22,26])\n",
    "\n",
    "plt.scatter(x,y,s=100,c='blue',label= '実際に売れた個数')\n",
    "\n",
    "plt.legend(loc='upper left')\n",
    "plt.title('アイスクリームと気温の関係')    \n",
    "plt.xlabel('気温')   \n",
    "plt.ylabel('売れた個数')  "
   ]
  },
  {
   "cell_type": "markdown",
   "id": "c0184e85",
   "metadata": {},
   "source": [
    "# ①モデルを決定する\n",
    "モデルは人が決める。\n",
    "今回は一次間数とする"
   ]
  },
  {
   "cell_type": "markdown",
   "id": "27dc6ca6",
   "metadata": {},
   "source": [
    "$$\n",
    "y = ax + b\n",
    "$$"
   ]
  },
  {
   "cell_type": "markdown",
   "id": "85e7158d",
   "metadata": {},
   "source": [
    "$a$と$b$を求める事ができたらゴール"
   ]
  },
  {
   "cell_type": "markdown",
   "id": "cf59e97c",
   "metadata": {},
   "source": [
    "# ②評価関数を決める\n",
    "平均二乗平方根誤差（RMSE）とする"
   ]
  },
  {
   "cell_type": "markdown",
   "id": "8b3214d9",
   "metadata": {},
   "source": [
    "### モデルに対して、実データを代入する。\n",
    "\n",
    "$$ \n",
    "    \\begin{cases}\n",
    "        x=-2 \\quad 正解(y)は2、予測値は、-2a \\\\\n",
    "        x=26 \\quad 正解(y)は22、予測値は、26a \\\\\n",
    "        x=28 \\quad 正解(y)は26、予測値は、28a \\\\\n",
    "    \\end{cases}\n",
    "$$\n"
   ]
  },
  {
   "cell_type": "markdown",
   "id": "6e7628ad",
   "metadata": {},
   "source": [
    "### 誤差を求める\n",
    "\n",
    "$$ \n",
    "\\begin{aligned}\n",
    "s &= (2 + 2a)^2 + (22 - 26a)^2 + (26 - 28a)^2  \\\\\n",
    "&= (4a^2 + 4a + 4) + (676a^2 - 572a + 484) + (784a^2 - 728a + 676) \\\\\n",
    "&= 1464a^2 - 1296a + 1164 \\\\\n",
    "\\frac{s}{12} &= 122a^2 - 108a + 97\n",
    "\\end{aligned}\n",
    "$$"
   ]
  },
  {
   "cell_type": "markdown",
   "id": "fdf325f9",
   "metadata": {},
   "source": [
    "$\\frac{s}{12}$でも、$s$でも、$a$の最小値は変わらない"
   ]
  },
  {
   "cell_type": "code",
   "execution_count": 24,
   "id": "8bfe1492",
   "metadata": {},
   "outputs": [
    {
     "data": {
      "text/plain": [
       "<function matplotlib.pyplot.show(close=None, block=None)>"
      ]
     },
     "execution_count": 24,
     "metadata": {},
     "output_type": "execute_result"
    },
    {
     "data": {
      "image/png": "[encoded data removed]",
      "text/plain": [
       "<Figure size 432x288 with 1 Axes>"
      ]
     },
     "metadata": {
      "needs_background": "light"
     },
     "output_type": "display_data"
    }
   ],
   "source": [
    "x1 = np.linspace(-500 , 500)\n",
    "y1 = (122 * x1 ** 2 ) - (108 * x1) + 97\n",
    "plt.plot(x1 , y1)\n",
    "plt.hlines([5],x1.min(),x1.max(), \"black\", linestyles='dashed')\n",
    "\n",
    "plt.annotate('傾きが０となる接線の接点を求める',\n",
    "             xy=(x1.max()-100 , 5), xycoords='data',\n",
    "             xytext=(+20, +30), textcoords='offset points', fontsize=16,\n",
    "             arrowprops=dict(arrowstyle=\"->\", connectionstyle=\"arc3,rad=.3\"))\n",
    "plt.show"
   ]
  },
  {
   "cell_type": "markdown",
   "id": "e235642e",
   "metadata": {},
   "source": [
    "# ③評価関数を最小化する （ここで微分を使う）"
   ]
  },
  {
   "cell_type": "markdown",
   "id": "82b229b8",
   "metadata": {},
   "source": [
    "$\\frac{s}{12}=E$として、評価関数を$a$で微分する\n",
    "\n",
    "$$ \n",
    "\\begin{aligned}\n",
    "E &= 122a^2 - 108a + 97 \\\\[8px]\n",
    "\\frac{dE}{ds} &= 244a -108 \\\\[8px]\n",
    "\\end{aligned}\n",
    "$$\n",
    "\n",
    "誤差を最小化するには$E$が０となる場合の$a$を求める\n",
    "$$ \n",
    "\\begin{aligned}\n",
    "0 &= 244a -108 \\\\[4px]\n",
    "244a &= 108 \\\\[8px]\n",
    "a &= \\frac{108}{244} \\\\\n",
    "&= \\frac{27}{61} \\\\\n",
    "\\end{aligned}\n",
    "$$\n",
    "\n"
   ]
  },
  {
   "cell_type": "code",
   "execution_count": 29,
   "id": "eedede59",
   "metadata": {},
   "outputs": [],
   "source": [
    "a = 27 / 61"
   ]
  },
  {
   "cell_type": "markdown",
   "id": "f847516b",
   "metadata": {},
   "source": [
    "# ④切片を求める"
   ]
  },
  {
   "cell_type": "markdown",
   "id": "1fa025c9",
   "metadata": {},
   "source": [
    "### データの中心化"
   ]
  },
  {
   "cell_type": "code",
   "execution_count": 25,
   "id": "2eba7dd5",
   "metadata": {},
   "outputs": [
    {
     "name": "stdout",
     "output_type": "stream",
     "text": [
      "x中心化： [-19.33333333   8.66666667  10.66666667]\n",
      "y中心化： [-14.66666667   5.33333333   9.33333333]\n"
     ]
    }
   ],
   "source": [
    "xc = x - x.mean()\n",
    "yc = y - y.mean()\n",
    "print('x中心化：', xc)\n",
    "print('y中心化：', yc)"
   ]
  },
  {
   "cell_type": "code",
   "execution_count": 27,
   "id": "80f1091e",
   "metadata": {},
   "outputs": [
    {
     "data": {
      "text/plain": [
       "<function matplotlib.pyplot.show(close=None, block=None)>"
      ]
     },
     "execution_count": 27,
     "metadata": {},
     "output_type": "execute_result"
    },
    {
     "data": {
      "image/png": "[encoded data removed]",
      "text/plain": [
       "<Figure size 432x288 with 1 Axes>"
      ]
     },
     "metadata": {
      "needs_background": "light"
     },
     "output_type": "display_data"
    }
   ],
   "source": [
    "# 中心化後の散布図描画\n",
    "plt.scatter(xc,yc,s=100,c='blue',label= 'data')\n",
    "plt.hlines([0] ,xc.min() ,xc.max() , \"black\", linestyles='dashed')\n",
    "plt.vlines([0] ,yc.min() ,yc.max() , \"black\", linestyles='dashed')\n",
    "\n",
    "plt.legend(loc='upper left')\n",
    "plt.title('アイスクリームと気温の関係')    \n",
    "plt.xlabel('気温')   \n",
    "plt.ylabel('売れた個数')   \n",
    "\n",
    "plt.show"
   ]
  },
  {
   "cell_type": "code",
   "execution_count": 30,
   "id": "653c85f1",
   "metadata": {},
   "outputs": [
    {
     "name": "stdout",
     "output_type": "stream",
     "text": [
      "切片 8.994535519125684\n"
     ]
    }
   ],
   "source": [
    "# 切片を求める\n",
    "b=y.mean() - (a * x.mean())\n",
    "print('切片',b)"
   ]
  },
  {
   "cell_type": "markdown",
   "id": "f145f3bb",
   "metadata": {},
   "source": [
    "# ⑤予測する"
   ]
  },
  {
   "cell_type": "code",
   "execution_count": 32,
   "id": "3c6a227e",
   "metadata": {},
   "outputs": [
    {
     "name": "stdout",
     "output_type": "stream",
     "text": [
      "[-2 26 28]\n",
      "[ 8.10928962 20.50273224 21.38797814]\n"
     ]
    },
    {
     "data": {
      "text/plain": [
       "<function matplotlib.pyplot.show(close=None, block=None)>"
      ]
     },
     "execution_count": 32,
     "metadata": {},
     "output_type": "execute_result"
    },
    {
     "data": {
      "image/png": "[encoded data removed]",
      "text/plain": [
       "<Figure size 432x288 with 1 Axes>"
      ]
     },
     "metadata": {
      "needs_background": "light"
     },
     "output_type": "display_data"
    }
   ],
   "source": [
    "# 求まった傾きから、モデルを定義する\n",
    "y_hat=a * x + b \n",
    "\n",
    "# 散布図\n",
    "plt.scatter(x,y,s=100,c='blue',label= 'data')\n",
    "plt.plot(x , y_hat, c='red' ,label='モデル')\n",
    "# plt.hlines([0],xc.min(),xc.max(), \"black\", linestyles='dashed')\n",
    "# plt.vlines([0],yc.min(),y_hat.max(), \"black\", linestyles='dashed')\n",
    "\n",
    "plt.legend(loc='upper left')\n",
    "plt.title('アイスクリームと気温の関係')    \n",
    "plt.xlabel('気温')   \n",
    "plt.ylabel('売れた個数')   \n",
    "\n",
    "plt.show"
   ]
  },
  {
   "cell_type": "code",
   "execution_count": null,
   "id": "4f84d726",
   "metadata": {},
   "outputs": [],
   "source": []
  }
 ],
 "metadata": {
  "interpreter": {
   "hash": "97d3723faa4999a5fbc2f5ff613a8146b45a4dc56859e084e7329fed153e30f7"
  },
  "kernelspec": {
   "display_name": "Python 3.8.10 64-bit ('ml': conda)",
   "language": "python",
   "name": "python3810jvsc74a57bd097d3723faa4999a5fbc2f5ff613a8146b45a4dc56859e084e7329fed153e30f7"
  },
  "language_info": {
   "codemirror_mode": {
    "name": "ipython",
    "version": 3
   },
   "file_extension": ".py",
   "mimetype": "text/x-python",
   "name": "python",
   "nbconvert_exporter": "python",
   "pygments_lexer": "ipython3",
   "version": "3.8.10"
  }
 },
 "nbformat": 4,
 "nbformat_minor": 5
}
