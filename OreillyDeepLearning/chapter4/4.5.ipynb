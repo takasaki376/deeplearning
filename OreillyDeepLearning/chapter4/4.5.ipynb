{
 "cells": [
  {
   "cell_type": "code",
   "execution_count": 1,
   "id": "e052c050",
   "metadata": {},
   "outputs": [],
   "source": [
    "import sys , os\n",
    "sys.path.append(os.pardir)\n",
    "from common.functions import *\n",
    "#from common.gradient import numerical_gradient\n",
    "import numpy as np"
   ]
  },
  {
   "cell_type": "markdown",
   "id": "e4905c5a",
   "metadata": {},
   "source": [
    "# ニューラルネットワークの実装"
   ]
  },
  {
   "cell_type": "code",
   "execution_count": 2,
   "id": "3306c18a",
   "metadata": {},
   "outputs": [],
   "source": [
    "class TwoLayerNet:\n",
    "    \n",
    "    def __init__(self , input_size , hidden_size , output_size , weight_init_std=0.01):\n",
    "        \n",
    "        # 重みの初期化\n",
    "        self.params = {}\n",
    "        self.params[\"W1\"] = weight_init_std * np.random.randn(input_size , hidden_size)\n",
    "        self.params[\"b1\"]  = np.zeros(hidden_size)\n",
    "        self.params[\"W2\"] = weight_init_std * np.random.randn(hidden_size , output_size)\n",
    "        self.params[\"b2\"] = np.zeros(output_size)\n",
    "        \n",
    "    def predict(self , x):\n",
    "        \n",
    "        W1 ,W2 = self.params[\"W1\"] , self.params[\"W2\"]\n",
    "        b1 ,b2 = self.params[\"b1\"] , self.params[\"b2\"]\n",
    "        \n",
    "        a1 = np.dot(x ,W1) + b1\n",
    "        z1 = sigmoid(a1)\n",
    "        a2 = np.dot(z1 ,W2) + b2\n",
    "        y = softmax(a2)\n",
    "        \n",
    "        return y\n",
    "    \n",
    "    # x : 入力データ、 t ：　教師データ\n",
    "    def loss(self , x , t):\n",
    "        y = self.predict(x)\n",
    "        \n",
    "        return cross_entropy_error(y , t)\n",
    "    \n",
    "    def accuracy(self , x , t):\n",
    "        y = self.predict(x)\n",
    "        y = np.argmax(y , axis=1)\n",
    "        t = np.argmax(t , axis=1)\n",
    "        \n",
    "        accuracy = np.sum(y == t) / float(x.shape[0])\n",
    "        return accuracy\n",
    "    \n",
    "#     def numerical_gradient(self , x , t):\n",
    "#         loss_W = lambda W : self.loss(x ,t)\n",
    "#         grads = {}\n",
    "#         grads[\"W1\"] = numerical_gradient(loss_W , self.params[\"W1\"])\n",
    "#         grads[\"b1\"] = numerical_gradient(loss_W , self.params[\"b1\"])\n",
    "#         grads[\"W2\"] = numerical_gradient(loss_W , self.params[\"W2\"])\n",
    "#         grads[\"b2\"] = numerical_gradient(loss_W , self.params[\"b2\"])\n",
    "        \n",
    "#         return grads\n",
    "    \n",
    "    def gradient(self, x, t):\n",
    "        W1, W2 = self.params['W1'], self.params['W2']\n",
    "        b1, b2 = self.params['b1'], self.params['b2']\n",
    "        grads = {}\n",
    "        \n",
    "        batch_num = x.shape[0]\n",
    "        \n",
    "        # forward\n",
    "        a1 = np.dot(x, W1) + b1\n",
    "        z1 = sigmoid(a1)\n",
    "        a2 = np.dot(z1, W2) + b2\n",
    "        y = softmax(a2)\n",
    "        \n",
    "        # backward\n",
    "        dy = (y - t) / batch_num\n",
    "        grads['W2'] = np.dot(z1.T, dy)\n",
    "        grads['b2'] = np.sum(dy, axis=0)\n",
    "        \n",
    "        dz1 = np.dot(dy, W2.T)\n",
    "        da1 = sigmoid_grad(a1) * dz1\n",
    "        grads['W1'] = np.dot(x.T, da1)\n",
    "        grads['b1'] = np.sum(da1, axis=0)\n",
    "\n",
    "        return grads"
   ]
  },
  {
   "cell_type": "code",
   "execution_count": 3,
   "id": "39fd996d",
   "metadata": {},
   "outputs": [],
   "source": [
    "from dataset.mnist import load_mnist\n",
    "(x_train, t_train) , (x_test , t_test) = load_mnist(normalize=True , one_hot_label=True)"
   ]
  },
  {
   "cell_type": "code",
   "execution_count": 4,
   "id": "e8a35bbd",
   "metadata": {},
   "outputs": [
    {
     "name": "stdout",
     "output_type": "stream",
     "text": [
      "(60000, 784)\n"
     ]
    }
   ],
   "source": [
    "print(x_train.shape)"
   ]
  },
  {
   "cell_type": "code",
   "execution_count": 5,
   "id": "4ff8fc45",
   "metadata": {},
   "outputs": [],
   "source": [
    "train_loss_list = []\n",
    "train_acc_list = []\n",
    "test_acc_list = []"
   ]
  },
  {
   "cell_type": "code",
   "execution_count": 6,
   "id": "caeec4a6",
   "metadata": {},
   "outputs": [],
   "source": [
    "# ハイパーパラメータ\n",
    "iters_num = 10000\n",
    "train_size = x_train.shape[0]\n",
    "batch_size = 100\n",
    "lr = 0.1\n",
    "iter_per_epoch = max(train_size / batch_size, 1)"
   ]
  },
  {
   "cell_type": "code",
   "execution_count": 7,
   "id": "1b52769b",
   "metadata": {},
   "outputs": [],
   "source": [
    "network = TwoLayerNet(input_size=784, hidden_size=50 , output_size=10)\n"
   ]
  },
  {
   "cell_type": "code",
   "execution_count": 8,
   "id": "7d9001fd",
   "metadata": {},
   "outputs": [
    {
     "name": "stdout",
     "output_type": "stream",
     "text": [
      "train acc, test acc | 0.09751666666666667, 0.0974\n",
      "train acc, test acc | 0.7891333333333334, 0.7937\n",
      "train acc, test acc | 0.8765333333333334, 0.88\n",
      "train acc, test acc | 0.8967666666666667, 0.8996\n",
      "train acc, test acc | 0.9079166666666667, 0.9092\n",
      "train acc, test acc | 0.9142, 0.9151\n",
      "train acc, test acc | 0.919, 0.9226\n",
      "train acc, test acc | 0.92315, 0.9251\n",
      "train acc, test acc | 0.9266833333333333, 0.9291\n",
      "train acc, test acc | 0.9295333333333333, 0.9315\n",
      "train acc, test acc | 0.9332666666666667, 0.9354\n",
      "train acc, test acc | 0.9356166666666667, 0.9374\n",
      "train acc, test acc | 0.9378333333333333, 0.9379\n",
      "train acc, test acc | 0.9402, 0.9405\n",
      "train acc, test acc | 0.9429666666666666, 0.943\n",
      "train acc, test acc | 0.9453166666666667, 0.9437\n",
      "train acc, test acc | 0.9466833333333333, 0.9449\n"
     ]
    }
   ],
   "source": [
    "for idx in range(iters_num):\n",
    "    # ミニバッチの取得\n",
    "    batch_mask = np.random.choice(train_size , batch_size)\n",
    "    x_batch = x_train[batch_mask]\n",
    "    t_batch = t_train[batch_mask]\n",
    "    \n",
    "    # 勾配の計算\n",
    "    #grad = network.numerical_gradient(x_batch , t_batch)\n",
    "    grad = network.gradient(x_batch , t_batch)\n",
    "    \n",
    "    # パラメータの更新\n",
    "    for key in (\"W1\" , \"b1\" , \"W2\" , \"b2\"):\n",
    "        network.params[key] -= lr * grad[key]\n",
    "    \n",
    "    # 　ロスの退避\n",
    "    loss = network.loss(x_batch , t_batch)\n",
    "    train_loss_list.append(loss)\n",
    "    \n",
    "    # 正解率の計算と退避\n",
    "    if idx % iter_per_epoch == 0:\n",
    "        train_acc = network.accuracy(x_train, t_train)\n",
    "        test_acc = network.accuracy(x_test, t_test)\n",
    "        train_acc_list.append(train_acc)\n",
    "        test_acc_list.append(test_acc)\n",
    "        print(\"train acc, test acc | \" + str(train_acc) + \", \" + str(test_acc))"
   ]
  },
  {
   "cell_type": "code",
   "execution_count": 9,
   "id": "2d0b7a0a",
   "metadata": {},
   "outputs": [],
   "source": [
    "from matplotlib import pyplot as plt"
   ]
  },
  {
   "cell_type": "code",
   "execution_count": 10,
   "id": "2976225f",
   "metadata": {},
   "outputs": [
    {
     "data": {
      "image/png": "[encoded data removed]",
      "text/plain": [
       "<Figure size 432x288 with 1 Axes>"
      ]
     },
     "metadata": {
      "needs_background": "light"
     },
     "output_type": "display_data"
    }
   ],
   "source": [
    "# グラフの描画\n",
    "markers = {'train': 'o', 'test': 's'}\n",
    "x = np.arange(len(train_acc_list))\n",
    "plt.plot(x, train_acc_list, label='train acc')\n",
    "plt.plot(x, test_acc_list, label='test acc', linestyle='--')\n",
    "plt.xlabel(\"epochs\")\n",
    "plt.ylabel(\"accuracy\")\n",
    "plt.ylim(0, 1.0)\n",
    "plt.legend(loc='lower right')\n",
    "plt.show()"
   ]
  },
  {
   "cell_type": "code",
   "execution_count": 12,
   "id": "2fee74b0",
   "metadata": {},
   "outputs": [
    {
     "data": {
      "image/png": "[encoded data removed]",
      "text/plain": [
       "<Figure size 432x288 with 1 Axes>"
      ]
     },
     "metadata": {
      "needs_background": "light"
     },
     "output_type": "display_data"
    }
   ],
   "source": [
    "# グラフの描画\n",
    "markers = {'loss': 'o'}\n",
    "x = np.arange(len(train_loss_list))\n",
    "plt.plot(x, train_loss_list, label='train loss')\n",
    "plt.xlabel(\"epochs\")\n",
    "plt.ylabel(\"loss\")\n",
    "plt.ylim(0, 1.0)\n",
    "plt.legend(loc='lower right')\n",
    "plt.show()"
   ]
  },
  {
   "cell_type": "code",
   "execution_count": null,
   "id": "f2be8bc4",
   "metadata": {},
   "outputs": [],
   "source": []
  }
 ],
 "metadata": {
  "kernelspec": {
   "display_name": "Python 3.8.10 64-bit ('ml': conda)",
   "language": "python",
   "name": "python3810jvsc74a57bd097d3723faa4999a5fbc2f5ff613a8146b45a4dc56859e084e7329fed153e30f7"
  },
  "language_info": {
   "codemirror_mode": {
    "name": "ipython",
    "version": 3
   },
   "file_extension": ".py",
   "mimetype": "text/x-python",
   "name": "python",
   "nbconvert_exporter": "python",
   "pygments_lexer": "ipython3",
   "version": "3.8.10"
  }
 },
 "nbformat": 4,
 "nbformat_minor": 5
}
