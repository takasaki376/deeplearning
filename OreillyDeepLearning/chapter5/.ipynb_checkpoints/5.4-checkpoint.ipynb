{
 "cells": [
  {
   "cell_type": "markdown",
   "id": "arctic-strengthening",
   "metadata": {},
   "source": [
    "# 5.4 単純なレイヤの実装"
   ]
  },
  {
   "cell_type": "markdown",
   "id": "daily-southwest",
   "metadata": {},
   "source": [
    "## 5.4.1　乗算レイヤの実装"
   ]
  },
  {
   "cell_type": "code",
   "execution_count": 2,
   "id": "julian-relay",
   "metadata": {},
   "outputs": [],
   "source": [
    "class MulLayer:\n",
    "    def __init__(self):\n",
    "        self.x = None\n",
    "        self.y = None\n",
    "    \n",
    "    def forward(self , x , y):\n",
    "        self.x = x\n",
    "        self.y = y\n",
    "        out = x * y\n",
    "        return out\n",
    "    \n",
    "    def backward(self , dout):\n",
    "        dx = dout * self.y  # xとyをひっくる変えす\n",
    "        dy = dout * self.x\n",
    "        return dx , dy\n",
    "    "
   ]
  },
  {
   "cell_type": "code",
   "execution_count": 3,
   "id": "japanese-aaron",
   "metadata": {},
   "outputs": [
    {
     "name": "stdout",
     "output_type": "stream",
     "text": [
      "220.00000000000003\n"
     ]
    }
   ],
   "source": [
    "apple = 100\n",
    "apple_num = 2\n",
    "tax = 1.1\n",
    "\n",
    "# layer\n",
    "mul_apple_layer = MulLayer()\n",
    "mul_tax_layer = MulLayer()\n",
    "\n",
    "# forward\n",
    "apple_price = mul_apple_layer.forward(apple , apple_num)\n",
    "price = mul_tax_layer.forward(apple_price , tax)\n",
    "\n",
    "print(price)"
   ]
  },
  {
   "cell_type": "code",
   "execution_count": 6,
   "id": "efficient-spanking",
   "metadata": {},
   "outputs": [
    {
     "name": "stdout",
     "output_type": "stream",
     "text": [
      "apple= 2.2 :num= 110.00000000000001 :tax= 200\n"
     ]
    }
   ],
   "source": [
    "# backward\n",
    "dprice = 1\n",
    "dapple_price , dtax = mul_tax_layer.backward(dprice)\n",
    "\n",
    "dapple ,daaple_num = mul_apple_layer.backward(dapple_price)\n",
    "\n",
    "print(\"apple=\" , dapple ,\":num=\" ,daaple_num ,\":tax=\" ,dtax)"
   ]
  },
  {
   "cell_type": "markdown",
   "id": "split-prize",
   "metadata": {},
   "source": [
    "## 5.4.2　加算レイアの実装"
   ]
  },
  {
   "cell_type": "code",
   "execution_count": 7,
   "id": "orange-county",
   "metadata": {},
   "outputs": [],
   "source": [
    "class AddLayer:\n",
    "    def __init__(self):\n",
    "        pass\n",
    "    \n",
    "    def forward(self , x , y):\n",
    "        out = x + y\n",
    "        return out\n",
    "    \n",
    "    def backward(self , dout):\n",
    "        dx = dout * 1\n",
    "        dy = dout * 1\n",
    "        return dx , dy\n",
    "    "
   ]
  },
  {
   "cell_type": "code",
   "execution_count": 9,
   "id": "interracial-asthma",
   "metadata": {},
   "outputs": [
    {
     "name": "stdout",
     "output_type": "stream",
     "text": [
      "715.0000000000001\n"
     ]
    }
   ],
   "source": [
    "apple = 100\n",
    "apple_num = 2\n",
    "orange = 150\n",
    "orange_num = 3\n",
    "tax = 1.1\n",
    "\n",
    "# layer\n",
    "mul_apple_layer = MulLayer() \n",
    "mul_orange_layer = MulLayer()\n",
    "add_apple_orange_layer = AddLayer()\n",
    "mul_tax_layer = MulLayer()\n",
    "\n",
    "# forward\n",
    "apple_price = mul_apple_layer.forward(apple , apple_num)\n",
    "orange_price = mul_orange_layer.forward(orange , orange_num)\n",
    "all_price = add_apple_orange_layer.forward(apple_price , orange_price)\n",
    "price = mul_tax_layer.forward(all_price , tax)\n",
    "\n",
    "print(price)"
   ]
  },
  {
   "cell_type": "code",
   "execution_count": 11,
   "id": "endless-trinidad",
   "metadata": {},
   "outputs": [
    {
     "name": "stdout",
     "output_type": "stream",
     "text": [
      "all_price= 1.1 :tax= 650\n",
      "orange= 3.3000000000000003 :num= 165.0\n",
      "apple= 2.2 :num= 110.00000000000001\n"
     ]
    }
   ],
   "source": [
    "# backward\n",
    "dprice = 1\n",
    "\n",
    "dall_price ,dtax = mul_tax_layer.backward(dprice)\n",
    "dapple_price , dorange_price = add_apple_orange_layer.backward(dall_price)\n",
    "dorange , dorange_num = mul_orange_layer.backward(dorange_price)\n",
    "dapple ,daaple_num = mul_apple_layer.backward(dapple_price)\n",
    "\n",
    "print(\"all_price=\" ,dall_price ,\":tax=\" ,dtax )\n",
    "print(\"orange=\" , dorange ,\":num=\" ,dorange_num )\n",
    "print(\"apple=\" , dapple ,\":num=\" ,daaple_num )"
   ]
  },
  {
   "cell_type": "markdown",
   "id": "legislative-ladder",
   "metadata": {},
   "source": [
    "# 5.5 活性化関数レイアの実装"
   ]
  },
  {
   "cell_type": "markdown",
   "id": "suspended-arthur",
   "metadata": {},
   "source": [
    "## 5.5.1 Reluレイヤ"
   ]
  },
  {
   "cell_type": "code",
   "execution_count": 12,
   "id": "honey-income",
   "metadata": {},
   "outputs": [],
   "source": [
    "class Relu:\n",
    "    def __init__(self):\n",
    "        self.mask = None\n",
    "    \n",
    "    def forward(self ,x):\n",
    "        self.mask = (x <= 0)\n",
    "        out = x.copy()\n",
    "        out[self.mask] = 0\n",
    "        return out\n",
    "    \n",
    "    def backward(self, dout):\n",
    "        dout[self.mask] = 0\n",
    "        dx = dout\n",
    "        return dx"
   ]
  },
  {
   "cell_type": "code",
   "execution_count": 13,
   "id": "positive-survivor",
   "metadata": {},
   "outputs": [
    {
     "name": "stdout",
     "output_type": "stream",
     "text": [
      "[[ 1.  -0.5]\n",
      " [-2.   3. ]]\n",
      "[[False  True]\n",
      " [ True False]]\n"
     ]
    }
   ],
   "source": [
    "import numpy as np\n",
    "x = np.array([[1.0, -0.5] , [-2.0, 3.0]])\n",
    "print(x)\n",
    "\n",
    "mask = (x <= 0)\n",
    "print(mask)"
   ]
  },
  {
   "cell_type": "code",
   "execution_count": null,
   "id": "second-tucson",
   "metadata": {},
   "outputs": [],
   "source": []
  }
 ],
 "metadata": {
  "kernelspec": {
   "display_name": "Python 3",
   "language": "python",
   "name": "python3"
  },
  "language_info": {
   "codemirror_mode": {
    "name": "ipython",
    "version": 3
   },
   "file_extension": ".py",
   "mimetype": "text/x-python",
   "name": "python",
   "nbconvert_exporter": "python",
   "pygments_lexer": "ipython3",
   "version": "3.8.5"
  }
 },
 "nbformat": 4,
 "nbformat_minor": 5
}
