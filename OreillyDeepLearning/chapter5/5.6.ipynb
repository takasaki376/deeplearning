{
 "cells": [
  {
   "cell_type": "markdown",
   "id": "22368243",
   "metadata": {},
   "source": [
    "# 5.6 Affine ／ Softmaxレイヤの実装"
   ]
  },
  {
   "cell_type": "markdown",
   "id": "95f50fe4",
   "metadata": {},
   "source": [
    "## 5.6.1 Affineレイヤ\n",
    "ニューラルネットワークの順伝播で行う行列の積は、幾何学の分野では「アフィン変換」と呼ばれます。そのため、ここではアフィン変換を行う処理を「Affineレイヤ」という名前にします。"
   ]
  },
  {
   "cell_type": "markdown",
   "id": "0893d44e",
   "metadata": {},
   "source": [
    "順伝播の場合は下記の計算式となります。\n",
    "\\begin{aligned}\n",
    "\\mathbf{Y} = \\mathbf{X} \\cdot \\mathbf{W} + \\mathbf{B}\n",
    "\\end{aligned}\n",
    "\n",
    "逆伝播の場合は、下記の式が得られます。\n",
    "\\begin{aligned}\n",
    "\\frac{\\partial L}{\\partial \\mathbf{X}} &= \\frac{\\partial L}{\\partial \\mathbf{Y}} \\cdot \\mathbf{W}^T \\\\[8px]\n",
    "\\frac{\\partial L}{\\partial \\mathbf{W}} &= \\mathbf{W}^T  \\cdot \\frac{\\partial L}{\\partial \\mathbf{Y}}\n",
    "\\end{aligned}"
   ]
  },
  {
   "cell_type": "markdown",
   "id": "2051e4a7",
   "metadata": {},
   "source": [
    "## 5.6.2 バッチ版Affineレイヤ"
   ]
  },
  {
   "cell_type": "code",
   "execution_count": 1,
   "id": "d9c31a13",
   "metadata": {},
   "outputs": [],
   "source": [
    "class Affine:\n",
    "    def __init__(self, W, b):\n",
    "        self.W =W\n",
    "        self.b = b\n",
    "        \n",
    "        self.x = None\n",
    "        self.original_x_shape = None\n",
    "        # 重み・バイアスパラメータの微分\n",
    "        self.dW = None\n",
    "        self.db = None\n",
    "\n",
    "    def forward(self, x):\n",
    "        # テンソル対応\n",
    "        self.original_x_shape = x.shape\n",
    "        x = x.reshape(x.shape[0], -1)\n",
    "        self.x = x\n",
    "\n",
    "        out = np.dot(self.x, self.W) + self.b\n",
    "\n",
    "        return out\n",
    "\n",
    "    def backward(self, dout):\n",
    "        dx = np.dot(dout, self.W.T)\n",
    "        self.dW = np.dot(self.x.T, dout)\n",
    "        self.db = np.sum(dout, axis=0)\n",
    "        \n",
    "        dx = dx.reshape(*self.original_x_shape)  # 入力データの形状に戻す（テンソル対応）\n",
    "        return dx"
   ]
  },
  {
   "cell_type": "markdown",
   "id": "41f6072f",
   "metadata": {},
   "source": [
    "## 5.6.3 Softmax-with-Lossレイヤ\n",
    "\n",
    "出力層であるソフトマックス関数について説明します。ソフトマックス関数は、（復習になりますが）入力された値を正規化して出力します。（出力の輪が１になるように変形） \\\n",
    "ここでは、損失関数である交差エントロピー誤差（cross entropy error）も含めて、「Softmax-with-Lossレイヤ」という名前のレイヤで実装します。"
   ]
  },
  {
   "cell_type": "code",
   "execution_count": 2,
   "id": "954cdbe6",
   "metadata": {},
   "outputs": [],
   "source": [
    "class SoftmaxWithLoss:\n",
    "    def __init__(self):\n",
    "        self.loss = None\n",
    "        self.y = None # softmaxの出力\n",
    "        self.t = None # 教師データ\n",
    "\n",
    "    def forward(self, x, t):\n",
    "        self.t = t\n",
    "        self.y = softmax(x)\n",
    "        self.loss = cross_entropy_error(self.y, self.t)\n",
    "        \n",
    "        return self.loss\n",
    "\n",
    "    def backward(self, dout=1):\n",
    "        batch_size = self.t.shape[0]\n",
    "        if self.t.size == self.y.size: # 教師データがone-hot-vectorの場合\n",
    "            dx = (self.y - self.t) / batch_size\n",
    "        else:\n",
    "            dx = self.y.copy()\n",
    "            dx[np.arange(batch_size), self.t] -= 1\n",
    "            dx = dx / batch_size\n",
    "        \n",
    "        return dx\n"
   ]
  }
 ],
 "metadata": {
  "kernelspec": {
   "display_name": "Python 3 (ipykernel)",
   "language": "python",
   "name": "python3"
  },
  "language_info": {
   "codemirror_mode": {
    "name": "ipython",
    "version": 3
   },
   "file_extension": ".py",
   "mimetype": "text/x-python",
   "name": "python",
   "nbconvert_exporter": "python",
   "pygments_lexer": "ipython3",
   "version": "3.9.7"
  }
 },
 "nbformat": 4,
 "nbformat_minor": 5
}
