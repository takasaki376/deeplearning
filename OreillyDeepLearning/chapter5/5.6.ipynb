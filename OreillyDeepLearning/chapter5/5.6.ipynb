{
 "cells": [
  {
   "cell_type": "markdown",
   "id": "22368243",
   "metadata": {},
   "source": [
    "# 5.6 Affine ／ Softmaxレイヤの実装"
   ]
  },
  {
   "cell_type": "markdown",
   "id": "95f50fe4",
   "metadata": {},
   "source": [
    "## 5.5.1 Affineレイヤ\n",
    "ニューラルネットワークの順伝播で行う行列の積は、幾何学の分野では「アフィン変換」と呼ばれます。そのため、ここではアフィン変換を行う処理を「Affineレイヤ」という名前にします。"
   ]
  },
  {
   "cell_type": "markdown",
   "id": "0893d44e",
   "metadata": {},
   "source": [
    "順伝播の場合は下記の計算式となります。\n",
    "\\begin{aligned}\n",
    "\\mathbf{Y} = \\mathbf{X} \\cdot \\mathbf{W} + \\mathbf{B}\n",
    "\\end{aligned}\n",
    "\n",
    "逆伝播の場合は、下記の式が得られます。\n",
    "\\begin{aligned}\n",
    "\\frac{\\partial L}{\\partial \\mathbf{X}} &= \\frac{\\partial L}{\\partial \\mathbf{Y}} \\cdot \\mathbf{W}^T \\\\[8px]\n",
    "\\frac{\\partial L}{\\partial \\mathbf{W}} &= \\mathbf{W}^T  \\cdot \\frac{\\partial L}{\\partial \\mathbf{Y}}\n",
    "\\end{aligned}"
   ]
  },
  {
   "cell_type": "code",
   "execution_count": null,
   "id": "d9c31a13",
   "metadata": {},
   "outputs": [],
   "source": []
  }
 ],
 "metadata": {
  "kernelspec": {
   "display_name": "Python 3 (ipykernel)",
   "language": "python",
   "name": "python3"
  },
  "language_info": {
   "codemirror_mode": {
    "name": "ipython",
    "version": 3
   },
   "file_extension": ".py",
   "mimetype": "text/x-python",
   "name": "python",
   "nbconvert_exporter": "python",
   "pygments_lexer": "ipython3",
   "version": "3.9.7"
  }
 },
 "nbformat": 4,
 "nbformat_minor": 5
}
