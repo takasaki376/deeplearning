{
 "cells": [
  {
   "cell_type": "markdown",
   "id": "ec39f638",
   "metadata": {},
   "source": [
    "# 6章　学習に関するテクニック"
   ]
  },
  {
   "cell_type": "markdown",
   "id": "69105d46",
   "metadata": {},
   "source": [
    "## 6.1.2 SGD"
   ]
  },
  {
   "cell_type": "code",
   "execution_count": 2,
   "id": "f6e632cf",
   "metadata": {},
   "outputs": [],
   "source": [
    "# 確率的勾配降下法（Stochastic Gradient Descent）\n",
    "class SGD:\n",
    "\n",
    "    def __init__(self, lr=0.01):\n",
    "        self.lr = lr\n",
    "        \n",
    "    def update(self, params, grads):\n",
    "        for key in params.keys():\n",
    "            params[key] -= self.lr * grads[key] "
   ]
  },
  {
   "cell_type": "markdown",
   "id": "53918092",
   "metadata": {},
   "source": [
    "## 6.1.2 SGDの欠点"
   ]
  },
  {
   "cell_type": "markdown",
   "id": "974cabf9",
   "metadata": {},
   "source": [
    "SGDは単純で実装も簡単ですが、問題によっては非効率な場合があります。ここでは、SGDの欠点を指摘するにあたって、次の関数の最小値を求める問題を考えたいと思います。\n",
    "\\begin{aligned}\n",
    "f(x,y) = \\frac{1}{20}x^2 + y^2\n",
    "\\end{aligned}"
   ]
  },
  {
   "cell_type": "code",
   "execution_count": null,
   "id": "94e50f4d",
   "metadata": {},
   "outputs": [],
   "source": []
  }
 ],
 "metadata": {
  "kernelspec": {
   "display_name": "Python 3 (ipykernel)",
   "language": "python",
   "name": "python3"
  },
  "language_info": {
   "codemirror_mode": {
    "name": "ipython",
    "version": 3
   },
   "file_extension": ".py",
   "mimetype": "text/x-python",
   "name": "python",
   "nbconvert_exporter": "python",
   "pygments_lexer": "ipython3",
   "version": "3.9.7"
  }
 },
 "nbformat": 4,
 "nbformat_minor": 5
}
