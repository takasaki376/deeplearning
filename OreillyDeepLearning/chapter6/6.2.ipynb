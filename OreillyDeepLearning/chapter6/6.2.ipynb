{
 "cells": [
  {
   "cell_type": "markdown",
   "id": "e7fc62cb",
   "metadata": {},
   "source": [
    "## 6.2.1 重みの初期値を０にする？\n",
    "\n",
    "過学習を抑え、汎化性能を高めるテクニックとして、この後、Weight decay(荷重減衰）という手法を紹介します。 \\\n",
    "Weight decayとは、簡単に言えば、重みパラメータの値が小さくなるように学習を行う事を目的とした手法です。重みの値を小さくすることで、過学習が起きにくくなります。 \\\n",
    "重みを小さいに値にしたければ、初期値もできるだけ小さい値からスタートするのが正攻法でしょう。実際、これまで重みの初期値は、$0.01 * np.random.randn(10, 100)$のように、ガウス分布から生成される値を0.01倍した小さな値（標準偏差が0.01のガウス分布）を用いました。 \\\n",
    "重みの値を小さくいたいというのであれば、重みの初期値をすべて０に設定する、というのはどうでしょうか。答えを先に言ってしまうと、正しい学習が行えません。 \\\n",
    "なぜ、重みの初期値を０ににしてはいけない（正確には、重みを均一な値に設定してはいけない）のでしょうか。それは、誤差逆伝播法において、全ての重みの値が均一に（同じように）更新されてしまうからです。 \\\n",
    "この「重みが均一になってしまうこと」を防ぐ（正確には、重みの対照的な構造を崩す）ために、ランダムな初期値が必要なのです。"
   ]
  },
  {
   "cell_type": "markdown",
   "id": "27b62788",
   "metadata": {},
   "source": [
    "## 6.2.2　隠れ層のアクティベーション分布\n",
    "\n",
    "５層のニューラルネットワークに、ランダムに生成したデータを流し、各層のアクティベーションのデータ分布をヒストグラムで描画します。 \\\n",
    "ここでは５つの層のそれぞれが、１００個のニューロンを持つものとします。そして、入力データとして１０００個のデータをガウス分布でランダムに生成し、５層ニューラルネットワークに流します。活性化関数にシグモイド関数を利用します。 \\\n",
    "このコードで注意すべき点は、重みのスケールについてです。このスケールを変えることで、アクティベーションの分布がどのように変化するかを観察することが、この実験の目的です。"
   ]
  },
  {
   "cell_type": "code",
   "execution_count": 2,
   "id": "9225b668",
   "metadata": {},
   "outputs": [
    {
     "data": {
      "image/png": "[encoded data removed]",
      "text/plain": [
       "<Figure size 432x288 with 5 Axes>"
      ]
     },
     "metadata": {
      "needs_background": "light"
     },
     "output_type": "display_data"
    }
   ],
   "source": [
    "import numpy as np\n",
    "import matplotlib.pyplot as plt\n",
    "\n",
    "\n",
    "def sigmoid(x):\n",
    "    return 1 / (1 + np.exp(-x))\n",
    "\n",
    "\n",
    "def ReLU(x):\n",
    "    return np.maximum(0, x)\n",
    "\n",
    "\n",
    "def tanh(x):\n",
    "    return np.tanh(x)\n",
    "    \n",
    "input_data = np.random.randn(1000, 100)  # 1000個のデータ\n",
    "node_num = 100  # 各隠れ層のノード（ニューロン）の数\n",
    "hidden_layer_size = 5  # 隠れ層が5層\n",
    "activations = {}  # ここにアクティベーションの結果を格納する\n",
    "\n",
    "x = input_data\n",
    "\n",
    "for i in range(hidden_layer_size):\n",
    "    if i != 0:\n",
    "        x = activations[i-1]\n",
    "\n",
    "    # 初期値の値をいろいろ変えて実験しよう！\n",
    "    w = np.random.randn(node_num, node_num) * 1\n",
    "    # w = np.random.randn(node_num, node_num) * 0.01\n",
    "    # w = np.random.randn(node_num, node_num) * np.sqrt(1.0 / node_num)\n",
    "    # w = np.random.randn(node_num, node_num) * np.sqrt(2.0 / node_num)\n",
    "\n",
    "\n",
    "    a = np.dot(x, w)\n",
    "\n",
    "\n",
    "    # 活性化関数の種類も変えて実験しよう！\n",
    "    z = sigmoid(a)\n",
    "    # z = ReLU(a)\n",
    "    # z = tanh(a)\n",
    "\n",
    "    activations[i] = z\n",
    "\n",
    "# ヒストグラムを描画\n",
    "for i, a in activations.items():\n",
    "    plt.subplot(1, len(activations), i+1)\n",
    "    plt.title(str(i+1) + \"-layer\")\n",
    "    if i != 0: plt.yticks([], [])\n",
    "    # plt.xlim(0.1, 1)\n",
    "    # plt.ylim(0, 7000)\n",
    "    plt.hist(a.flatten(), 30, range=(0,1))\n",
    "plt.show()"
   ]
  },
  {
   "cell_type": "markdown",
   "id": "62bebdaf",
   "metadata": {},
   "source": [
    "重みの初期値として標準偏差が１のガウス分布を用いています。 \\\n",
    "各層のアクティベーション分布は０と１に偏った分布になっている事がわかります。\n",
    "\n",
    "次に標準偏差を0.01としたガウス分布の場合、各層のアクティベーションの分布は下のようになります。 \\\n",
    "今度は、0.5付近に集中する分布となりました。先ほどの例のように０と１への偏りはないので、勾配消失の問題は起きていません。しかく、アクティベーションに偏りあるということは、表現力の点で大きなお問題があります。なぜなら、複数のニューロンがほとんど同じ値を出力するとすれば、複数のニューロンが存在する意味がなくなってしまうからです。"
   ]
  },
  {
   "cell_type": "code",
   "execution_count": 2,
   "id": "b707d27c",
   "metadata": {},
   "outputs": [
    {
     "data": {
      "image/png": "[encoded data removed]",
      "text/plain": [
       "<Figure size 432x288 with 5 Axes>"
      ]
     },
     "metadata": {
      "needs_background": "light"
     },
     "output_type": "display_data"
    }
   ],
   "source": [
    "import numpy as np\n",
    "import matplotlib.pyplot as plt\n",
    "\n",
    "\n",
    "def sigmoid(x):\n",
    "    return 1 / (1 + np.exp(-x))\n",
    "\n",
    "\n",
    "def ReLU(x):\n",
    "    return np.maximum(0, x)\n",
    "\n",
    "\n",
    "def tanh(x):\n",
    "    return np.tanh(x)\n",
    "    \n",
    "input_data = np.random.randn(1000, 100)  # 1000個のデータ\n",
    "node_num = 100  # 各隠れ層のノード（ニューロン）の数\n",
    "hidden_layer_size = 5  # 隠れ層が5層\n",
    "activations = {}  # ここにアクティベーションの結果を格納する\n",
    "\n",
    "x = input_data\n",
    "\n",
    "for i in range(hidden_layer_size):\n",
    "    if i != 0:\n",
    "        x = activations[i-1]\n",
    "\n",
    "    # 初期値の値をいろいろ変えて実験しよう！\n",
    "    # w = np.random.randn(node_num, node_num) * 1\n",
    "    w = np.random.randn(node_num, node_num) * 0.01\n",
    "    # w = np.random.randn(node_num, node_num) * np.sqrt(1.0 / node_num)\n",
    "    # w = np.random.randn(node_num, node_num) * np.sqrt(2.0 / node_num)\n",
    "\n",
    "\n",
    "    a = np.dot(x, w)\n",
    "\n",
    "\n",
    "    # 活性化関数の種類も変えて実験しよう！\n",
    "    z = sigmoid(a)\n",
    "    # z = ReLU(a)\n",
    "    # z = tanh(a)\n",
    "\n",
    "    activations[i] = z\n",
    "\n",
    "# ヒストグラムを描画\n",
    "for i, a in activations.items():\n",
    "    plt.subplot(1, len(activations), i+1)\n",
    "    plt.title(str(i+1) + \"-layer\")\n",
    "    if i != 0: plt.yticks([], [])\n",
    "    # plt.xlim(0.1, 1)\n",
    "    # plt.ylim(0, 7000)\n",
    "    plt.hist(a.flatten(), 30, range=(0,1))\n",
    "plt.show()"
   ]
  },
  {
   "cell_type": "markdown",
   "id": "43478cfa",
   "metadata": {},
   "source": [
    "続いて、「Xavierの初期値」を使ってみたいと思います。 \\\n",
    "「Xavierの初期値」を用いると、前層のノードの数が多ければ多いほど、対象ノードの初期値として設定する重みのスケールは小さくなります。\n",
    "「Xavierの初期値」を使った結果は下のようになります。この結果を見ると、上位の層に行くにつれて、ややいびつな形になりますが、これまでよりも広がりがあるので、シグモイド関数の表現も制限されることなく、効率的に学習が行えることが期待できます。"
   ]
  },
  {
   "cell_type": "code",
   "execution_count": 3,
   "id": "05510e01",
   "metadata": {},
   "outputs": [
    {
     "data": {
      "image/png": "[encoded data removed]",
      "text/plain": [
       "<Figure size 432x288 with 5 Axes>"
      ]
     },
     "metadata": {
      "needs_background": "light"
     },
     "output_type": "display_data"
    }
   ],
   "source": [
    "import numpy as np\n",
    "import matplotlib.pyplot as plt\n",
    "\n",
    "\n",
    "def sigmoid(x):\n",
    "    return 1 / (1 + np.exp(-x))\n",
    "\n",
    "\n",
    "def ReLU(x):\n",
    "    return np.maximum(0, x)\n",
    "\n",
    "\n",
    "def tanh(x):\n",
    "    return np.tanh(x)\n",
    "    \n",
    "input_data = np.random.randn(1000, 100)  # 1000個のデータ\n",
    "node_num = 100  # 各隠れ層のノード（ニューロン）の数\n",
    "hidden_layer_size = 5  # 隠れ層が5層\n",
    "activations = {}  # ここにアクティベーションの結果を格納する\n",
    "\n",
    "x = input_data\n",
    "\n",
    "for i in range(hidden_layer_size):\n",
    "    if i != 0:\n",
    "        x = activations[i-1]\n",
    "\n",
    "    # 初期値の値をいろいろ変えて実験しよう！\n",
    "    # w = np.random.randn(node_num, node_num) * 1\n",
    "    # w = np.random.randn(node_num, node_num) * 0.01\n",
    "    w = np.random.randn(node_num, node_num) * np.sqrt(1.0 / node_num)\n",
    "    # w = np.random.randn(node_num, node_num) * np.sqrt(2.0 / node_num)\n",
    "\n",
    "\n",
    "    a = np.dot(x, w)\n",
    "\n",
    "\n",
    "    # 活性化関数の種類も変えて実験しよう！\n",
    "    z = sigmoid(a)\n",
    "    # z = ReLU(a)\n",
    "    # z = tanh(a)\n",
    "\n",
    "    activations[i] = z\n",
    "\n",
    "# ヒストグラムを描画\n",
    "for i, a in activations.items():\n",
    "    plt.subplot(1, len(activations), i+1)\n",
    "    plt.title(str(i+1) + \"-layer\")\n",
    "    if i != 0: plt.yticks([], [])\n",
    "    # plt.xlim(0.1, 1)\n",
    "    # plt.ylim(0, 7000)\n",
    "    plt.hist(a.flatten(), 30, range=(0,1))\n",
    "plt.show()"
   ]
  },
  {
   "cell_type": "markdown",
   "id": "addd113e",
   "metadata": {},
   "source": [
    "## 6.2.3　ReLUの場合の重みの初期値\n",
    "\n",
    "\n",
    "「Xavierの初期値」は、活性化関数が線形であることを前提に導いた結果です。`sigmoid`関数や`tanh`関数は左右対称で中央付近が線形関数としてみなせるので、「Xavierの初期値」が適してします。一方、ReLUを用いる場合は、ReLUに特化した初期値を用いる事が推奨されています。それは、「Heの初期値」です。 \\\n",
    "「Heの初期値」は前層のノードの数が、ｎ個の場合、$\\sqrt{\\frac{2}{n}}$を標準偏差とするガウス分布を用います。「Xavierの初期値」が$\\sqrt{\\frac{1}{n}}$であったことを考えると、ReLUの場合は負の領域が０になるため、より広がりを持たせるために倍の係数が必要になると（直感的には）解釈できます。"
   ]
  },
  {
   "cell_type": "code",
   "execution_count": null,
   "id": "da980133",
   "metadata": {},
   "outputs": [],
   "source": []
  },
  {
   "cell_type": "code",
   "execution_count": null,
   "id": "1528ccbe",
   "metadata": {},
   "outputs": [],
   "source": []
  },
  {
   "cell_type": "markdown",
   "id": "03a4420d",
   "metadata": {},
   "source": [
    "## 6.2.4 MINSTデータセットによる重みの初期値の比較"
   ]
  },
  {
   "cell_type": "code",
   "execution_count": 1,
   "id": "5d767508",
   "metadata": {},
   "outputs": [
    {
     "name": "stdout",
     "output_type": "stream",
     "text": [
      "===========iteration:0===========\n",
      "std=0.01:2.3025207035983497\n",
      "Xavier:2.3129893850623473\n",
      "He:2.365530489849057\n",
      "===========iteration:100===========\n",
      "std=0.01:2.3020577857424556\n",
      "Xavier:2.263314802291702\n",
      "He:1.79220803943551\n",
      "===========iteration:200===========\n",
      "std=0.01:2.30229598464096\n",
      "Xavier:2.196263132052474\n",
      "He:0.9932716882297774\n",
      "===========iteration:300===========\n",
      "std=0.01:2.2993620821223435\n",
      "Xavier:1.8634845283646277\n",
      "He:0.5294422986575256\n",
      "===========iteration:400===========\n",
      "std=0.01:2.3022093333956954\n",
      "Xavier:1.4401164749979056\n",
      "He:0.5147844466744378\n",
      "===========iteration:500===========\n",
      "std=0.01:2.300489342694332\n",
      "Xavier:0.9505699743917322\n",
      "He:0.40549792705451587\n",
      "===========iteration:600===========\n",
      "std=0.01:2.299440536405686\n",
      "Xavier:0.737551402123091\n",
      "He:0.36804357149804134\n",
      "===========iteration:700===========\n",
      "std=0.01:2.2995353904392\n",
      "Xavier:0.5954779997001205\n",
      "He:0.3249348144786473\n",
      "===========iteration:800===========\n",
      "std=0.01:2.3039366550370715\n",
      "Xavier:0.5247066884758522\n",
      "He:0.28919377749137937\n",
      "===========iteration:900===========\n",
      "std=0.01:2.297328650267308\n",
      "Xavier:0.47341458228364475\n",
      "He:0.2699347732692694\n",
      "===========iteration:1000===========\n",
      "std=0.01:2.3007153544793866\n",
      "Xavier:0.5225993685302928\n",
      "He:0.4008889448020086\n",
      "===========iteration:1100===========\n",
      "std=0.01:2.3021430159536105\n",
      "Xavier:0.3560558242876238\n",
      "He:0.18123493640532312\n",
      "===========iteration:1200===========\n",
      "std=0.01:2.30550474923815\n",
      "Xavier:0.3067610704856215\n",
      "He:0.187160694456696\n",
      "===========iteration:1300===========\n",
      "std=0.01:2.2975756545468724\n",
      "Xavier:0.2910028221120176\n",
      "He:0.19138816565163805\n",
      "===========iteration:1400===========\n",
      "std=0.01:2.29641136071828\n",
      "Xavier:0.29446469707618006\n",
      "He:0.16205468066863715\n",
      "===========iteration:1500===========\n",
      "std=0.01:2.2980330461348313\n",
      "Xavier:0.32203946855988286\n",
      "He:0.2224003766962348\n",
      "===========iteration:1600===========\n",
      "std=0.01:2.2992870581186624\n",
      "Xavier:0.2752328741842327\n",
      "He:0.1584523407363754\n",
      "===========iteration:1700===========\n",
      "std=0.01:2.291691020009063\n",
      "Xavier:0.2378687297039946\n",
      "He:0.14233444367049197\n",
      "===========iteration:1800===========\n",
      "std=0.01:2.2949557965655774\n",
      "Xavier:0.33236383797186453\n",
      "He:0.20407644369771827\n",
      "===========iteration:1900===========\n",
      "std=0.01:2.304855337695934\n",
      "Xavier:0.3312059015406718\n",
      "He:0.24663738701468652\n"
     ]
    },
    {
     "data": {
      "image/png": "[encoded data removed]",
      "text/plain": [
       "<Figure size 432x288 with 1 Axes>"
      ]
     },
     "metadata": {
      "needs_background": "light"
     },
     "output_type": "display_data"
    }
   ],
   "source": [
    "import os\n",
    "import sys\n",
    "\n",
    "sys.path.append(os.pardir)  # 親ディレクトリのファイルをインポートするための設定\n",
    "import numpy as np\n",
    "import matplotlib.pyplot as plt\n",
    "from dataset.mnist import load_mnist\n",
    "from common.util import smooth_curve\n",
    "from common.multi_layer_net import MultiLayerNet\n",
    "from common.optimizer import SGD\n",
    "\n",
    "\n",
    "# 0:MNISTデータの読み込み==========\n",
    "(x_train, t_train), (x_test, t_test) = load_mnist(normalize=True)\n",
    "\n",
    "train_size = x_train.shape[0]\n",
    "batch_size = 128\n",
    "max_iterations = 2000\n",
    "\n",
    "\n",
    "# 1:実験の設定==========\n",
    "weight_init_types = {'std=0.01': 0.01, 'Xavier': 'sigmoid', 'He': 'relu'}\n",
    "optimizer = SGD(lr=0.01)\n",
    "\n",
    "networks = {}\n",
    "train_loss = {}\n",
    "for key, weight_type in weight_init_types.items():\n",
    "    networks[key] = MultiLayerNet(input_size=784, hidden_size_list=[100, 100, 100, 100],\n",
    "                                  output_size=10, weight_init_std=weight_type)\n",
    "    train_loss[key] = []\n",
    "\n",
    "\n",
    "# 2:訓練の開始==========\n",
    "for i in range(max_iterations):\n",
    "    batch_mask = np.random.choice(train_size, batch_size)\n",
    "    x_batch = x_train[batch_mask]\n",
    "    t_batch = t_train[batch_mask]\n",
    "    \n",
    "    for key in weight_init_types.keys():\n",
    "        grads = networks[key].gradient(x_batch, t_batch)\n",
    "        optimizer.update(networks[key].params, grads)\n",
    "    \n",
    "        loss = networks[key].loss(x_batch, t_batch)\n",
    "        train_loss[key].append(loss)\n",
    "    \n",
    "    if i % 100 == 0:\n",
    "        print(\"===========\" + \"iteration:\" + str(i) + \"===========\")\n",
    "        for key in weight_init_types.keys():\n",
    "            loss = networks[key].loss(x_batch, t_batch)\n",
    "            print(key + \":\" + str(loss))\n",
    "\n",
    "\n",
    "# 3.グラフの描画==========\n",
    "markers = {'std=0.01': 'o', 'Xavier': 's', 'He': 'D'}\n",
    "x = np.arange(max_iterations)\n",
    "for key in weight_init_types.keys():\n",
    "    plt.plot(x, smooth_curve(train_loss[key]), marker=markers[key], markevery=100, label=key)\n",
    "plt.xlabel(\"iterations\")\n",
    "plt.ylabel(\"loss\")\n",
    "plt.ylim(0, 2.5)\n",
    "plt.legend()\n",
    "plt.show()"
   ]
  },
  {
   "cell_type": "code",
   "execution_count": null,
   "id": "2a30ac5d",
   "metadata": {},
   "outputs": [],
   "source": []
  }
 ],
 "metadata": {
  "kernelspec": {
   "display_name": "Python 3 (ipykernel)",
   "language": "python",
   "name": "python3"
  },
  "language_info": {
   "codemirror_mode": {
    "name": "ipython",
    "version": 3
   },
   "file_extension": ".py",
   "mimetype": "text/x-python",
   "name": "python",
   "nbconvert_exporter": "python",
   "pygments_lexer": "ipython3",
   "version": "3.9.7"
  }
 },
 "nbformat": 4,
 "nbformat_minor": 5
}
