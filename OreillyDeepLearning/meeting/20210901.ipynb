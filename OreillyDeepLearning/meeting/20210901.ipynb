{
 "cells": [
  {
   "cell_type": "markdown",
   "id": "452fd845",
   "metadata": {
    "slideshow": {
     "slide_type": "slide"
    }
   },
   "source": [
    "# 機械学習の全体像の中で今回やることの位置付け\n",
    "\n",
    "1. データを読み込み、訓練データとテストデータに分割する（6.5.1）\n",
    "1. ニューラルネットワークの定義\n",
    "  1. 活性化関数(3.2)\n",
    "  1. 正則化(6.4)\n",
    "  1. 出力層\n",
    "    1. softmax関数(3.5.3)\n",
    "1. 訓練データを使った学習(4.1)　 　　　←今回はここ\n",
    "  1. 損失関数(4.2)　　　　　　　　←今回はここ\n",
    "  1. 最適化関数\n",
    "    1. SDG(6.1.2)\n",
    "    1. Adam(6.1.6)\n",
    "1. テストデータを使った検証\n",
    "  1. 評価関数"
   ]
  },
  {
   "cell_type": "markdown",
   "id": "6467895c",
   "metadata": {
    "slideshow": {
     "slide_type": "skip"
    }
   },
   "source": [
    "\n",
    "1. データを読み込み、訓練データとテストデータに分割する（6.5.1）\n",
    "1. データ前処理\n",
    "  1. 正規化\n",
    "  1. 標準化\n",
    "  1. 欠損値に対する対応\n",
    "  1. One-hotエンコーディング\n",
    "1. ニューラルネットワークの定義\n",
    "  1. 活性化関数\n",
    "    1. sigmoid関数（3.2.4、3.2.5）\n",
    "    1. ReLU関数(3.2.7、5.5.1)\n",
    "    1. tanh関数\n",
    "  1. 正則化(6.4)\n",
    "    1. Dropout(6.4.3)\n",
    "    1. L1正則化(Lasso)\n",
    "    1. L2正則化(Ridge）\n",
    "  1. 出力層\n",
    "    1. softmax関数\n",
    "1. 訓練データを使った学習\n",
    "  1. 損失関数(4.2)　　　　　　　　　　　　　　　　　　      ←今回はここ\n",
    "    1. ２乗和誤差(4.2.1)\n",
    "    1. 交差エントロピー誤差(4.2.2)\n",
    "  1. 最適化関数\n",
    "    1. SDG(6.1.2)\n",
    "    1. Adam(6.1.6)\n",
    "1. テストデータを使った検証\n",
    "  1. 評価関数\n",
    "    1. RMSE(二乗平均平方根誤差)\n",
    "    1. accuracy\n",
    "    1. Recall　　　\n",
    "    1. Precision\n",
    "    1. F1-score\n",
    "    1. AUC"
   ]
  },
  {
   "cell_type": "markdown",
   "id": "de302421",
   "metadata": {
    "slideshow": {
     "slide_type": "slide"
    }
   },
   "source": [
    "### 4.1.2 訓練データとテストデータ\n",
    "学習する際に、訓練データとテストデータに分けて学習を進める。\n",
    "- 訓練データ：重み（Ｗ）、バイアス（ｂ）の値を変更していき、予測精度を高くする\n",
    "- テストデータ：訓練データを使用して学習した重み（Ｗ）、バイアス（ｂ）を使用して、精度が高いか確認する。訓練したデータでは精度が高くなって当たり前であるため、訓練に使用していないデータを使用してテストする。\n",
    "\n",
    "### 4.2 損失関数\n",
    "訓練データで予測結果と実際の値との差異を求めるために使用される。\n"
   ]
  },
  {
   "cell_type": "markdown",
   "id": "044b1020",
   "metadata": {
    "slideshow": {
     "slide_type": "skip"
    }
   },
   "source": [
    "pip install RISE\n",
    "\n",
    "jupyter-nbextension install rise --py --sys-prefix\n",
    "\n",
    "jupyter-nbextension enable rise --py --sys-prefix\n",
    "\n"
   ]
  },
  {
   "cell_type": "code",
   "execution_count": null,
   "id": "5ad6bf69",
   "metadata": {},
   "outputs": [],
   "source": []
  }
 ],
 "metadata": {
  "celltoolbar": "スライドショー",
  "kernelspec": {
   "display_name": "Python 3.8.10 64-bit ('ml': conda)",
   "language": "python",
   "name": "python3810jvsc74a57bd097d3723faa4999a5fbc2f5ff613a8146b45a4dc56859e084e7329fed153e30f7"
  },
  "language_info": {
   "codemirror_mode": {
    "name": "ipython",
    "version": 3
   },
   "file_extension": ".py",
   "mimetype": "text/x-python",
   "name": "python",
   "nbconvert_exporter": "python",
   "pygments_lexer": "ipython3",
   "version": "3.8.10"
  }
 },
 "nbformat": 4,
 "nbformat_minor": 5
}
