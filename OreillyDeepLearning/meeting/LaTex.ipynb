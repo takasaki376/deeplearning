{
 "cells": [
  {
   "cell_type": "markdown",
   "id": "8e2a762f",
   "metadata": {},
   "source": [
    "$$\n",
    "    y = \n",
    "    \\begin{cases}\n",
    "        0 \\quad (w_1x_1 + w_2x_2 \\leqq \\theta) \\\\\n",
    "        1 \\quad (w_1x_1 + w_2x_2 > \\theta) \\\\\n",
    "    \\end{cases}\n",
    "$$\n"
   ]
  },
  {
   "cell_type": "markdown",
   "id": "ff08fd21",
   "metadata": {},
   "source": [
    "$$\n",
    "    h(x) = \\frac {1}{1+e^{-1}}\n",
    "$$"
   ]
  },
  {
   "cell_type": "markdown",
   "id": "0a6c1338",
   "metadata": {},
   "source": [
    "\\begin{eqnarray*}\n",
    "    n(\\overline{A} \\cap B) &=& n(B) - n(A \\cap B) \\\\\n",
    "    &=& 35 - 6 \\\\\n",
    "    &=& 29 \\\\\n",
    "    \\\\\n",
    "    n(A \\cap \\overline{B}) &=& n(A) - n(A \\cap B) \\\\\n",
    "    &=& 43 - 6 \\\\\n",
    "    &=& 37 \\\\\n",
    "    \\\\\n",
    "    n(\\overline{A} \\cap \\overline{B}) &=& n(U) - n(A) - n(B) + n(A \\cap B) \\\\\n",
    "    &=& 100 - 43 - 35 + 6 \\\\\n",
    "    &=& 28\n",
    "\\end{eqnarray*}"
   ]
  },
  {
   "cell_type": "markdown",
   "id": "9a37a041",
   "metadata": {},
   "source": [
    "\\begin{eqnarray*}\n",
    "袋がAである確率 : P(A) = \\frac{1}{3} \\\\\n",
    "赤玉である確率　：P(B)  = \\frac{1}{2} \\\\\n",
    "袋がAで赤玉である確率 :n(A \\cap B) = \\frac{5}{18}\n",
    "\\end{eqnarray*}\n",
    "公式  \n",
    "事象Bが起こるという条件のもとで事象Aが起こる場合の条件付き確率は次の公式\n",
    "\\begin{eqnarray*}\n",
    "    n(A \\backslash B) = \\frac{n(A \\cap B)}{n(B)}\n",
    "\\end{eqnarray*}\n",
    "\n",
    "計算\n",
    "\\begin{eqnarray*}\n",
    "    n(A \\backslash B) &=& \\frac{n(A \\cap B)}{n(B)} \\\\\n",
    "    &=& \\frac{5}{18} * 2 \\\\\n",
    "    &=& \\frac{5}{9}\n",
    "\\end{eqnarray*}"
   ]
  },
  {
   "cell_type": "markdown",
   "id": "057cc43f",
   "metadata": {},
   "source": [
    "\\begin{eqnarray}\n",
    "& \\lim_{x \\to 1 + 0}\n",
    "\\end{eqnarray}\n",
    "とあるため、xに1を代入して考える。\n",
    "\n",
    "\\begin{eqnarray}\n",
    "\\lim_{x \\to 1 + 0} \\frac{x^2-2}{x^3-2x-3} &=& \\frac{1^2-2}{1^3+2*1-3} \\\\\n",
    "&=& \\frac{1-2}{1+2-3} \\\\\n",
    "&=& \\frac{-1}{0} \\\\\n",
    "\\end{eqnarray}\n",
    "\n",
    "分母が０のため、$\\infty$か$-\\infty$のいずかれになる。  \n",
    "\n",
    "\\begin{eqnarray}\n",
    "& \\lim_{x \\to 1 + 0}\n",
    "\\end{eqnarray}\n",
    "\n",
    "の＋０とあるため、プラス方向から１に近づくため、代入する値は１以上である。  \n",
    "→分母は厳密には１より大きいため、分母も０より大きい  \n",
    "　分子がマイナスなので、答えは$-\\infty$になる。"
   ]
  },
  {
   "cell_type": "markdown",
   "id": "6230528c",
   "metadata": {},
   "source": [
    "\\begin{eqnarray}\n",
    "    Y = w_1X + b_1 \\\\[3mm]\n",
    "    Z = w_2Y + b_2 \\\\[6mm]\n",
    "    Z &=& w_2 (w_1X + b_1) + b_2 \\\\[3mm]\n",
    "      &=& w_1w_2X + w_2b_1 + b_2 \\\\[6mm]\n",
    "    \\frac{dZ}{dw_1} &=& w_2X\n",
    "\\end{eqnarray}"
   ]
  },
  {
   "cell_type": "markdown",
   "id": "cb6dd564",
   "metadata": {},
   "source": [
    "\\begin{eqnarray}\n",
    "    E &=& \\frac{1}{2} \\sum_k (y_k - t_k)^2 = \\frac{1}{2}(y_1-1)^2 + \\frac{1}{2}(y_2)^2  \\\\[6mm]\n",
    "    \\frac{\\partial (\\frac{1}{2}(y_1-1)^2)}{\\partial y_1} &=& \\frac{\\partial (\\frac{1}{2}(y_1^2 - 2y_1 + 1))}{\\partial y_1} \\\\[3mm]\n",
    "    &=& \\frac{\\partial (\\frac{1}{2}y_1^2 - y_1 + \\frac{1}{2})}{\\partial y_1} \\\\[3mm]\n",
    "    \\frac{\\partial (\\frac{1}{2}(y_1-1)^2)}{\\partial y_1} &=& y_1 - 1 \n",
    "\\end{eqnarray}"
   ]
  },
  {
   "cell_type": "code",
   "execution_count": null,
   "id": "39948862",
   "metadata": {},
   "outputs": [],
   "source": []
  }
 ],
 "metadata": {
  "kernelspec": {
   "display_name": "Python 3.8.10 64-bit ('ml': conda)",
   "language": "python",
   "name": "python3810jvsc74a57bd097d3723faa4999a5fbc2f5ff613a8146b45a4dc56859e084e7329fed153e30f7"
  },
  "language_info": {
   "codemirror_mode": {
    "name": "ipython",
    "version": 3
   },
   "file_extension": ".py",
   "mimetype": "text/x-python",
   "name": "python",
   "nbconvert_exporter": "python",
   "pygments_lexer": "ipython3",
   "version": "3.8.10"
  }
 },
 "nbformat": 4,
 "nbformat_minor": 5
}
