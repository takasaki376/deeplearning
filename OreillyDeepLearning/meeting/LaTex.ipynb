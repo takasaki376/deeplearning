{
 "cells": [
  {
   "cell_type": "markdown",
   "id": "8e2a762f",
   "metadata": {},
   "source": [
    "$$\n",
    "    y = \n",
    "    \\begin{cases}\n",
    "        0 \\quad (w_1x_1 + w_2x_2 \\leqq \\theta) \\\\\n",
    "        1 \\quad (w_1x_1 + w_2x_2 > \\theta) \\\\\n",
    "    \\end{cases}\n",
    "$$\n"
   ]
  },
  {
   "cell_type": "markdown",
   "id": "ff08fd21",
   "metadata": {},
   "source": [
    "$$\n",
    "    h(x) = \\frac {1}{1+e^{-1}}\n",
    "$$"
   ]
  },
  {
   "cell_type": "markdown",
   "id": "0a6c1338",
   "metadata": {},
   "source": [
    "\\begin{eqnarray*}\n",
    "    n(\\overline{A} \\cap B) &=& n(B) - n(A \\cap B) \\\\\n",
    "    &=& 35 - 6 \\\\\n",
    "    &=& 29 \\\\\n",
    "    \\\\\n",
    "    n(A \\cap \\overline{B}) &=& n(A) - n(A \\cap B) \\\\\n",
    "    &=& 43 - 6 \\\\\n",
    "    &=& 37 \\\\\n",
    "    \\\\\n",
    "    n(\\overline{A} \\cap \\overline{B}) &=& n(U) - n(A) - n(B) + n(A \\cap B) \\\\\n",
    "    &=& 100 - 43 - 35 + 6 \\\\\n",
    "    &=& 28\n",
    "\\end{eqnarray*}"
   ]
  },
  {
   "cell_type": "markdown",
   "id": "9a37a041",
   "metadata": {},
   "source": [
    "\\begin{eqnarray*}\n",
    "袋がAである確率 : P(A) = \\frac{1}{3} \\\\\n",
    "赤玉である確率　：P(B)  = \\frac{1}{2} \\\\\n",
    "袋がAで赤玉である確率 :n(A \\cap B) = \\frac{5}{18}\n",
    "\\end{eqnarray*}\n",
    "公式  \n",
    "事象Bが起こるという条件のもとで事象Aが起こる場合の条件付き確率は次の公式\n",
    "\\begin{eqnarray*}\n",
    "    n(A \\backslash B) = \\frac{n(A \\cap B)}{n(B)}\n",
    "\\end{eqnarray*}\n",
    "\n",
    "計算\n",
    "\\begin{eqnarray*}\n",
    "    n(A \\backslash B) &=& \\frac{n(A \\cap B)}{n(B)} \\\\\n",
    "    &=& \\frac{5}{18} * 2 \\\\\n",
    "    &=& \\frac{5}{9}\n",
    "\\end{eqnarray*}"
   ]
  },
  {
   "cell_type": "markdown",
   "id": "057cc43f",
   "metadata": {},
   "source": [
    "\\begin{eqnarray}\n",
    "& \\lim_{x \\to 1 + 0}\n",
    "\\end{eqnarray}\n",
    "とあるため、xに1を代入して考える。\n",
    "\n",
    "\\begin{eqnarray}\n",
    "\\lim_{x \\to 1 + 0} \\frac{x^2-2}{x^3-2x-3} &=& \\frac{1^2-2}{1^3+2*1-3} \\\\\n",
    "&=& \\frac{1-2}{1+2-3} \\\\\n",
    "&=& \\frac{-1}{0} \\\\\n",
    "\\end{eqnarray}\n",
    "\n",
    "分母が０のため、$\\infty$か$-\\infty$のいずかれになる。  \n",
    "\n",
    "\\begin{eqnarray}\n",
    "& \\lim_{x \\to 1 + 0}\n",
    "\\end{eqnarray}\n",
    "\n",
    "の＋０とあるため、プラス方向から１に近づくため、代入する値は１以上である。  \n",
    "→分母は厳密には１より大きいため、分母も０より大きい  \n",
    "　分子がマイナスなので、答えは$-\\infty$になる。"
   ]
  },
  {
   "cell_type": "markdown",
   "id": "6230528c",
   "metadata": {},
   "source": [
    "\\begin{eqnarray}\n",
    "    Y = w_1X + b_1 \\\\[3mm]\n",
    "    Z = w_2Y + b_2 \\\\[6mm]\n",
    "    Z &=& w_2 (w_1X + b_1) + b_2 \\\\[3mm]\n",
    "      &=& w_1w_2X + w_2b_1 + b_2 \\\\[6mm]\n",
    "    \\frac{dZ}{dw_1} &=& w_2X\n",
    "\\end{eqnarray}"
   ]
  },
  {
   "cell_type": "markdown",
   "id": "cb6dd564",
   "metadata": {},
   "source": [
    "\\begin{eqnarray}\n",
    "    E &=& \\frac{1}{2} \\sum_k (y_k - t_k)^2 = \\frac{1}{2}(y_1-1)^2 + \\frac{1}{2}(y_2)^2  \\\\[6mm]\n",
    "    \\frac{\\partial (\\frac{1}{2}(y_1-1)^2)}{\\partial y_1} &=& \\frac{\\partial (\\frac{1}{2}(y_1^2 - 2y_1 + 1))}{\\partial y_1} \\\\[3mm]\n",
    "    &=& \\frac{\\partial (\\frac{1}{2}y_1^2 - y_1 + \\frac{1}{2})}{\\partial y_1} \\\\[3mm]\n",
    "    \\frac{\\partial (\\frac{1}{2}(y_1-1)^2)}{\\partial y_1} &=& y_1 - 1 \n",
    "\\end{eqnarray}"
   ]
  },
  {
   "cell_type": "markdown",
   "id": "5640756d",
   "metadata": {},
   "source": [
    "①と②の結果から、評価関数を変換する。 \\\n",
    "（最終的に微分した結果が０となる重みを求めるため、微分を行いやすい形にする）\n",
    "\n",
    "①の結果から、$\\hat{y}=\\vec{x}^T\\vec{w}$ の中から、$\\hat{\\vec{y}}$を変換する。\n",
    "\n",
    "$$ \\begin{aligned}\n",
    "  \\hat{\\vec{y}}&=\n",
    "  \\left(\n",
    "    \\begin{array}{c}\n",
    "      \\hat{y_1} \\\\\n",
    "      \\hat{y_2} \\\\\n",
    "      \\vdots \\\\\n",
    "      \\hat{y_N}\n",
    "    \\end{array}\n",
    "  \\right) \n",
    "  =\n",
    "  \\left(\n",
    "    \\begin{array}{c}\n",
    "      \\vec{x_1}^T\\vec{w} \\\\\n",
    "      \\vec{x_2}^T\\vec{w} \\\\\n",
    "      \\vdots \\\\\n",
    "      \\vec{x_N}^T\\vec{w}\n",
    "    \\end{array}\n",
    "  \\right) \n",
    "  =\n",
    "  \\left(\n",
    "    \\begin{array}{c}\n",
    "      \\vec{x_1}^T \\\\\n",
    "      \\vec{x_2}^T \\\\\n",
    "      \\vdots \\\\\n",
    "      \\vec{x_N}^T\n",
    "    \\end{array}\n",
    "  \\right) \\vec{w}\\\\\n",
    "  &=\n",
    "  \\left(\n",
    "    \\begin{array}{c}\n",
    "      x_{10} & x_{11} & x_{12} & \\ldots & x_{1M} \\\\\n",
    "      x_{20} & x_{21} & x_{22} & \\ldots & x_{2M} \\\\\n",
    "      \\vdots & \\vdots & \\vdots & \\ddots & \\vdots \\\\\n",
    "      x_{N0} & x_{N1} & x_{N2} & \\ldots & x_{NM} \n",
    "    \\end{array}\n",
    "  \\right) \\vec{w}\\\\ \n",
    "   &=X \\vec{w}\\\\ \n",
    "\\end{aligned}$$\n",
    "\n",
    "②の結果から、$L=(\\vec{y} -\\vec{\\hat{y}})^T (\\vec{y} -\\vec{\\hat{y}})$ なので、評価関数を展開すると、\n",
    "\n",
    "$$ \\begin{aligned}\n",
    "  L &=(\\vec{y} - \\vec{\\hat{y}})^T (\\vec{y} - \\vec{\\hat{y}}) \\\\\n",
    "  &=(\\vec{y} - X \\vec{w})^T (\\vec{y} - X \\vec{w}) \\\\\n",
    "  &=(\\vec{y}^T - (X \\vec{w})^T) (\\vec{y} - X \\vec{w}) \\\\\n",
    "  &=(\\vec{y}^T - \\vec{w}^TX^T) (\\vec{y} - X \\vec{w}) \\\\\n",
    "  &=\\vec{y}^T\\vec{y} - \\vec{y}^TX \\vec{w} - \\vec{w}^TX^T \\vec{y} + \\vec{w}^TX^TX \\vec{w}\n",
    "\\end{aligned}$$\n",
    "\n",
    "$ (\\vec{y}^TX \\vec{w})^T = \\vec{y}^TX \\vec{w} $  はスカラー（公式（３）から）なので、成り立つ \n",
    "\n",
    "$ (\\vec{y}^TX \\vec{w})^T = \\vec{w}^T X^T \\vec{y} $ 転置の法則（公式（５）から）より、左記が成り立つ \n",
    "\n",
    "つまり、$ \\vec{y}^TX \\vec{w} =\\vec{w}^T X^T \\vec{y} $ が成り立つため、上の式の \n",
    "\n",
    "$- \\vec{y}^TX \\vec{w} - \\vec{w}^TX^T \\vec{y} = - 2\\vec{y}^TX \\vec{w}$ とすることができる。\n",
    "\n",
    "$$ L =\\vec{y}^T\\vec{y} - 2\\vec{y}^TX \\vec{w} + \\vec{w}^TX^TX \\vec{w} $$\n",
    "\n",
    "\n",
    "$\\vec{y}^T\\vec{y}$ はスカラーなので、$C=\\vec{y}^T\\vec{y}$ とする。 \n",
    "\n",
    "$-2\\vec{y}^TX$ はベクトル（公式（２）から）により、$\\vec{b}=-2(X^T\\vec{y})^T$ とする。 \n",
    "\n",
    "かつ転置の法則（公式（５）から）から、$\\vec{b}^T=-2\\vec{y}^TX$ とする。 \n",
    "\n",
    "$X^TX$ は行列なので、$A=X^TX$ とする。\n",
    "\n",
    "\n",
    "$$ L = C + \\vec{b}^T \\vec{w} + \\vec{w}^TA \\vec{w} $$"
   ]
  },
  {
   "cell_type": "code",
   "execution_count": null,
   "id": "e3762f6e",
   "metadata": {},
   "outputs": [],
   "source": []
  }
 ],
 "metadata": {
  "kernelspec": {
   "display_name": "Python 3.8.10 64-bit ('ml': conda)",
   "language": "python",
   "name": "python3810jvsc74a57bd097d3723faa4999a5fbc2f5ff613a8146b45a4dc56859e084e7329fed153e30f7"
  },
  "language_info": {
   "codemirror_mode": {
    "name": "ipython",
    "version": 3
   },
   "file_extension": ".py",
   "mimetype": "text/x-python",
   "name": "python",
   "nbconvert_exporter": "python",
   "pygments_lexer": "ipython3",
   "version": "3.8.10"
  }
 },
 "nbformat": 4,
 "nbformat_minor": 5
}
