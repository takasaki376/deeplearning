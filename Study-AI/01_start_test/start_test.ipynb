{
 "cells": [
  {
   "cell_type": "markdown",
   "id": "a95831d7",
   "metadata": {},
   "source": [
    "# 1"
   ]
  },
  {
   "cell_type": "code",
   "execution_count": 1,
   "id": "4fba70e6",
   "metadata": {},
   "outputs": [
    {
     "output_type": "stream",
     "name": "stdout",
     "text": [
      "[[ 3]\n [12]\n [11]\n [14]]\n"
     ]
    }
   ],
   "source": [
    "import numpy as np\n",
    "a = np.array([\n",
    "    [1],\n",
    "    [5],\n",
    "    [9],\n",
    "    [6]\n",
    "])\n",
    "b = np.array([\n",
    "    [2],\n",
    "    [7],\n",
    "    [2],\n",
    "    [8]\n",
    "])\n",
    "print(a+b)"
   ]
  },
  {
   "cell_type": "markdown",
   "id": "50a456ea",
   "metadata": {},
   "source": [
    "# 2"
   ]
  },
  {
   "cell_type": "code",
   "execution_count": 3,
   "id": "bba0d7df",
   "metadata": {},
   "outputs": [
    {
     "output_type": "execute_result",
     "data": {
      "text/plain": [
       "array([29])"
      ]
     },
     "metadata": {},
     "execution_count": 3
    }
   ],
   "source": [
    "import numpy as np\n",
    "a = np.array([3, 4, 1])\n",
    "b = np.array([\n",
    "    [2],\n",
    "    [4],\n",
    "    [7]\n",
    "])\n",
    "a.dot(b)"
   ]
  },
  {
   "cell_type": "markdown",
   "id": "2ac6c1f5",
   "metadata": {},
   "source": [
    "# 4"
   ]
  },
  {
   "cell_type": "code",
   "execution_count": 4,
   "id": "6b706f17",
   "metadata": {},
   "outputs": [
    {
     "output_type": "stream",
     "name": "stdout",
     "text": [
      "30\n"
     ]
    }
   ],
   "source": [
    "import numpy as np\n",
    "a = np.array([\n",
    "    [2],\n",
    "    [5],\n",
    "    [1]\n",
    "])\n",
    "a2 = a**2\n",
    "print(a2.sum())\n",
    "#上記の結果に平方根を取るとL1ノムル"
   ]
  },
  {
   "cell_type": "markdown",
   "id": "1287e058",
   "metadata": {},
   "source": [
    "# ５"
   ]
  },
  {
   "cell_type": "code",
   "execution_count": 2,
   "id": "527a1e41",
   "metadata": {},
   "outputs": [
    {
     "output_type": "stream",
     "name": "stdout",
     "text": [
      "[[ 3  5]\n [ 5  7]\n [ 7  9]\n [ 9 11]]\n"
     ]
    }
   ],
   "source": [
    "import numpy as np\n",
    "a = np.array([\n",
    "    [1, 2],\n",
    "    [2, 3],\n",
    "    [3, 4],\n",
    "    [4, 5]\n",
    "])\n",
    "b = np.array([\n",
    "    [2, 3],\n",
    "    [3, 4],\n",
    "    [4, 5],\n",
    "    [5, 6]\n",
    "])\n",
    "print(a+b)"
   ]
  },
  {
   "cell_type": "markdown",
   "id": "8b0ad5d0",
   "metadata": {},
   "source": [
    "# 6"
   ]
  },
  {
   "cell_type": "code",
   "execution_count": 5,
   "id": "98faf37b",
   "metadata": {},
   "outputs": [
    {
     "output_type": "stream",
     "name": "stdout",
     "text": [
      "[[  1  23  17  35]\n [ 12  -2  -7   8]\n [ 15  11   7  37]\n [ 11 -27   2   5]]\n"
     ]
    }
   ],
   "source": [
    "import numpy as np\n",
    "a = np.array([\n",
    "    [2, 1,  3],\n",
    "    [3, 4, -1],\n",
    "    [6, 5,  1],\n",
    "    [7, 1, -2]\n",
    "])\n",
    "b = np.array([\n",
    "    [ 1, -2,  2,  3],\n",
    "    [ 2,  3, -2,  2],\n",
    "    [-1,  8,  5,  9]\n",
    "])\n",
    "print(a.dot(b))"
   ]
  },
  {
   "cell_type": "markdown",
   "id": "875afad2",
   "metadata": {},
   "source": [
    "# 7"
   ]
  },
  {
   "cell_type": "code",
   "execution_count": 6,
   "id": "3f4cd68b",
   "metadata": {},
   "outputs": [
    {
     "output_type": "stream",
     "name": "stdout",
     "text": [
      "-16.000000000000007\n"
     ]
    }
   ],
   "source": [
    "import numpy as np\n",
    "a = np.array([\n",
    "    [3,  5],\n",
    "    [2, -2]\n",
    "])\n",
    "print(np.linalg.det(a))"
   ]
  },
  {
   "cell_type": "markdown",
   "id": "571b30ee",
   "metadata": {},
   "source": [
    "# 8"
   ]
  },
  {
   "cell_type": "code",
   "execution_count": 7,
   "id": "28ea5f41",
   "metadata": {},
   "outputs": [
    {
     "output_type": "stream",
     "name": "stdout",
     "text": [
      "4.000000000000001\n------------------------------------------\n[[-0.25  1.   -0.75]\n [-1.    2.   -2.  ]\n [-1.25  2.   -1.75]]\n"
     ]
    }
   ],
   "source": [
    "import numpy as np\n",
    "a = np.array([\n",
    "    [2,  1,  -2],\n",
    "    [3, -2,  1],\n",
    "    [2, -3,  2]\n",
    "])\n",
    "print(np.linalg.det(a))\n",
    "print('------------------------------------------')\n",
    "# 行列式が０でないため、逆行列は存在する\n",
    "print(np.linalg.inv(a))"
   ]
  },
  {
   "cell_type": "markdown",
   "id": "860deb4a",
   "metadata": {},
   "source": [
    "# 9"
   ]
  },
  {
   "cell_type": "code",
   "execution_count": 8,
   "id": "bd527998",
   "metadata": {},
   "outputs": [
    {
     "output_type": "stream",
     "name": "stdout",
     "text": [
      "[[ 2]\n [-3]\n [-3]]\n"
     ]
    }
   ],
   "source": [
    "import numpy as np\n",
    "a = np.array([\n",
    "    [ 1,  1,  -1],\n",
    "    [-2, -1,  1],\n",
    "    [-1, -2, 1]\n",
    "])\n",
    "b = np.array([\n",
    "    [1],\n",
    "    [1],\n",
    "    [0]\n",
    "])\n",
    "print(a.dot(b))"
   ]
  },
  {
   "cell_type": "code",
   "execution_count": null,
   "id": "d509547a",
   "metadata": {},
   "outputs": [],
   "source": []
  },
  {
   "cell_type": "code",
   "execution_count": null,
   "id": "55586cea",
   "metadata": {},
   "outputs": [],
   "source": []
  },
  {
   "cell_type": "code",
   "execution_count": null,
   "id": "53cff163",
   "metadata": {},
   "outputs": [],
   "source": []
  },
  {
   "cell_type": "code",
   "execution_count": null,
   "id": "459c6c3b",
   "metadata": {},
   "outputs": [],
   "source": []
  },
  {
   "cell_type": "code",
   "execution_count": null,
   "id": "a4e37504",
   "metadata": {},
   "outputs": [],
   "source": []
  },
  {
   "cell_type": "code",
   "execution_count": null,
   "id": "0ceed6a3",
   "metadata": {},
   "outputs": [],
   "source": []
  },
  {
   "cell_type": "code",
   "execution_count": null,
   "id": "cb2f269d",
   "metadata": {},
   "outputs": [],
   "source": []
  },
  {
   "cell_type": "markdown",
   "id": "036b427e",
   "metadata": {},
   "source": [
    "# 21"
   ]
  },
  {
   "cell_type": "code",
   "execution_count": 9,
   "id": "68ab7f0e",
   "metadata": {},
   "outputs": [
    {
     "output_type": "stream",
     "name": "stdout",
     "text": [
      "[[32]\n [44]]\n"
     ]
    }
   ],
   "source": [
    "import numpy as np\n",
    "w = np.array([\n",
    "    [1,2,3],\n",
    "    [2,3,4]\n",
    "])\n",
    "x = np.array([\n",
    "    [1],[2],[9]\n",
    "])\n",
    "a = w.dot(x)\n",
    "print(a)"
   ]
  },
  {
   "cell_type": "markdown",
   "id": "c1d743ec",
   "metadata": {},
   "source": [
    "# 22,23"
   ]
  },
  {
   "cell_type": "code",
   "execution_count": 10,
   "id": "72c9f40c",
   "metadata": {},
   "outputs": [
    {
     "output_type": "stream",
     "name": "stdout",
     "text": [
      "[[22]\n [35]]\n"
     ]
    }
   ],
   "source": [
    "import numpy as np\n",
    "w = np.array([\n",
    "    [2,3,4],\n",
    "    [5,6,5]\n",
    "])\n",
    "x = np.array([\n",
    "    [1],\n",
    "    [2],\n",
    "    [3]\n",
    "])\n",
    "b = np.array([\n",
    "    [2],\n",
    "    [3]\n",
    "])\n",
    "a = w.dot(x) + b\n",
    "print(a)"
   ]
  },
  {
   "cell_type": "markdown",
   "id": "1219e7cf",
   "metadata": {},
   "source": [
    "# 24,25"
   ]
  },
  {
   "cell_type": "code",
   "execution_count": 11,
   "id": "5711edc3",
   "metadata": {},
   "outputs": [
    {
     "output_type": "execute_result",
     "data": {
      "text/plain": [
       "1.0"
      ]
     },
     "metadata": {},
     "execution_count": 11
    }
   ],
   "source": [
    "import numpy as np\n",
    "def sigmoid(x):\n",
    "    y = 1/(1+np.exp(-x))\n",
    "    return y\n",
    "\n",
    "x = 100\n",
    "sigmoid(x)"
   ]
  },
  {
   "cell_type": "markdown",
   "id": "86ab980c",
   "metadata": {},
   "source": [
    "# 26,27"
   ]
  },
  {
   "cell_type": "code",
   "execution_count": 12,
   "id": "25b1ae72",
   "metadata": {},
   "outputs": [
    {
     "output_type": "stream",
     "name": "stdout",
     "text": [
      "2.2397126747349496e-05\n"
     ]
    }
   ],
   "source": [
    "def RSS(y , t):\n",
    "    return 0.5 * (np.sum((y - t) ** 2))\n",
    "\n",
    "w = np.array([0.2])\n",
    "x = np.array([25])\n",
    "t = np.array([1])\n",
    "a = w.dot(x)\n",
    "y = sigmoid(a)\n",
    "E = RSS(y , t)\n",
    "print(E)"
   ]
  },
  {
   "cell_type": "markdown",
   "id": "d8cd4344",
   "metadata": {},
   "source": [
    "# 28"
   ]
  },
  {
   "cell_type": "code",
   "execution_count": 2,
   "id": "52aa8493",
   "metadata": {},
   "outputs": [
    {
     "output_type": "execute_result",
     "data": {
      "text/plain": [
       "(60000, 28, 28)"
      ]
     },
     "metadata": {},
     "execution_count": 2
    }
   ],
   "source": [
    "import numpy as np\n",
    "from keras.datasets import mnist\n",
    "(x_train ,y_train) , (x_test , y_test) = mnist.load_data()\n",
    "x_train.shape"
   ]
  },
  {
   "cell_type": "code",
   "execution_count": 3,
   "metadata": {},
   "outputs": [
    {
     "output_type": "execute_result",
     "data": {
      "text/plain": [
       "3"
      ]
     },
     "metadata": {},
     "execution_count": 3
    }
   ],
   "source": [
    "x_train.ndim"
   ]
  },
  {
   "cell_type": "markdown",
   "id": "08d0b1fa",
   "metadata": {},
   "source": [
    "# 29,30"
   ]
  },
  {
   "cell_type": "code",
   "execution_count": 15,
   "id": "4a82b81a",
   "metadata": {},
   "outputs": [
    {
     "output_type": "execute_result",
     "data": {
      "text/plain": [
       "   col1  col2  col3\n",
       "0   1.0   1.2   aaa\n",
       "1   2.0   2.3   bbb\n",
       "2   NaN   NaN  None\n",
       "3   NaN   NaN   NaN"
      ],
      "text/html": "<div>\n<style scoped>\n    .dataframe tbody tr th:only-of-type {\n        vertical-align: middle;\n    }\n\n    .dataframe tbody tr th {\n        vertical-align: top;\n    }\n\n    .dataframe thead th {\n        text-align: right;\n    }\n</style>\n<table border=\"1\" class=\"dataframe\">\n  <thead>\n    <tr style=\"text-align: right;\">\n      <th></th>\n      <th>col1</th>\n      <th>col2</th>\n      <th>col3</th>\n    </tr>\n  </thead>\n  <tbody>\n    <tr>\n      <th>0</th>\n      <td>1.0</td>\n      <td>1.2</td>\n      <td>aaa</td>\n    </tr>\n    <tr>\n      <th>1</th>\n      <td>2.0</td>\n      <td>2.3</td>\n      <td>bbb</td>\n    </tr>\n    <tr>\n      <th>2</th>\n      <td>NaN</td>\n      <td>NaN</td>\n      <td>None</td>\n    </tr>\n    <tr>\n      <th>3</th>\n      <td>NaN</td>\n      <td>NaN</td>\n      <td>NaN</td>\n    </tr>\n  </tbody>\n</table>\n</div>"
     },
     "metadata": {},
     "execution_count": 15
    }
   ],
   "source": [
    "import pandas as pd\n",
    "import numpy as np\n",
    "\n",
    "data = pd.DataFrame({\n",
    "    \"col1\": [1, 2, None , np.nan],\n",
    "    \"col2\": [1.2, 2.3, None , np.nan],\n",
    "    \"col3\": ['aaa', 'bbb', None , np.nan],\n",
    "})\n",
    "data"
   ]
  },
  {
   "cell_type": "code",
   "execution_count": 16,
   "id": "2f154003",
   "metadata": {},
   "outputs": [
    {
     "output_type": "execute_result",
     "data": {
      "text/plain": [
       "    col1   col2   col3\n",
       "0  False  False  False\n",
       "1  False  False  False\n",
       "2   True   True   True\n",
       "3   True   True   True"
      ],
      "text/html": "<div>\n<style scoped>\n    .dataframe tbody tr th:only-of-type {\n        vertical-align: middle;\n    }\n\n    .dataframe tbody tr th {\n        vertical-align: top;\n    }\n\n    .dataframe thead th {\n        text-align: right;\n    }\n</style>\n<table border=\"1\" class=\"dataframe\">\n  <thead>\n    <tr style=\"text-align: right;\">\n      <th></th>\n      <th>col1</th>\n      <th>col2</th>\n      <th>col3</th>\n    </tr>\n  </thead>\n  <tbody>\n    <tr>\n      <th>0</th>\n      <td>False</td>\n      <td>False</td>\n      <td>False</td>\n    </tr>\n    <tr>\n      <th>1</th>\n      <td>False</td>\n      <td>False</td>\n      <td>False</td>\n    </tr>\n    <tr>\n      <th>2</th>\n      <td>True</td>\n      <td>True</td>\n      <td>True</td>\n    </tr>\n    <tr>\n      <th>3</th>\n      <td>True</td>\n      <td>True</td>\n      <td>True</td>\n    </tr>\n  </tbody>\n</table>\n</div>"
     },
     "metadata": {},
     "execution_count": 16
    }
   ],
   "source": [
    "data.isna()"
   ]
  },
  {
   "cell_type": "code",
   "execution_count": 17,
   "id": "38d7f786",
   "metadata": {},
   "outputs": [
    {
     "output_type": "execute_result",
     "data": {
      "text/plain": [
       "   col1  col2 col3\n",
       "0   1.0   1.2  aaa\n",
       "1   2.0   2.3  bbb"
      ],
      "text/html": "<div>\n<style scoped>\n    .dataframe tbody tr th:only-of-type {\n        vertical-align: middle;\n    }\n\n    .dataframe tbody tr th {\n        vertical-align: top;\n    }\n\n    .dataframe thead th {\n        text-align: right;\n    }\n</style>\n<table border=\"1\" class=\"dataframe\">\n  <thead>\n    <tr style=\"text-align: right;\">\n      <th></th>\n      <th>col1</th>\n      <th>col2</th>\n      <th>col3</th>\n    </tr>\n  </thead>\n  <tbody>\n    <tr>\n      <th>0</th>\n      <td>1.0</td>\n      <td>1.2</td>\n      <td>aaa</td>\n    </tr>\n    <tr>\n      <th>1</th>\n      <td>2.0</td>\n      <td>2.3</td>\n      <td>bbb</td>\n    </tr>\n  </tbody>\n</table>\n</div>"
     },
     "metadata": {},
     "execution_count": 17
    }
   ],
   "source": [
    "data.dropna()"
   ]
  },
  {
   "cell_type": "markdown",
   "id": "be259127",
   "metadata": {},
   "source": [
    "# 31,32"
   ]
  },
  {
   "cell_type": "code",
   "execution_count": 18,
   "id": "20d5d8a1",
   "metadata": {},
   "outputs": [
    {
     "output_type": "stream",
     "name": "stdout",
     "text": [
      "0    3\n1    2\n2    3\n3    2\n4    2\ndtype: int64\n"
     ]
    }
   ],
   "source": [
    "import numpy as np\n",
    "import pandas as pd\n",
    "s = pd.Series([3,2,3,2,2])\n",
    "s2 = pd.Series([2,4,6,8,10])\n",
    "print(s)"
   ]
  },
  {
   "cell_type": "code",
   "execution_count": 19,
   "id": "c5e0575e",
   "metadata": {},
   "outputs": [
    {
     "output_type": "stream",
     "name": "stdout",
     "text": [
      "0     2\n1     4\n2     6\n3     8\n4    10\ndtype: int64\n"
     ]
    }
   ],
   "source": [
    "print(s2)"
   ]
  },
  {
   "cell_type": "code",
   "execution_count": 20,
   "id": "aea9499e",
   "metadata": {},
   "outputs": [
    {
     "output_type": "execute_result",
     "data": {
      "text/plain": [
       "   0   1\n",
       "0  3   2\n",
       "1  2   4\n",
       "2  3   6\n",
       "3  2   8\n",
       "4  2  10"
      ],
      "text/html": "<div>\n<style scoped>\n    .dataframe tbody tr th:only-of-type {\n        vertical-align: middle;\n    }\n\n    .dataframe tbody tr th {\n        vertical-align: top;\n    }\n\n    .dataframe thead th {\n        text-align: right;\n    }\n</style>\n<table border=\"1\" class=\"dataframe\">\n  <thead>\n    <tr style=\"text-align: right;\">\n      <th></th>\n      <th>0</th>\n      <th>1</th>\n    </tr>\n  </thead>\n  <tbody>\n    <tr>\n      <th>0</th>\n      <td>3</td>\n      <td>2</td>\n    </tr>\n    <tr>\n      <th>1</th>\n      <td>2</td>\n      <td>4</td>\n    </tr>\n    <tr>\n      <th>2</th>\n      <td>3</td>\n      <td>6</td>\n    </tr>\n    <tr>\n      <th>3</th>\n      <td>2</td>\n      <td>8</td>\n    </tr>\n    <tr>\n      <th>4</th>\n      <td>2</td>\n      <td>10</td>\n    </tr>\n  </tbody>\n</table>\n</div>"
     },
     "metadata": {},
     "execution_count": 20
    }
   ],
   "source": [
    "df = pd.concat([s,s2],axis=1)\n",
    "df"
   ]
  },
  {
   "cell_type": "code",
   "execution_count": 21,
   "id": "9d435516",
   "metadata": {},
   "outputs": [
    {
     "output_type": "execute_result",
     "data": {
      "text/plain": [
       "pandas.core.frame.DataFrame"
      ]
     },
     "metadata": {},
     "execution_count": 21
    }
   ],
   "source": [
    "type(df)"
   ]
  },
  {
   "cell_type": "markdown",
   "id": "b863f7b5",
   "metadata": {},
   "source": [
    "# 33"
   ]
  },
  {
   "cell_type": "code",
   "execution_count": 22,
   "id": "fdfd9546",
   "metadata": {},
   "outputs": [
    {
     "output_type": "execute_result",
     "data": {
      "text/plain": [
       "[<matplotlib.lines.Line2D at 0x7f8a898f1b20>]"
      ]
     },
     "metadata": {},
     "execution_count": 22
    },
    {
     "output_type": "display_data",
     "data": {
      "text/plain": "<Figure size 432x288 with 1 Axes>",
      "image/svg+xml": "<?xml version=\"1.0\" encoding=\"utf-8\" standalone=\"no\"?>\n<!DOCTYPE svg PUBLIC \"-//W3C//DTD SVG 1.1//EN\"\n  \"http://www.w3.org/Graphics/SVG/1.1/DTD/svg11.dtd\">\n<svg height=\"248.518125pt\" version=\"1.1\" viewBox=\"0 0 386.845313 248.518125\" width=\"386.845313pt\" xmlns=\"http://www.w3.org/2000/svg\" xmlns:xlink=\"http://www.w3.org/1999/xlink\">\n <metadata>\n  <rdf:RDF xmlns:cc=\"http://creativecommons.org/ns#\" xmlns:dc=\"http://purl.org/dc/elements/1.1/\" xmlns:rdf=\"http://www.w3.org/1999/02/22-rdf-syntax-ns#\">\n   <cc:Work>\n    <dc:type rdf:resource=\"http://purl.org/dc/dcmitype/StillImage\"/>\n    <dc:date>2021-06-15T23:58:20.678696</dc:date>\n    <dc:format>image/svg+xml</dc:format>\n    <dc:creator>\n     <cc:Agent>\n      <dc:title>Matplotlib v3.4.2, https://matplotlib.org/</dc:title>\n     </cc:Agent>\n    </dc:creator>\n   </cc:Work>\n  </rdf:RDF>\n </metadata>\n <defs>\n  <style type=\"text/css\">*{stroke-linecap:butt;stroke-linejoin:round;}</style>\n </defs>\n <g id=\"figure_1\">\n  <g id=\"patch_1\">\n   <path d=\"M 0 248.518125 \nL 386.845313 248.518125 \nL 386.845313 0 \nL 0 0 \nz\n\" style=\"fill:none;\"/>\n  </g>\n  <g id=\"axes_1\">\n   <g id=\"patch_2\">\n    <path d=\"M 44.845313 224.64 \nL 379.645313 224.64 \nL 379.645313 7.2 \nL 44.845313 7.2 \nz\n\" style=\"fill:#ffffff;\"/>\n   </g>\n   <g id=\"matplotlib.axis_1\">\n    <g id=\"xtick_1\">\n     <g id=\"line2d_1\">\n      <defs>\n       <path d=\"M 0 0 \nL 0 3.5 \n\" id=\"m8906cf71f9\" style=\"stroke:#000000;stroke-width:0.8;\"/>\n      </defs>\n      <g>\n       <use style=\"stroke:#000000;stroke-width:0.8;\" x=\"60.063494\" xlink:href=\"#m8906cf71f9\" y=\"224.64\"/>\n      </g>\n     </g>\n     <g id=\"text_1\">\n      <!-- 0.0 -->\n      <g transform=\"translate(52.111932 239.238437)scale(0.1 -0.1)\">\n       <defs>\n        <path d=\"M 2034 4250 \nQ 1547 4250 1301 3770 \nQ 1056 3291 1056 2328 \nQ 1056 1369 1301 889 \nQ 1547 409 2034 409 \nQ 2525 409 2770 889 \nQ 3016 1369 3016 2328 \nQ 3016 3291 2770 3770 \nQ 2525 4250 2034 4250 \nz\nM 2034 4750 \nQ 2819 4750 3233 4129 \nQ 3647 3509 3647 2328 \nQ 3647 1150 3233 529 \nQ 2819 -91 2034 -91 \nQ 1250 -91 836 529 \nQ 422 1150 422 2328 \nQ 422 3509 836 4129 \nQ 1250 4750 2034 4750 \nz\n\" id=\"DejaVuSans-30\" transform=\"scale(0.015625)\"/>\n        <path d=\"M 684 794 \nL 1344 794 \nL 1344 0 \nL 684 0 \nL 684 794 \nz\n\" id=\"DejaVuSans-2e\" transform=\"scale(0.015625)\"/>\n       </defs>\n       <use xlink:href=\"#DejaVuSans-30\"/>\n       <use x=\"63.623047\" xlink:href=\"#DejaVuSans-2e\"/>\n       <use x=\"95.410156\" xlink:href=\"#DejaVuSans-30\"/>\n      </g>\n     </g>\n    </g>\n    <g id=\"xtick_2\">\n     <g id=\"line2d_2\">\n      <g>\n       <use style=\"stroke:#000000;stroke-width:0.8;\" x=\"120.936222\" xlink:href=\"#m8906cf71f9\" y=\"224.64\"/>\n      </g>\n     </g>\n     <g id=\"text_2\">\n      <!-- 0.2 -->\n      <g transform=\"translate(112.984659 239.238437)scale(0.1 -0.1)\">\n       <defs>\n        <path d=\"M 1228 531 \nL 3431 531 \nL 3431 0 \nL 469 0 \nL 469 531 \nQ 828 903 1448 1529 \nQ 2069 2156 2228 2338 \nQ 2531 2678 2651 2914 \nQ 2772 3150 2772 3378 \nQ 2772 3750 2511 3984 \nQ 2250 4219 1831 4219 \nQ 1534 4219 1204 4116 \nQ 875 4013 500 3803 \nL 500 4441 \nQ 881 4594 1212 4672 \nQ 1544 4750 1819 4750 \nQ 2544 4750 2975 4387 \nQ 3406 4025 3406 3419 \nQ 3406 3131 3298 2873 \nQ 3191 2616 2906 2266 \nQ 2828 2175 2409 1742 \nQ 1991 1309 1228 531 \nz\n\" id=\"DejaVuSans-32\" transform=\"scale(0.015625)\"/>\n       </defs>\n       <use xlink:href=\"#DejaVuSans-30\"/>\n       <use x=\"63.623047\" xlink:href=\"#DejaVuSans-2e\"/>\n       <use x=\"95.410156\" xlink:href=\"#DejaVuSans-32\"/>\n      </g>\n     </g>\n    </g>\n    <g id=\"xtick_3\">\n     <g id=\"line2d_3\">\n      <g>\n       <use style=\"stroke:#000000;stroke-width:0.8;\" x=\"181.808949\" xlink:href=\"#m8906cf71f9\" y=\"224.64\"/>\n      </g>\n     </g>\n     <g id=\"text_3\">\n      <!-- 0.4 -->\n      <g transform=\"translate(173.857386 239.238437)scale(0.1 -0.1)\">\n       <defs>\n        <path d=\"M 2419 4116 \nL 825 1625 \nL 2419 1625 \nL 2419 4116 \nz\nM 2253 4666 \nL 3047 4666 \nL 3047 1625 \nL 3713 1625 \nL 3713 1100 \nL 3047 1100 \nL 3047 0 \nL 2419 0 \nL 2419 1100 \nL 313 1100 \nL 313 1709 \nL 2253 4666 \nz\n\" id=\"DejaVuSans-34\" transform=\"scale(0.015625)\"/>\n       </defs>\n       <use xlink:href=\"#DejaVuSans-30\"/>\n       <use x=\"63.623047\" xlink:href=\"#DejaVuSans-2e\"/>\n       <use x=\"95.410156\" xlink:href=\"#DejaVuSans-34\"/>\n      </g>\n     </g>\n    </g>\n    <g id=\"xtick_4\">\n     <g id=\"line2d_4\">\n      <g>\n       <use style=\"stroke:#000000;stroke-width:0.8;\" x=\"242.681676\" xlink:href=\"#m8906cf71f9\" y=\"224.64\"/>\n      </g>\n     </g>\n     <g id=\"text_4\">\n      <!-- 0.6 -->\n      <g transform=\"translate(234.730114 239.238437)scale(0.1 -0.1)\">\n       <defs>\n        <path d=\"M 2113 2584 \nQ 1688 2584 1439 2293 \nQ 1191 2003 1191 1497 \nQ 1191 994 1439 701 \nQ 1688 409 2113 409 \nQ 2538 409 2786 701 \nQ 3034 994 3034 1497 \nQ 3034 2003 2786 2293 \nQ 2538 2584 2113 2584 \nz\nM 3366 4563 \nL 3366 3988 \nQ 3128 4100 2886 4159 \nQ 2644 4219 2406 4219 \nQ 1781 4219 1451 3797 \nQ 1122 3375 1075 2522 \nQ 1259 2794 1537 2939 \nQ 1816 3084 2150 3084 \nQ 2853 3084 3261 2657 \nQ 3669 2231 3669 1497 \nQ 3669 778 3244 343 \nQ 2819 -91 2113 -91 \nQ 1303 -91 875 529 \nQ 447 1150 447 2328 \nQ 447 3434 972 4092 \nQ 1497 4750 2381 4750 \nQ 2619 4750 2861 4703 \nQ 3103 4656 3366 4563 \nz\n\" id=\"DejaVuSans-36\" transform=\"scale(0.015625)\"/>\n       </defs>\n       <use xlink:href=\"#DejaVuSans-30\"/>\n       <use x=\"63.623047\" xlink:href=\"#DejaVuSans-2e\"/>\n       <use x=\"95.410156\" xlink:href=\"#DejaVuSans-36\"/>\n      </g>\n     </g>\n    </g>\n    <g id=\"xtick_5\">\n     <g id=\"line2d_5\">\n      <g>\n       <use style=\"stroke:#000000;stroke-width:0.8;\" x=\"303.554403\" xlink:href=\"#m8906cf71f9\" y=\"224.64\"/>\n      </g>\n     </g>\n     <g id=\"text_5\">\n      <!-- 0.8 -->\n      <g transform=\"translate(295.602841 239.238437)scale(0.1 -0.1)\">\n       <defs>\n        <path d=\"M 2034 2216 \nQ 1584 2216 1326 1975 \nQ 1069 1734 1069 1313 \nQ 1069 891 1326 650 \nQ 1584 409 2034 409 \nQ 2484 409 2743 651 \nQ 3003 894 3003 1313 \nQ 3003 1734 2745 1975 \nQ 2488 2216 2034 2216 \nz\nM 1403 2484 \nQ 997 2584 770 2862 \nQ 544 3141 544 3541 \nQ 544 4100 942 4425 \nQ 1341 4750 2034 4750 \nQ 2731 4750 3128 4425 \nQ 3525 4100 3525 3541 \nQ 3525 3141 3298 2862 \nQ 3072 2584 2669 2484 \nQ 3125 2378 3379 2068 \nQ 3634 1759 3634 1313 \nQ 3634 634 3220 271 \nQ 2806 -91 2034 -91 \nQ 1263 -91 848 271 \nQ 434 634 434 1313 \nQ 434 1759 690 2068 \nQ 947 2378 1403 2484 \nz\nM 1172 3481 \nQ 1172 3119 1398 2916 \nQ 1625 2713 2034 2713 \nQ 2441 2713 2670 2916 \nQ 2900 3119 2900 3481 \nQ 2900 3844 2670 4047 \nQ 2441 4250 2034 4250 \nQ 1625 4250 1398 4047 \nQ 1172 3844 1172 3481 \nz\n\" id=\"DejaVuSans-38\" transform=\"scale(0.015625)\"/>\n       </defs>\n       <use xlink:href=\"#DejaVuSans-30\"/>\n       <use x=\"63.623047\" xlink:href=\"#DejaVuSans-2e\"/>\n       <use x=\"95.410156\" xlink:href=\"#DejaVuSans-38\"/>\n      </g>\n     </g>\n    </g>\n    <g id=\"xtick_6\">\n     <g id=\"line2d_6\">\n      <g>\n       <use style=\"stroke:#000000;stroke-width:0.8;\" x=\"364.427131\" xlink:href=\"#m8906cf71f9\" y=\"224.64\"/>\n      </g>\n     </g>\n     <g id=\"text_6\">\n      <!-- 1.0 -->\n      <g transform=\"translate(356.475568 239.238437)scale(0.1 -0.1)\">\n       <defs>\n        <path d=\"M 794 531 \nL 1825 531 \nL 1825 4091 \nL 703 3866 \nL 703 4441 \nL 1819 4666 \nL 2450 4666 \nL 2450 531 \nL 3481 531 \nL 3481 0 \nL 794 0 \nL 794 531 \nz\n\" id=\"DejaVuSans-31\" transform=\"scale(0.015625)\"/>\n       </defs>\n       <use xlink:href=\"#DejaVuSans-31\"/>\n       <use x=\"63.623047\" xlink:href=\"#DejaVuSans-2e\"/>\n       <use x=\"95.410156\" xlink:href=\"#DejaVuSans-30\"/>\n      </g>\n     </g>\n    </g>\n   </g>\n   <g id=\"matplotlib.axis_2\">\n    <g id=\"ytick_1\">\n     <g id=\"line2d_7\">\n      <defs>\n       <path d=\"M 0 0 \nL -3.5 0 \n\" id=\"m0d6449a3f2\" style=\"stroke:#000000;stroke-width:0.8;\"/>\n      </defs>\n      <g>\n       <use style=\"stroke:#000000;stroke-width:0.8;\" x=\"44.845313\" xlink:href=\"#m0d6449a3f2\" y=\"214.768806\"/>\n      </g>\n     </g>\n     <g id=\"text_7\">\n      <!-- −1.00 -->\n      <g transform=\"translate(7.2 218.568025)scale(0.1 -0.1)\">\n       <defs>\n        <path d=\"M 678 2272 \nL 4684 2272 \nL 4684 1741 \nL 678 1741 \nL 678 2272 \nz\n\" id=\"DejaVuSans-2212\" transform=\"scale(0.015625)\"/>\n       </defs>\n       <use xlink:href=\"#DejaVuSans-2212\"/>\n       <use x=\"83.789062\" xlink:href=\"#DejaVuSans-31\"/>\n       <use x=\"147.412109\" xlink:href=\"#DejaVuSans-2e\"/>\n       <use x=\"179.199219\" xlink:href=\"#DejaVuSans-30\"/>\n       <use x=\"242.822266\" xlink:href=\"#DejaVuSans-30\"/>\n      </g>\n     </g>\n    </g>\n    <g id=\"ytick_2\">\n     <g id=\"line2d_8\">\n      <g>\n       <use style=\"stroke:#000000;stroke-width:0.8;\" x=\"44.845313\" xlink:href=\"#m0d6449a3f2\" y=\"190.056604\"/>\n      </g>\n     </g>\n     <g id=\"text_8\">\n      <!-- −0.75 -->\n      <g transform=\"translate(7.2 193.855823)scale(0.1 -0.1)\">\n       <defs>\n        <path d=\"M 525 4666 \nL 3525 4666 \nL 3525 4397 \nL 1831 0 \nL 1172 0 \nL 2766 4134 \nL 525 4134 \nL 525 4666 \nz\n\" id=\"DejaVuSans-37\" transform=\"scale(0.015625)\"/>\n        <path d=\"M 691 4666 \nL 3169 4666 \nL 3169 4134 \nL 1269 4134 \nL 1269 2991 \nQ 1406 3038 1543 3061 \nQ 1681 3084 1819 3084 \nQ 2600 3084 3056 2656 \nQ 3513 2228 3513 1497 \nQ 3513 744 3044 326 \nQ 2575 -91 1722 -91 \nQ 1428 -91 1123 -41 \nQ 819 9 494 109 \nL 494 744 \nQ 775 591 1075 516 \nQ 1375 441 1709 441 \nQ 2250 441 2565 725 \nQ 2881 1009 2881 1497 \nQ 2881 1984 2565 2268 \nQ 2250 2553 1709 2553 \nQ 1456 2553 1204 2497 \nQ 953 2441 691 2322 \nL 691 4666 \nz\n\" id=\"DejaVuSans-35\" transform=\"scale(0.015625)\"/>\n       </defs>\n       <use xlink:href=\"#DejaVuSans-2212\"/>\n       <use x=\"83.789062\" xlink:href=\"#DejaVuSans-30\"/>\n       <use x=\"147.412109\" xlink:href=\"#DejaVuSans-2e\"/>\n       <use x=\"179.199219\" xlink:href=\"#DejaVuSans-37\"/>\n       <use x=\"242.822266\" xlink:href=\"#DejaVuSans-35\"/>\n      </g>\n     </g>\n    </g>\n    <g id=\"ytick_3\">\n     <g id=\"line2d_9\">\n      <g>\n       <use style=\"stroke:#000000;stroke-width:0.8;\" x=\"44.845313\" xlink:href=\"#m0d6449a3f2\" y=\"165.344403\"/>\n      </g>\n     </g>\n     <g id=\"text_9\">\n      <!-- −0.50 -->\n      <g transform=\"translate(7.2 169.143622)scale(0.1 -0.1)\">\n       <use xlink:href=\"#DejaVuSans-2212\"/>\n       <use x=\"83.789062\" xlink:href=\"#DejaVuSans-30\"/>\n       <use x=\"147.412109\" xlink:href=\"#DejaVuSans-2e\"/>\n       <use x=\"179.199219\" xlink:href=\"#DejaVuSans-35\"/>\n       <use x=\"242.822266\" xlink:href=\"#DejaVuSans-30\"/>\n      </g>\n     </g>\n    </g>\n    <g id=\"ytick_4\">\n     <g id=\"line2d_10\">\n      <g>\n       <use style=\"stroke:#000000;stroke-width:0.8;\" x=\"44.845313\" xlink:href=\"#m0d6449a3f2\" y=\"140.632201\"/>\n      </g>\n     </g>\n     <g id=\"text_10\">\n      <!-- −0.25 -->\n      <g transform=\"translate(7.2 144.43142)scale(0.1 -0.1)\">\n       <use xlink:href=\"#DejaVuSans-2212\"/>\n       <use x=\"83.789062\" xlink:href=\"#DejaVuSans-30\"/>\n       <use x=\"147.412109\" xlink:href=\"#DejaVuSans-2e\"/>\n       <use x=\"179.199219\" xlink:href=\"#DejaVuSans-32\"/>\n       <use x=\"242.822266\" xlink:href=\"#DejaVuSans-35\"/>\n      </g>\n     </g>\n    </g>\n    <g id=\"ytick_5\">\n     <g id=\"line2d_11\">\n      <g>\n       <use style=\"stroke:#000000;stroke-width:0.8;\" x=\"44.845313\" xlink:href=\"#m0d6449a3f2\" y=\"115.92\"/>\n      </g>\n     </g>\n     <g id=\"text_11\">\n      <!-- 0.00 -->\n      <g transform=\"translate(15.579688 119.719219)scale(0.1 -0.1)\">\n       <use xlink:href=\"#DejaVuSans-30\"/>\n       <use x=\"63.623047\" xlink:href=\"#DejaVuSans-2e\"/>\n       <use x=\"95.410156\" xlink:href=\"#DejaVuSans-30\"/>\n       <use x=\"159.033203\" xlink:href=\"#DejaVuSans-30\"/>\n      </g>\n     </g>\n    </g>\n    <g id=\"ytick_6\">\n     <g id=\"line2d_12\">\n      <g>\n       <use style=\"stroke:#000000;stroke-width:0.8;\" x=\"44.845313\" xlink:href=\"#m0d6449a3f2\" y=\"91.207799\"/>\n      </g>\n     </g>\n     <g id=\"text_12\">\n      <!-- 0.25 -->\n      <g transform=\"translate(15.579688 95.007017)scale(0.1 -0.1)\">\n       <use xlink:href=\"#DejaVuSans-30\"/>\n       <use x=\"63.623047\" xlink:href=\"#DejaVuSans-2e\"/>\n       <use x=\"95.410156\" xlink:href=\"#DejaVuSans-32\"/>\n       <use x=\"159.033203\" xlink:href=\"#DejaVuSans-35\"/>\n      </g>\n     </g>\n    </g>\n    <g id=\"ytick_7\">\n     <g id=\"line2d_13\">\n      <g>\n       <use style=\"stroke:#000000;stroke-width:0.8;\" x=\"44.845313\" xlink:href=\"#m0d6449a3f2\" y=\"66.495597\"/>\n      </g>\n     </g>\n     <g id=\"text_13\">\n      <!-- 0.50 -->\n      <g transform=\"translate(15.579688 70.294816)scale(0.1 -0.1)\">\n       <use xlink:href=\"#DejaVuSans-30\"/>\n       <use x=\"63.623047\" xlink:href=\"#DejaVuSans-2e\"/>\n       <use x=\"95.410156\" xlink:href=\"#DejaVuSans-35\"/>\n       <use x=\"159.033203\" xlink:href=\"#DejaVuSans-30\"/>\n      </g>\n     </g>\n    </g>\n    <g id=\"ytick_8\">\n     <g id=\"line2d_14\">\n      <g>\n       <use style=\"stroke:#000000;stroke-width:0.8;\" x=\"44.845313\" xlink:href=\"#m0d6449a3f2\" y=\"41.783396\"/>\n      </g>\n     </g>\n     <g id=\"text_14\">\n      <!-- 0.75 -->\n      <g transform=\"translate(15.579688 45.582614)scale(0.1 -0.1)\">\n       <use xlink:href=\"#DejaVuSans-30\"/>\n       <use x=\"63.623047\" xlink:href=\"#DejaVuSans-2e\"/>\n       <use x=\"95.410156\" xlink:href=\"#DejaVuSans-37\"/>\n       <use x=\"159.033203\" xlink:href=\"#DejaVuSans-35\"/>\n      </g>\n     </g>\n    </g>\n    <g id=\"ytick_9\">\n     <g id=\"line2d_15\">\n      <g>\n       <use style=\"stroke:#000000;stroke-width:0.8;\" x=\"44.845313\" xlink:href=\"#m0d6449a3f2\" y=\"17.071194\"/>\n      </g>\n     </g>\n     <g id=\"text_15\">\n      <!-- 1.00 -->\n      <g transform=\"translate(15.579688 20.870413)scale(0.1 -0.1)\">\n       <use xlink:href=\"#DejaVuSans-31\"/>\n       <use x=\"63.623047\" xlink:href=\"#DejaVuSans-2e\"/>\n       <use x=\"95.410156\" xlink:href=\"#DejaVuSans-30\"/>\n       <use x=\"159.033203\" xlink:href=\"#DejaVuSans-30\"/>\n      </g>\n     </g>\n    </g>\n   </g>\n   <g id=\"line2d_16\">\n    <path clip-path=\"url(#p3cc8654162)\" d=\"M 60.063494 115.92 \nL 63.137874 109.650621 \nL 66.212255 103.406487 \nL 69.286635 97.21274 \nL 72.361015 91.094321 \nL 75.435395 85.075866 \nL 78.509775 79.18161 \nL 81.584155 73.435286 \nL 84.658536 67.860033 \nL 87.732916 62.478301 \nL 90.807296 57.311759 \nL 93.881676 52.381212 \nL 96.956056 47.706514 \nL 100.030436 43.306487 \nL 103.104817 39.198849 \nL 106.179197 35.40014 \nL 109.253577 31.925656 \nL 112.327957 28.789388 \nL 115.402337 26.003963 \nL 118.476717 23.580599 \nL 121.551098 21.529054 \nL 124.625478 19.857587 \nL 127.699858 18.57293 \nL 130.774238 17.680254 \nL 133.848618 17.183156 \nL 136.922998 17.083636 \nL 139.997379 17.382096 \nL 143.071759 18.077332 \nL 146.146139 19.166547 \nL 149.220519 20.645353 \nL 152.294899 22.507797 \nL 155.369279 24.746379 \nL 158.44366 27.352085 \nL 161.51804 30.314423 \nL 164.59242 33.621464 \nL 167.6668 37.259892 \nL 170.74118 41.215057 \nL 173.81556 45.471032 \nL 176.889941 50.01068 \nL 179.964321 54.815722 \nL 183.038701 59.86681 \nL 186.113081 65.143603 \nL 189.187461 70.624855 \nL 192.261841 76.288495 \nL 195.336222 82.111717 \nL 198.410602 88.071073 \nL 201.484982 94.142567 \nL 204.559362 100.301751 \nL 207.633742 106.523824 \nL 210.708122 112.783732 \nL 213.782503 119.056268 \nL 216.856883 125.316176 \nL 219.931263 131.538249 \nL 223.005643 137.697433 \nL 226.080023 143.768927 \nL 229.154403 149.728283 \nL 232.228784 155.551505 \nL 235.303164 161.215145 \nL 238.377544 166.696397 \nL 241.451924 171.97319 \nL 244.526304 177.024278 \nL 247.600684 181.82932 \nL 250.675065 186.368968 \nL 253.749445 190.624943 \nL 256.823825 194.580108 \nL 259.898205 198.218536 \nL 262.972585 201.525577 \nL 266.046965 204.487915 \nL 269.121346 207.093621 \nL 272.195726 209.332203 \nL 275.270106 211.194647 \nL 278.344486 212.673453 \nL 281.418866 213.762668 \nL 284.493246 214.457904 \nL 287.567627 214.756364 \nL 290.642007 214.656844 \nL 293.716387 214.159746 \nL 296.790767 213.26707 \nL 299.865147 211.982413 \nL 302.939527 210.310946 \nL 306.013908 208.259401 \nL 309.088288 205.836037 \nL 312.162668 203.050612 \nL 315.237048 199.914344 \nL 318.311428 196.43986 \nL 321.385808 192.641151 \nL 324.460189 188.533513 \nL 327.534569 184.133486 \nL 330.608949 179.458788 \nL 333.683329 174.528241 \nL 336.757709 169.361699 \nL 339.832089 163.979967 \nL 342.90647 158.404714 \nL 345.98085 152.65839 \nL 349.05523 146.764134 \nL 352.12961 140.745679 \nL 355.20399 134.62726 \nL 358.27837 128.433513 \nL 361.352751 122.189379 \nL 364.427131 115.92 \n\" style=\"fill:none;stroke:#1f77b4;stroke-dasharray:1.5,2.475;stroke-dashoffset:0;stroke-width:1.5;\"/>\n   </g>\n   <g id=\"patch_3\">\n    <path d=\"M 44.845313 224.64 \nL 44.845313 7.2 \n\" style=\"fill:none;stroke:#000000;stroke-linecap:square;stroke-linejoin:miter;stroke-width:0.8;\"/>\n   </g>\n   <g id=\"patch_4\">\n    <path d=\"M 379.645313 224.64 \nL 379.645313 7.2 \n\" style=\"fill:none;stroke:#000000;stroke-linecap:square;stroke-linejoin:miter;stroke-width:0.8;\"/>\n   </g>\n   <g id=\"patch_5\">\n    <path d=\"M 44.845313 224.64 \nL 379.645313 224.64 \n\" style=\"fill:none;stroke:#000000;stroke-linecap:square;stroke-linejoin:miter;stroke-width:0.8;\"/>\n   </g>\n   <g id=\"patch_6\">\n    <path d=\"M 44.845313 7.2 \nL 379.645313 7.2 \n\" style=\"fill:none;stroke:#000000;stroke-linecap:square;stroke-linejoin:miter;stroke-width:0.8;\"/>\n   </g>\n  </g>\n </g>\n <defs>\n  <clipPath id=\"p3cc8654162\">\n   <rect height=\"217.44\" width=\"334.8\" x=\"44.845313\" y=\"7.2\"/>\n  </clipPath>\n </defs>\n</svg>\n",
      "image/png": "[encoded data removed]"
     },
     "metadata": {
      "needs_background": "light"
     }
    }
   ],
   "source": [
    "import matplotlib.pyplot as plt\n",
    "import numpy as np\n",
    "from sklearn.model_selection import train_test_split as tts\n",
    "\n",
    "def f(x):\n",
    "    return np.sin(2*np.pi*x)\n",
    "\n",
    "sin_x = np.linspace(0,1,100)\n",
    "x = np.random.rand(100)[:, np.newaxis]\n",
    "y = f(x) + np.random.rand(100)[:, np.newaxis] - 0.5\n",
    "x_train , x_test ,y_train , y_test = tts(x, y)\n",
    "plt.plot(sin_x ,f(sin_x), ':')"
   ]
  },
  {
   "cell_type": "markdown",
   "id": "2347c1ac",
   "metadata": {},
   "source": [
    "# 34"
   ]
  },
  {
   "cell_type": "code",
   "execution_count": 23,
   "id": "07d878ee",
   "metadata": {},
   "outputs": [
    {
     "output_type": "execute_result",
     "data": {
      "text/plain": [
       "<matplotlib.collections.PathCollection at 0x7f8a89a3d7c0>"
      ]
     },
     "metadata": {},
     "execution_count": 23
    },
    {
     "output_type": "display_data",
     "data": {
      "text/plain": "<Figure size 432x288 with 1 Axes>",
      "image/svg+xml": "<?xml version=\"1.0\" encoding=\"utf-8\" standalone=\"no\"?>\n<!DOCTYPE svg PUBLIC \"-//W3C//DTD SVG 1.1//EN\"\n  \"http://www.w3.org/Graphics/SVG/1.1/DTD/svg11.dtd\">\n<svg height=\"248.518125pt\" version=\"1.1\" viewBox=\"0 0 380.482812 248.518125\" width=\"380.482812pt\" xmlns=\"http://www.w3.org/2000/svg\" xmlns:xlink=\"http://www.w3.org/1999/xlink\">\n <metadata>\n  <rdf:RDF xmlns:cc=\"http://creativecommons.org/ns#\" xmlns:dc=\"http://purl.org/dc/elements/1.1/\" xmlns:rdf=\"http://www.w3.org/1999/02/22-rdf-syntax-ns#\">\n   <cc:Work>\n    <dc:type rdf:resource=\"http://purl.org/dc/dcmitype/StillImage\"/>\n    <dc:date>2021-06-15T23:58:20.805735</dc:date>\n    <dc:format>image/svg+xml</dc:format>\n    <dc:creator>\n     <cc:Agent>\n      <dc:title>Matplotlib v3.4.2, https://matplotlib.org/</dc:title>\n     </cc:Agent>\n    </dc:creator>\n   </cc:Work>\n  </rdf:RDF>\n </metadata>\n <defs>\n  <style type=\"text/css\">*{stroke-linecap:butt;stroke-linejoin:round;}</style>\n </defs>\n <g id=\"figure_1\">\n  <g id=\"patch_1\">\n   <path d=\"M -0 248.518125 \nL 380.482812 248.518125 \nL 380.482812 0 \nL -0 0 \nz\n\" style=\"fill:none;\"/>\n  </g>\n  <g id=\"axes_1\">\n   <g id=\"patch_2\">\n    <path d=\"M 38.482813 224.64 \nL 373.282813 224.64 \nL 373.282813 7.2 \nL 38.482813 7.2 \nz\n\" style=\"fill:#ffffff;\"/>\n   </g>\n   <g id=\"PathCollection_1\">\n    <defs>\n     <path d=\"M 0 3 \nC 0.795609 3 1.55874 2.683901 2.12132 2.12132 \nC 2.683901 1.55874 3 0.795609 3 0 \nC 3 -0.795609 2.683901 -1.55874 2.12132 -2.12132 \nC 1.55874 -2.683901 0.795609 -3 0 -3 \nC -0.795609 -3 -1.55874 -2.683901 -2.12132 -2.12132 \nC -2.683901 -1.55874 -3 -0.795609 -3 0 \nC -3 0.795609 -2.683901 1.55874 -2.12132 2.12132 \nC -1.55874 2.683901 -0.795609 3 0 3 \nz\n\" id=\"me55a02d51b\" style=\"stroke:#1f77b4;\"/>\n    </defs>\n    <g clip-path=\"url(#p607646b3a0)\">\n     <use style=\"fill:#1f77b4;stroke:#1f77b4;\" x=\"358.064631\" xlink:href=\"#me55a02d51b\" y=\"124.78493\"/>\n     <use style=\"fill:#1f77b4;stroke:#1f77b4;\" x=\"66.185496\" xlink:href=\"#me55a02d51b\" y=\"86.275305\"/>\n     <use style=\"fill:#1f77b4;stroke:#1f77b4;\" x=\"68.706101\" xlink:href=\"#me55a02d51b\" y=\"115.134005\"/>\n     <use style=\"fill:#1f77b4;stroke:#1f77b4;\" x=\"316.46124\" xlink:href=\"#me55a02d51b\" y=\"138.792752\"/>\n     <use style=\"fill:#1f77b4;stroke:#1f77b4;\" x=\"252.789118\" xlink:href=\"#me55a02d51b\" y=\"160.659356\"/>\n     <use style=\"fill:#1f77b4;stroke:#1f77b4;\" x=\"259.54868\" xlink:href=\"#me55a02d51b\" y=\"203.293282\"/>\n     <use style=\"fill:#1f77b4;stroke:#1f77b4;\" x=\"278.295745\" xlink:href=\"#me55a02d51b\" y=\"195.207441\"/>\n     <use style=\"fill:#1f77b4;stroke:#1f77b4;\" x=\"121.840711\" xlink:href=\"#me55a02d51b\" y=\"58.923142\"/>\n     <use style=\"fill:#1f77b4;stroke:#1f77b4;\" x=\"337.19\" xlink:href=\"#me55a02d51b\" y=\"151.397429\"/>\n     <use style=\"fill:#1f77b4;stroke:#1f77b4;\" x=\"92.552663\" xlink:href=\"#me55a02d51b\" y=\"74.608937\"/>\n     <use style=\"fill:#1f77b4;stroke:#1f77b4;\" x=\"326.114543\" xlink:href=\"#me55a02d51b\" y=\"172.242449\"/>\n     <use style=\"fill:#1f77b4;stroke:#1f77b4;\" x=\"285.295237\" xlink:href=\"#me55a02d51b\" y=\"196.479683\"/>\n     <use style=\"fill:#1f77b4;stroke:#1f77b4;\" x=\"303.693292\" xlink:href=\"#me55a02d51b\" y=\"167.668147\"/>\n     <use style=\"fill:#1f77b4;stroke:#1f77b4;\" x=\"288.859609\" xlink:href=\"#me55a02d51b\" y=\"214.756364\"/>\n     <use style=\"fill:#1f77b4;stroke:#1f77b4;\" x=\"77.836516\" xlink:href=\"#me55a02d51b\" y=\"98.578438\"/>\n     <use style=\"fill:#1f77b4;stroke:#1f77b4;\" x=\"109.850076\" xlink:href=\"#me55a02d51b\" y=\"66.406009\"/>\n     <use style=\"fill:#1f77b4;stroke:#1f77b4;\" x=\"61.266012\" xlink:href=\"#me55a02d51b\" y=\"94.633818\"/>\n     <use style=\"fill:#1f77b4;stroke:#1f77b4;\" x=\"197.65419\" xlink:href=\"#me55a02d51b\" y=\"111.675121\"/>\n     <use style=\"fill:#1f77b4;stroke:#1f77b4;\" x=\"235.711739\" xlink:href=\"#me55a02d51b\" y=\"166.603095\"/>\n     <use style=\"fill:#1f77b4;stroke:#1f77b4;\" x=\"105.147487\" xlink:href=\"#me55a02d51b\" y=\"32.439057\"/>\n     <use style=\"fill:#1f77b4;stroke:#1f77b4;\" x=\"185.5261\" xlink:href=\"#me55a02d51b\" y=\"121.276057\"/>\n     <use style=\"fill:#1f77b4;stroke:#1f77b4;\" x=\"315.641586\" xlink:href=\"#me55a02d51b\" y=\"168.939501\"/>\n     <use style=\"fill:#1f77b4;stroke:#1f77b4;\" x=\"124.457407\" xlink:href=\"#me55a02d51b\" y=\"17.083636\"/>\n     <use style=\"fill:#1f77b4;stroke:#1f77b4;\" x=\"83.177661\" xlink:href=\"#me55a02d51b\" y=\"93.767983\"/>\n     <use style=\"fill:#1f77b4;stroke:#1f77b4;\" x=\"345.247338\" xlink:href=\"#me55a02d51b\" y=\"132.798121\"/>\n     <use style=\"fill:#1f77b4;stroke:#1f77b4;\" x=\"57.028278\" xlink:href=\"#me55a02d51b\" y=\"91.075436\"/>\n     <use style=\"fill:#1f77b4;stroke:#1f77b4;\" x=\"304.956074\" xlink:href=\"#me55a02d51b\" y=\"191.836499\"/>\n     <use style=\"fill:#1f77b4;stroke:#1f77b4;\" x=\"268.49809\" xlink:href=\"#me55a02d51b\" y=\"207.413477\"/>\n     <use style=\"fill:#1f77b4;stroke:#1f77b4;\" x=\"293.998316\" xlink:href=\"#me55a02d51b\" y=\"181.895973\"/>\n     <use style=\"fill:#1f77b4;stroke:#1f77b4;\" x=\"114.219625\" xlink:href=\"#me55a02d51b\" y=\"23.79534\"/>\n     <use style=\"fill:#1f77b4;stroke:#1f77b4;\" x=\"215.751686\" xlink:href=\"#me55a02d51b\" y=\"98.332985\"/>\n     <use style=\"fill:#1f77b4;stroke:#1f77b4;\" x=\"82.825215\" xlink:href=\"#me55a02d51b\" y=\"87.142072\"/>\n     <use style=\"fill:#1f77b4;stroke:#1f77b4;\" x=\"282.404721\" xlink:href=\"#me55a02d51b\" y=\"188.291682\"/>\n     <use style=\"fill:#1f77b4;stroke:#1f77b4;\" x=\"328.709582\" xlink:href=\"#me55a02d51b\" y=\"142.90415\"/>\n     <use style=\"fill:#1f77b4;stroke:#1f77b4;\" x=\"62.067223\" xlink:href=\"#me55a02d51b\" y=\"117.14569\"/>\n     <use style=\"fill:#1f77b4;stroke:#1f77b4;\" x=\"299.469152\" xlink:href=\"#me55a02d51b\" y=\"204.454179\"/>\n     <use style=\"fill:#1f77b4;stroke:#1f77b4;\" x=\"69.822471\" xlink:href=\"#me55a02d51b\" y=\"122.042323\"/>\n     <use style=\"fill:#1f77b4;stroke:#1f77b4;\" x=\"285.607662\" xlink:href=\"#me55a02d51b\" y=\"207.419731\"/>\n     <use style=\"fill:#1f77b4;stroke:#1f77b4;\" x=\"357.665719\" xlink:href=\"#me55a02d51b\" y=\"90.143385\"/>\n     <use style=\"fill:#1f77b4;stroke:#1f77b4;\" x=\"218.062753\" xlink:href=\"#me55a02d51b\" y=\"110.729438\"/>\n     <use style=\"fill:#1f77b4;stroke:#1f77b4;\" x=\"269.456195\" xlink:href=\"#me55a02d51b\" y=\"186.972449\"/>\n     <use style=\"fill:#1f77b4;stroke:#1f77b4;\" x=\"53.700994\" xlink:href=\"#me55a02d51b\" y=\"137.845351\"/>\n     <use style=\"fill:#1f77b4;stroke:#1f77b4;\" x=\"244.506326\" xlink:href=\"#me55a02d51b\" y=\"140.165943\"/>\n     <use style=\"fill:#1f77b4;stroke:#1f77b4;\" x=\"274.587015\" xlink:href=\"#me55a02d51b\" y=\"179.250515\"/>\n     <use style=\"fill:#1f77b4;stroke:#1f77b4;\" x=\"106.788533\" xlink:href=\"#me55a02d51b\" y=\"52.049432\"/>\n     <use style=\"fill:#1f77b4;stroke:#1f77b4;\" x=\"86.63462\" xlink:href=\"#me55a02d51b\" y=\"66.134218\"/>\n     <use style=\"fill:#1f77b4;stroke:#1f77b4;\" x=\"154.017521\" xlink:href=\"#me55a02d51b\" y=\"44.648687\"/>\n     <use style=\"fill:#1f77b4;stroke:#1f77b4;\" x=\"263.695815\" xlink:href=\"#me55a02d51b\" y=\"185.412371\"/>\n     <use style=\"fill:#1f77b4;stroke:#1f77b4;\" x=\"134.293587\" xlink:href=\"#me55a02d51b\" y=\"79.819928\"/>\n     <use style=\"fill:#1f77b4;stroke:#1f77b4;\" x=\"106.465952\" xlink:href=\"#me55a02d51b\" y=\"37.936474\"/>\n     <use style=\"fill:#1f77b4;stroke:#1f77b4;\" x=\"287.5091\" xlink:href=\"#me55a02d51b\" y=\"189.896724\"/>\n     <use style=\"fill:#1f77b4;stroke:#1f77b4;\" x=\"314.436354\" xlink:href=\"#me55a02d51b\" y=\"197.286013\"/>\n     <use style=\"fill:#1f77b4;stroke:#1f77b4;\" x=\"326.434978\" xlink:href=\"#me55a02d51b\" y=\"131.316352\"/>\n     <use style=\"fill:#1f77b4;stroke:#1f77b4;\" x=\"231.691306\" xlink:href=\"#me55a02d51b\" y=\"181.638771\"/>\n     <use style=\"fill:#1f77b4;stroke:#1f77b4;\" x=\"241.327443\" xlink:href=\"#me55a02d51b\" y=\"191.27376\"/>\n     <use style=\"fill:#1f77b4;stroke:#1f77b4;\" x=\"104.36635\" xlink:href=\"#me55a02d51b\" y=\"57.923367\"/>\n     <use style=\"fill:#1f77b4;stroke:#1f77b4;\" x=\"204.542791\" xlink:href=\"#me55a02d51b\" y=\"114.011778\"/>\n     <use style=\"fill:#1f77b4;stroke:#1f77b4;\" x=\"232.272856\" xlink:href=\"#me55a02d51b\" y=\"134.099531\"/>\n     <use style=\"fill:#1f77b4;stroke:#1f77b4;\" x=\"127.104777\" xlink:href=\"#me55a02d51b\" y=\"70.9321\"/>\n     <use style=\"fill:#1f77b4;stroke:#1f77b4;\" x=\"350.792417\" xlink:href=\"#me55a02d51b\" y=\"150.69988\"/>\n     <use style=\"fill:#1f77b4;stroke:#1f77b4;\" x=\"284.275966\" xlink:href=\"#me55a02d51b\" y=\"158.653588\"/>\n     <use style=\"fill:#1f77b4;stroke:#1f77b4;\" x=\"277.501396\" xlink:href=\"#me55a02d51b\" y=\"195.359926\"/>\n     <use style=\"fill:#1f77b4;stroke:#1f77b4;\" x=\"151.283105\" xlink:href=\"#me55a02d51b\" y=\"70.15916\"/>\n     <use style=\"fill:#1f77b4;stroke:#1f77b4;\" x=\"246.759029\" xlink:href=\"#me55a02d51b\" y=\"182.358585\"/>\n     <use style=\"fill:#1f77b4;stroke:#1f77b4;\" x=\"246.463036\" xlink:href=\"#me55a02d51b\" y=\"150.671328\"/>\n     <use style=\"fill:#1f77b4;stroke:#1f77b4;\" x=\"253.149305\" xlink:href=\"#me55a02d51b\" y=\"141.322161\"/>\n     <use style=\"fill:#1f77b4;stroke:#1f77b4;\" x=\"91.270425\" xlink:href=\"#me55a02d51b\" y=\"72.142295\"/>\n     <use style=\"fill:#1f77b4;stroke:#1f77b4;\" x=\"296.604286\" xlink:href=\"#me55a02d51b\" y=\"165.376566\"/>\n     <use style=\"fill:#1f77b4;stroke:#1f77b4;\" x=\"326.910797\" xlink:href=\"#me55a02d51b\" y=\"181.800029\"/>\n     <use style=\"fill:#1f77b4;stroke:#1f77b4;\" x=\"208.143662\" xlink:href=\"#me55a02d51b\" y=\"143.053315\"/>\n     <use style=\"fill:#1f77b4;stroke:#1f77b4;\" x=\"80.268825\" xlink:href=\"#me55a02d51b\" y=\"105.683097\"/>\n     <use style=\"fill:#1f77b4;stroke:#1f77b4;\" x=\"222.360603\" xlink:href=\"#me55a02d51b\" y=\"129.480605\"/>\n     <use style=\"fill:#1f77b4;stroke:#1f77b4;\" x=\"310.543211\" xlink:href=\"#me55a02d51b\" y=\"161.47191\"/>\n     <use style=\"fill:#1f77b4;stroke:#1f77b4;\" x=\"117.151297\" xlink:href=\"#me55a02d51b\" y=\"80.337857\"/>\n     <use style=\"fill:#1f77b4;stroke:#1f77b4;\" x=\"300.204689\" xlink:href=\"#me55a02d51b\" y=\"191.501708\"/>\n    </g>\n   </g>\n   <g id=\"matplotlib.axis_1\">\n    <g id=\"xtick_1\">\n     <g id=\"line2d_1\">\n      <defs>\n       <path d=\"M 0 0 \nL 0 3.5 \n\" id=\"m13395b5a21\" style=\"stroke:#000000;stroke-width:0.8;\"/>\n      </defs>\n      <g>\n       <use style=\"stroke:#000000;stroke-width:0.8;\" x=\"50.952645\" xlink:href=\"#m13395b5a21\" y=\"224.64\"/>\n      </g>\n     </g>\n     <g id=\"text_1\">\n      <!-- 0.0 -->\n      <g transform=\"translate(43.001082 239.238437)scale(0.1 -0.1)\">\n       <defs>\n        <path d=\"M 2034 4250 \nQ 1547 4250 1301 3770 \nQ 1056 3291 1056 2328 \nQ 1056 1369 1301 889 \nQ 1547 409 2034 409 \nQ 2525 409 2770 889 \nQ 3016 1369 3016 2328 \nQ 3016 3291 2770 3770 \nQ 2525 4250 2034 4250 \nz\nM 2034 4750 \nQ 2819 4750 3233 4129 \nQ 3647 3509 3647 2328 \nQ 3647 1150 3233 529 \nQ 2819 -91 2034 -91 \nQ 1250 -91 836 529 \nQ 422 1150 422 2328 \nQ 422 3509 836 4129 \nQ 1250 4750 2034 4750 \nz\n\" id=\"DejaVuSans-30\" transform=\"scale(0.015625)\"/>\n        <path d=\"M 684 794 \nL 1344 794 \nL 1344 0 \nL 684 0 \nL 684 794 \nz\n\" id=\"DejaVuSans-2e\" transform=\"scale(0.015625)\"/>\n       </defs>\n       <use xlink:href=\"#DejaVuSans-30\"/>\n       <use x=\"63.623047\" xlink:href=\"#DejaVuSans-2e\"/>\n       <use x=\"95.410156\" xlink:href=\"#DejaVuSans-30\"/>\n      </g>\n     </g>\n    </g>\n    <g id=\"xtick_2\">\n     <g id=\"line2d_2\">\n      <g>\n       <use style=\"stroke:#000000;stroke-width:0.8;\" x=\"112.964077\" xlink:href=\"#m13395b5a21\" y=\"224.64\"/>\n      </g>\n     </g>\n     <g id=\"text_2\">\n      <!-- 0.2 -->\n      <g transform=\"translate(105.012514 239.238437)scale(0.1 -0.1)\">\n       <defs>\n        <path d=\"M 1228 531 \nL 3431 531 \nL 3431 0 \nL 469 0 \nL 469 531 \nQ 828 903 1448 1529 \nQ 2069 2156 2228 2338 \nQ 2531 2678 2651 2914 \nQ 2772 3150 2772 3378 \nQ 2772 3750 2511 3984 \nQ 2250 4219 1831 4219 \nQ 1534 4219 1204 4116 \nQ 875 4013 500 3803 \nL 500 4441 \nQ 881 4594 1212 4672 \nQ 1544 4750 1819 4750 \nQ 2544 4750 2975 4387 \nQ 3406 4025 3406 3419 \nQ 3406 3131 3298 2873 \nQ 3191 2616 2906 2266 \nQ 2828 2175 2409 1742 \nQ 1991 1309 1228 531 \nz\n\" id=\"DejaVuSans-32\" transform=\"scale(0.015625)\"/>\n       </defs>\n       <use xlink:href=\"#DejaVuSans-30\"/>\n       <use x=\"63.623047\" xlink:href=\"#DejaVuSans-2e\"/>\n       <use x=\"95.410156\" xlink:href=\"#DejaVuSans-32\"/>\n      </g>\n     </g>\n    </g>\n    <g id=\"xtick_3\">\n     <g id=\"line2d_3\">\n      <g>\n       <use style=\"stroke:#000000;stroke-width:0.8;\" x=\"174.975509\" xlink:href=\"#m13395b5a21\" y=\"224.64\"/>\n      </g>\n     </g>\n     <g id=\"text_3\">\n      <!-- 0.4 -->\n      <g transform=\"translate(167.023947 239.238437)scale(0.1 -0.1)\">\n       <defs>\n        <path d=\"M 2419 4116 \nL 825 1625 \nL 2419 1625 \nL 2419 4116 \nz\nM 2253 4666 \nL 3047 4666 \nL 3047 1625 \nL 3713 1625 \nL 3713 1100 \nL 3047 1100 \nL 3047 0 \nL 2419 0 \nL 2419 1100 \nL 313 1100 \nL 313 1709 \nL 2253 4666 \nz\n\" id=\"DejaVuSans-34\" transform=\"scale(0.015625)\"/>\n       </defs>\n       <use xlink:href=\"#DejaVuSans-30\"/>\n       <use x=\"63.623047\" xlink:href=\"#DejaVuSans-2e\"/>\n       <use x=\"95.410156\" xlink:href=\"#DejaVuSans-34\"/>\n      </g>\n     </g>\n    </g>\n    <g id=\"xtick_4\">\n     <g id=\"line2d_4\">\n      <g>\n       <use style=\"stroke:#000000;stroke-width:0.8;\" x=\"236.986942\" xlink:href=\"#m13395b5a21\" y=\"224.64\"/>\n      </g>\n     </g>\n     <g id=\"text_4\">\n      <!-- 0.6 -->\n      <g transform=\"translate(229.035379 239.238437)scale(0.1 -0.1)\">\n       <defs>\n        <path d=\"M 2113 2584 \nQ 1688 2584 1439 2293 \nQ 1191 2003 1191 1497 \nQ 1191 994 1439 701 \nQ 1688 409 2113 409 \nQ 2538 409 2786 701 \nQ 3034 994 3034 1497 \nQ 3034 2003 2786 2293 \nQ 2538 2584 2113 2584 \nz\nM 3366 4563 \nL 3366 3988 \nQ 3128 4100 2886 4159 \nQ 2644 4219 2406 4219 \nQ 1781 4219 1451 3797 \nQ 1122 3375 1075 2522 \nQ 1259 2794 1537 2939 \nQ 1816 3084 2150 3084 \nQ 2853 3084 3261 2657 \nQ 3669 2231 3669 1497 \nQ 3669 778 3244 343 \nQ 2819 -91 2113 -91 \nQ 1303 -91 875 529 \nQ 447 1150 447 2328 \nQ 447 3434 972 4092 \nQ 1497 4750 2381 4750 \nQ 2619 4750 2861 4703 \nQ 3103 4656 3366 4563 \nz\n\" id=\"DejaVuSans-36\" transform=\"scale(0.015625)\"/>\n       </defs>\n       <use xlink:href=\"#DejaVuSans-30\"/>\n       <use x=\"63.623047\" xlink:href=\"#DejaVuSans-2e\"/>\n       <use x=\"95.410156\" xlink:href=\"#DejaVuSans-36\"/>\n      </g>\n     </g>\n    </g>\n    <g id=\"xtick_5\">\n     <g id=\"line2d_5\">\n      <g>\n       <use style=\"stroke:#000000;stroke-width:0.8;\" x=\"298.998374\" xlink:href=\"#m13395b5a21\" y=\"224.64\"/>\n      </g>\n     </g>\n     <g id=\"text_5\">\n      <!-- 0.8 -->\n      <g transform=\"translate(291.046812 239.238437)scale(0.1 -0.1)\">\n       <defs>\n        <path d=\"M 2034 2216 \nQ 1584 2216 1326 1975 \nQ 1069 1734 1069 1313 \nQ 1069 891 1326 650 \nQ 1584 409 2034 409 \nQ 2484 409 2743 651 \nQ 3003 894 3003 1313 \nQ 3003 1734 2745 1975 \nQ 2488 2216 2034 2216 \nz\nM 1403 2484 \nQ 997 2584 770 2862 \nQ 544 3141 544 3541 \nQ 544 4100 942 4425 \nQ 1341 4750 2034 4750 \nQ 2731 4750 3128 4425 \nQ 3525 4100 3525 3541 \nQ 3525 3141 3298 2862 \nQ 3072 2584 2669 2484 \nQ 3125 2378 3379 2068 \nQ 3634 1759 3634 1313 \nQ 3634 634 3220 271 \nQ 2806 -91 2034 -91 \nQ 1263 -91 848 271 \nQ 434 634 434 1313 \nQ 434 1759 690 2068 \nQ 947 2378 1403 2484 \nz\nM 1172 3481 \nQ 1172 3119 1398 2916 \nQ 1625 2713 2034 2713 \nQ 2441 2713 2670 2916 \nQ 2900 3119 2900 3481 \nQ 2900 3844 2670 4047 \nQ 2441 4250 2034 4250 \nQ 1625 4250 1398 4047 \nQ 1172 3844 1172 3481 \nz\n\" id=\"DejaVuSans-38\" transform=\"scale(0.015625)\"/>\n       </defs>\n       <use xlink:href=\"#DejaVuSans-30\"/>\n       <use x=\"63.623047\" xlink:href=\"#DejaVuSans-2e\"/>\n       <use x=\"95.410156\" xlink:href=\"#DejaVuSans-38\"/>\n      </g>\n     </g>\n    </g>\n    <g id=\"xtick_6\">\n     <g id=\"line2d_6\">\n      <g>\n       <use style=\"stroke:#000000;stroke-width:0.8;\" x=\"361.009806\" xlink:href=\"#m13395b5a21\" y=\"224.64\"/>\n      </g>\n     </g>\n     <g id=\"text_6\">\n      <!-- 1.0 -->\n      <g transform=\"translate(353.058244 239.238437)scale(0.1 -0.1)\">\n       <defs>\n        <path d=\"M 794 531 \nL 1825 531 \nL 1825 4091 \nL 703 3866 \nL 703 4441 \nL 1819 4666 \nL 2450 4666 \nL 2450 531 \nL 3481 531 \nL 3481 0 \nL 794 0 \nL 794 531 \nz\n\" id=\"DejaVuSans-31\" transform=\"scale(0.015625)\"/>\n       </defs>\n       <use xlink:href=\"#DejaVuSans-31\"/>\n       <use x=\"63.623047\" xlink:href=\"#DejaVuSans-2e\"/>\n       <use x=\"95.410156\" xlink:href=\"#DejaVuSans-30\"/>\n      </g>\n     </g>\n    </g>\n   </g>\n   <g id=\"matplotlib.axis_2\">\n    <g id=\"ytick_1\">\n     <g id=\"line2d_7\">\n      <defs>\n       <path d=\"M 0 0 \nL -3.5 0 \n\" id=\"m9d552ff50b\" style=\"stroke:#000000;stroke-width:0.8;\"/>\n      </defs>\n      <g>\n       <use style=\"stroke:#000000;stroke-width:0.8;\" x=\"38.482813\" xlink:href=\"#m9d552ff50b\" y=\"217.096569\"/>\n      </g>\n     </g>\n     <g id=\"text_7\">\n      <!-- −1.5 -->\n      <g transform=\"translate(7.2 220.895788)scale(0.1 -0.1)\">\n       <defs>\n        <path d=\"M 678 2272 \nL 4684 2272 \nL 4684 1741 \nL 678 1741 \nL 678 2272 \nz\n\" id=\"DejaVuSans-2212\" transform=\"scale(0.015625)\"/>\n        <path d=\"M 691 4666 \nL 3169 4666 \nL 3169 4134 \nL 1269 4134 \nL 1269 2991 \nQ 1406 3038 1543 3061 \nQ 1681 3084 1819 3084 \nQ 2600 3084 3056 2656 \nQ 3513 2228 3513 1497 \nQ 3513 744 3044 326 \nQ 2575 -91 1722 -91 \nQ 1428 -91 1123 -41 \nQ 819 9 494 109 \nL 494 744 \nQ 775 591 1075 516 \nQ 1375 441 1709 441 \nQ 2250 441 2565 725 \nQ 2881 1009 2881 1497 \nQ 2881 1984 2565 2268 \nQ 2250 2553 1709 2553 \nQ 1456 2553 1204 2497 \nQ 953 2441 691 2322 \nL 691 4666 \nz\n\" id=\"DejaVuSans-35\" transform=\"scale(0.015625)\"/>\n       </defs>\n       <use xlink:href=\"#DejaVuSans-2212\"/>\n       <use x=\"83.789062\" xlink:href=\"#DejaVuSans-31\"/>\n       <use x=\"147.412109\" xlink:href=\"#DejaVuSans-2e\"/>\n       <use x=\"179.199219\" xlink:href=\"#DejaVuSans-35\"/>\n      </g>\n     </g>\n    </g>\n    <g id=\"ytick_2\">\n     <g id=\"line2d_8\">\n      <g>\n       <use style=\"stroke:#000000;stroke-width:0.8;\" x=\"38.482813\" xlink:href=\"#m9d552ff50b\" y=\"183.607206\"/>\n      </g>\n     </g>\n     <g id=\"text_8\">\n      <!-- −1.0 -->\n      <g transform=\"translate(7.2 187.406425)scale(0.1 -0.1)\">\n       <use xlink:href=\"#DejaVuSans-2212\"/>\n       <use x=\"83.789062\" xlink:href=\"#DejaVuSans-31\"/>\n       <use x=\"147.412109\" xlink:href=\"#DejaVuSans-2e\"/>\n       <use x=\"179.199219\" xlink:href=\"#DejaVuSans-30\"/>\n      </g>\n     </g>\n    </g>\n    <g id=\"ytick_3\">\n     <g id=\"line2d_9\">\n      <g>\n       <use style=\"stroke:#000000;stroke-width:0.8;\" x=\"38.482813\" xlink:href=\"#m9d552ff50b\" y=\"150.117843\"/>\n      </g>\n     </g>\n     <g id=\"text_9\">\n      <!-- −0.5 -->\n      <g transform=\"translate(7.2 153.917061)scale(0.1 -0.1)\">\n       <use xlink:href=\"#DejaVuSans-2212\"/>\n       <use x=\"83.789062\" xlink:href=\"#DejaVuSans-30\"/>\n       <use x=\"147.412109\" xlink:href=\"#DejaVuSans-2e\"/>\n       <use x=\"179.199219\" xlink:href=\"#DejaVuSans-35\"/>\n      </g>\n     </g>\n    </g>\n    <g id=\"ytick_4\">\n     <g id=\"line2d_10\">\n      <g>\n       <use style=\"stroke:#000000;stroke-width:0.8;\" x=\"38.482813\" xlink:href=\"#m9d552ff50b\" y=\"116.628479\"/>\n      </g>\n     </g>\n     <g id=\"text_10\">\n      <!-- 0.0 -->\n      <g transform=\"translate(15.579688 120.427698)scale(0.1 -0.1)\">\n       <use xlink:href=\"#DejaVuSans-30\"/>\n       <use x=\"63.623047\" xlink:href=\"#DejaVuSans-2e\"/>\n       <use x=\"95.410156\" xlink:href=\"#DejaVuSans-30\"/>\n      </g>\n     </g>\n    </g>\n    <g id=\"ytick_5\">\n     <g id=\"line2d_11\">\n      <g>\n       <use style=\"stroke:#000000;stroke-width:0.8;\" x=\"38.482813\" xlink:href=\"#m9d552ff50b\" y=\"83.139116\"/>\n      </g>\n     </g>\n     <g id=\"text_11\">\n      <!-- 0.5 -->\n      <g transform=\"translate(15.579688 86.938335)scale(0.1 -0.1)\">\n       <use xlink:href=\"#DejaVuSans-30\"/>\n       <use x=\"63.623047\" xlink:href=\"#DejaVuSans-2e\"/>\n       <use x=\"95.410156\" xlink:href=\"#DejaVuSans-35\"/>\n      </g>\n     </g>\n    </g>\n    <g id=\"ytick_6\">\n     <g id=\"line2d_12\">\n      <g>\n       <use style=\"stroke:#000000;stroke-width:0.8;\" x=\"38.482813\" xlink:href=\"#m9d552ff50b\" y=\"49.649752\"/>\n      </g>\n     </g>\n     <g id=\"text_12\">\n      <!-- 1.0 -->\n      <g transform=\"translate(15.579688 53.448971)scale(0.1 -0.1)\">\n       <use xlink:href=\"#DejaVuSans-31\"/>\n       <use x=\"63.623047\" xlink:href=\"#DejaVuSans-2e\"/>\n       <use x=\"95.410156\" xlink:href=\"#DejaVuSans-30\"/>\n      </g>\n     </g>\n    </g>\n    <g id=\"ytick_7\">\n     <g id=\"line2d_13\">\n      <g>\n       <use style=\"stroke:#000000;stroke-width:0.8;\" x=\"38.482813\" xlink:href=\"#m9d552ff50b\" y=\"16.160389\"/>\n      </g>\n     </g>\n     <g id=\"text_13\">\n      <!-- 1.5 -->\n      <g transform=\"translate(15.579688 19.959608)scale(0.1 -0.1)\">\n       <use xlink:href=\"#DejaVuSans-31\"/>\n       <use x=\"63.623047\" xlink:href=\"#DejaVuSans-2e\"/>\n       <use x=\"95.410156\" xlink:href=\"#DejaVuSans-35\"/>\n      </g>\n     </g>\n    </g>\n   </g>\n   <g id=\"patch_3\">\n    <path d=\"M 38.482813 224.64 \nL 38.482813 7.2 \n\" style=\"fill:none;stroke:#000000;stroke-linecap:square;stroke-linejoin:miter;stroke-width:0.8;\"/>\n   </g>\n   <g id=\"patch_4\">\n    <path d=\"M 373.282813 224.64 \nL 373.282813 7.2 \n\" style=\"fill:none;stroke:#000000;stroke-linecap:square;stroke-linejoin:miter;stroke-width:0.8;\"/>\n   </g>\n   <g id=\"patch_5\">\n    <path d=\"M 38.482813 224.64 \nL 373.282813 224.64 \n\" style=\"fill:none;stroke:#000000;stroke-linecap:square;stroke-linejoin:miter;stroke-width:0.8;\"/>\n   </g>\n   <g id=\"patch_6\">\n    <path d=\"M 38.482813 7.2 \nL 373.282813 7.2 \n\" style=\"fill:none;stroke:#000000;stroke-linecap:square;stroke-linejoin:miter;stroke-width:0.8;\"/>\n   </g>\n  </g>\n </g>\n <defs>\n  <clipPath id=\"p607646b3a0\">\n   <rect height=\"217.44\" width=\"334.8\" x=\"38.482813\" y=\"7.2\"/>\n  </clipPath>\n </defs>\n</svg>\n",
      "image/png": "[encoded data removed]"
     },
     "metadata": {
      "needs_background": "light"
     }
    }
   ],
   "source": [
    "import matplotlib.pyplot as plt\n",
    "import numpy as np\n",
    "from sklearn.model_selection import train_test_split as tts\n",
    "def f(x):\n",
    "    return np.sin(2*np.pi*x)\n",
    "\n",
    "sin_x = np.linspace(0,1,100)\n",
    "x = np.random.rand(100)[:, np.newaxis]\n",
    "y = f(x) + np.random.rand(100)[:, np.newaxis] - 0.5\n",
    "x_train , x_test ,y_train , y_test = tts(x, y)\n",
    "plt.scatter(x_train, y_train)"
   ]
  },
  {
   "cell_type": "markdown",
   "id": "e1d9bd1a",
   "metadata": {},
   "source": [
    "# 35"
   ]
  },
  {
   "cell_type": "code",
   "execution_count": 26,
   "id": "1f201d65",
   "metadata": {},
   "outputs": [
    {
     "output_type": "error",
     "ename": "ModuleNotFoundError",
     "evalue": "No module named 'seaborn'",
     "traceback": [
      "\u001b[0;31m---------------------------------------------------------------------------\u001b[0m",
      "\u001b[0;31mModuleNotFoundError\u001b[0m                       Traceback (most recent call last)",
      "\u001b[0;32m<ipython-input-26-03cb204492c3>\u001b[0m in \u001b[0;36m<module>\u001b[0;34m\u001b[0m\n\u001b[0;32m----> 1\u001b[0;31m \u001b[0;32mimport\u001b[0m \u001b[0mseaborn\u001b[0m \u001b[0;32mas\u001b[0m \u001b[0msns\u001b[0m\u001b[0;34m\u001b[0m\u001b[0;34m\u001b[0m\u001b[0m\n\u001b[0m\u001b[1;32m      2\u001b[0m \u001b[0miris\u001b[0m \u001b[0;34m=\u001b[0m \u001b[0msns\u001b[0m\u001b[0;34m.\u001b[0m\u001b[0mload_dataset\u001b[0m\u001b[0;34m(\u001b[0m\u001b[0;34m\"iris\"\u001b[0m\u001b[0;34m)\u001b[0m\u001b[0;34m\u001b[0m\u001b[0;34m\u001b[0m\u001b[0m\n\u001b[1;32m      3\u001b[0m \u001b[0mtype\u001b[0m\u001b[0;34m(\u001b[0m\u001b[0miris\u001b[0m\u001b[0;34m)\u001b[0m\u001b[0;34m\u001b[0m\u001b[0;34m\u001b[0m\u001b[0m\n\u001b[1;32m      4\u001b[0m \u001b[0msns\u001b[0m\u001b[0;34m.\u001b[0m\u001b[0mjointplot\u001b[0m\u001b[0;34m(\u001b[0m\u001b[0;34m'sepal_width'\u001b[0m\u001b[0;34m,\u001b[0m \u001b[0;34m'petal_length'\u001b[0m \u001b[0;34m,\u001b[0m \u001b[0mdata\u001b[0m\u001b[0;34m=\u001b[0m\u001b[0miris\u001b[0m\u001b[0;34m)\u001b[0m\u001b[0;34m\u001b[0m\u001b[0;34m\u001b[0m\u001b[0m\n",
      "\u001b[0;31mModuleNotFoundError\u001b[0m: No module named 'seaborn'"
     ]
    }
   ],
   "source": [
    "import seaborn as sns\n",
    "iris = sns.load_dataset(\"iris\")\n",
    "type(iris)\n",
    "sns.jointplot('sepal_width', 'petal_length' , data=iris)"
   ]
  },
  {
   "cell_type": "markdown",
   "id": "1552cc1e",
   "metadata": {},
   "source": [
    "# 36,37"
   ]
  },
  {
   "cell_type": "code",
   "execution_count": 27,
   "id": "1a6cce92",
   "metadata": {},
   "outputs": [
    {
     "output_type": "execute_result",
     "data": {
      "text/plain": [
       "array([5, 4, 8, 8, 4, 9, 0, 8, 9, 8])"
      ]
     },
     "metadata": {},
     "execution_count": 27
    }
   ],
   "source": [
    "from sklearn import datasets\n",
    "from sklearn import svm\n",
    "digits = datasets.load_digits()\n",
    "dataset = digits.data\n",
    "target = digits.target\n",
    "train_dataset = dataset[:-10]\n",
    "train_target = target[:-10]\n",
    "test_dataset = dataset[-10:]\n",
    "test_target = target[-10:]\n",
    "clf = svm.SVC(gamma=0.001, C=100)\n",
    "clf.fit(train_dataset , train_target)\n",
    "clf.predict(test_dataset)"
   ]
  },
  {
   "cell_type": "markdown",
   "id": "3a0da4a6",
   "metadata": {},
   "source": [
    "# 38"
   ]
  },
  {
   "cell_type": "code",
   "execution_count": 28,
   "id": "c595951a",
   "metadata": {},
   "outputs": [
    {
     "output_type": "display_data",
     "data": {
      "text/plain": "<Figure size 432x288 with 1 Axes>",
      "image/svg+xml": "<?xml version=\"1.0\" encoding=\"utf-8\" standalone=\"no\"?>\n<!DOCTYPE svg PUBLIC \"-//W3C//DTD SVG 1.1//EN\"\n  \"http://www.w3.org/Graphics/SVG/1.1/DTD/svg11.dtd\">\n<svg height=\"248.518125pt\" version=\"1.1\" viewBox=\"0 0 363.750426 248.518125\" width=\"363.750426pt\" xmlns=\"http://www.w3.org/2000/svg\" xmlns:xlink=\"http://www.w3.org/1999/xlink\">\n <metadata>\n  <rdf:RDF xmlns:cc=\"http://creativecommons.org/ns#\" xmlns:dc=\"http://purl.org/dc/elements/1.1/\" xmlns:rdf=\"http://www.w3.org/1999/02/22-rdf-syntax-ns#\">\n   <cc:Work>\n    <dc:type rdf:resource=\"http://purl.org/dc/dcmitype/StillImage\"/>\n    <dc:date>2021-06-15T23:58:34.039955</dc:date>\n    <dc:format>image/svg+xml</dc:format>\n    <dc:creator>\n     <cc:Agent>\n      <dc:title>Matplotlib v3.4.2, https://matplotlib.org/</dc:title>\n     </cc:Agent>\n    </dc:creator>\n   </cc:Work>\n  </rdf:RDF>\n </metadata>\n <defs>\n  <style type=\"text/css\">*{stroke-linecap:butt;stroke-linejoin:round;}</style>\n </defs>\n <g id=\"figure_1\">\n  <g id=\"patch_1\">\n   <path d=\"M 0 248.518125 \nL 363.750426 248.518125 \nL 363.750426 0 \nL 0 0 \nz\n\" style=\"fill:none;\"/>\n  </g>\n  <g id=\"axes_1\">\n   <g id=\"patch_2\">\n    <path d=\"M 20.5625 224.64 \nL 355.3625 224.64 \nL 355.3625 7.2 \nL 20.5625 7.2 \nz\n\" style=\"fill:#ffffff;\"/>\n   </g>\n   <g id=\"PathCollection_1\">\n    <defs>\n     <path d=\"M 0 3 \nC 0.795609 3 1.55874 2.683901 2.12132 2.12132 \nC 2.683901 1.55874 3 0.795609 3 0 \nC 3 -0.795609 2.683901 -1.55874 2.12132 -2.12132 \nC 1.55874 -2.683901 0.795609 -3 0 -3 \nC -0.795609 -3 -1.55874 -2.683901 -2.12132 -2.12132 \nC -2.683901 -1.55874 -3 -0.795609 -3 0 \nC -3 0.795609 -2.683901 1.55874 -2.12132 2.12132 \nC -1.55874 2.683901 -0.795609 3 0 3 \nz\n\" id=\"m199eafcf6b\" style=\"stroke:#1f77b4;\"/>\n    </defs>\n    <g clip-path=\"url(#p7f9ce0cf7c)\">\n     <use style=\"fill:#1f77b4;stroke:#1f77b4;\" x=\"103.417045\" xlink:href=\"#m199eafcf6b\" y=\"199.682586\"/>\n     <use style=\"fill:#1f77b4;stroke:#1f77b4;\" x=\"86.507955\" xlink:href=\"#m199eafcf6b\" y=\"199.682586\"/>\n     <use style=\"fill:#1f77b4;stroke:#1f77b4;\" x=\"69.598864\" xlink:href=\"#m199eafcf6b\" y=\"202.637177\"/>\n     <use style=\"fill:#1f77b4;stroke:#1f77b4;\" x=\"61.144318\" xlink:href=\"#m199eafcf6b\" y=\"196.727995\"/>\n     <use style=\"fill:#1f77b4;stroke:#1f77b4;\" x=\"94.9625\" xlink:href=\"#m199eafcf6b\" y=\"199.682586\"/>\n     <use style=\"fill:#1f77b4;stroke:#1f77b4;\" x=\"128.780682\" xlink:href=\"#m199eafcf6b\" y=\"190.818813\"/>\n     <use style=\"fill:#1f77b4;stroke:#1f77b4;\" x=\"61.144318\" xlink:href=\"#m199eafcf6b\" y=\"199.682586\"/>\n     <use style=\"fill:#1f77b4;stroke:#1f77b4;\" x=\"94.9625\" xlink:href=\"#m199eafcf6b\" y=\"196.727995\"/>\n     <use style=\"fill:#1f77b4;stroke:#1f77b4;\" x=\"44.235227\" xlink:href=\"#m199eafcf6b\" y=\"199.682586\"/>\n     <use style=\"fill:#1f77b4;stroke:#1f77b4;\" x=\"86.507955\" xlink:href=\"#m199eafcf6b\" y=\"196.727995\"/>\n     <use style=\"fill:#1f77b4;stroke:#1f77b4;\" x=\"128.780682\" xlink:href=\"#m199eafcf6b\" y=\"196.727995\"/>\n     <use style=\"fill:#1f77b4;stroke:#1f77b4;\" x=\"78.053409\" xlink:href=\"#m199eafcf6b\" y=\"193.773404\"/>\n     <use style=\"fill:#1f77b4;stroke:#1f77b4;\" x=\"78.053409\" xlink:href=\"#m199eafcf6b\" y=\"199.682586\"/>\n     <use style=\"fill:#1f77b4;stroke:#1f77b4;\" x=\"35.780682\" xlink:href=\"#m199eafcf6b\" y=\"208.546358\"/>\n     <use style=\"fill:#1f77b4;stroke:#1f77b4;\" x=\"162.598864\" xlink:href=\"#m199eafcf6b\" y=\"205.591768\"/>\n     <use style=\"fill:#1f77b4;stroke:#1f77b4;\" x=\"154.144318\" xlink:href=\"#m199eafcf6b\" y=\"196.727995\"/>\n     <use style=\"fill:#1f77b4;stroke:#1f77b4;\" x=\"128.780682\" xlink:href=\"#m199eafcf6b\" y=\"202.637177\"/>\n     <use style=\"fill:#1f77b4;stroke:#1f77b4;\" x=\"103.417045\" xlink:href=\"#m199eafcf6b\" y=\"199.682586\"/>\n     <use style=\"fill:#1f77b4;stroke:#1f77b4;\" x=\"154.144318\" xlink:href=\"#m199eafcf6b\" y=\"190.818813\"/>\n     <use style=\"fill:#1f77b4;stroke:#1f77b4;\" x=\"103.417045\" xlink:href=\"#m199eafcf6b\" y=\"196.727995\"/>\n     <use style=\"fill:#1f77b4;stroke:#1f77b4;\" x=\"128.780682\" xlink:href=\"#m199eafcf6b\" y=\"190.818813\"/>\n     <use style=\"fill:#1f77b4;stroke:#1f77b4;\" x=\"103.417045\" xlink:href=\"#m199eafcf6b\" y=\"196.727995\"/>\n     <use style=\"fill:#1f77b4;stroke:#1f77b4;\" x=\"61.144318\" xlink:href=\"#m199eafcf6b\" y=\"211.500949\"/>\n     <use style=\"fill:#1f77b4;stroke:#1f77b4;\" x=\"103.417045\" xlink:href=\"#m199eafcf6b\" y=\"190.818813\"/>\n     <use style=\"fill:#1f77b4;stroke:#1f77b4;\" x=\"78.053409\" xlink:href=\"#m199eafcf6b\" y=\"184.909632\"/>\n     <use style=\"fill:#1f77b4;stroke:#1f77b4;\" x=\"94.9625\" xlink:href=\"#m199eafcf6b\" y=\"193.773404\"/>\n     <use style=\"fill:#1f77b4;stroke:#1f77b4;\" x=\"94.9625\" xlink:href=\"#m199eafcf6b\" y=\"193.773404\"/>\n     <use style=\"fill:#1f77b4;stroke:#1f77b4;\" x=\"111.871591\" xlink:href=\"#m199eafcf6b\" y=\"196.727995\"/>\n     <use style=\"fill:#1f77b4;stroke:#1f77b4;\" x=\"111.871591\" xlink:href=\"#m199eafcf6b\" y=\"199.682586\"/>\n     <use style=\"fill:#1f77b4;stroke:#1f77b4;\" x=\"69.598864\" xlink:href=\"#m199eafcf6b\" y=\"193.773404\"/>\n     <use style=\"fill:#1f77b4;stroke:#1f77b4;\" x=\"78.053409\" xlink:href=\"#m199eafcf6b\" y=\"193.773404\"/>\n     <use style=\"fill:#1f77b4;stroke:#1f77b4;\" x=\"128.780682\" xlink:href=\"#m199eafcf6b\" y=\"196.727995\"/>\n     <use style=\"fill:#1f77b4;stroke:#1f77b4;\" x=\"111.871591\" xlink:href=\"#m199eafcf6b\" y=\"196.727995\"/>\n     <use style=\"fill:#1f77b4;stroke:#1f77b4;\" x=\"137.235227\" xlink:href=\"#m199eafcf6b\" y=\"199.682586\"/>\n     <use style=\"fill:#1f77b4;stroke:#1f77b4;\" x=\"86.507955\" xlink:href=\"#m199eafcf6b\" y=\"196.727995\"/>\n     <use style=\"fill:#1f77b4;stroke:#1f77b4;\" x=\"94.9625\" xlink:href=\"#m199eafcf6b\" y=\"205.591768\"/>\n     <use style=\"fill:#1f77b4;stroke:#1f77b4;\" x=\"137.235227\" xlink:href=\"#m199eafcf6b\" y=\"202.637177\"/>\n     <use style=\"fill:#1f77b4;stroke:#1f77b4;\" x=\"86.507955\" xlink:href=\"#m199eafcf6b\" y=\"199.682586\"/>\n     <use style=\"fill:#1f77b4;stroke:#1f77b4;\" x=\"44.235227\" xlink:href=\"#m199eafcf6b\" y=\"202.637177\"/>\n     <use style=\"fill:#1f77b4;stroke:#1f77b4;\" x=\"103.417045\" xlink:href=\"#m199eafcf6b\" y=\"196.727995\"/>\n     <use style=\"fill:#1f77b4;stroke:#1f77b4;\" x=\"94.9625\" xlink:href=\"#m199eafcf6b\" y=\"202.637177\"/>\n     <use style=\"fill:#1f77b4;stroke:#1f77b4;\" x=\"52.689773\" xlink:href=\"#m199eafcf6b\" y=\"202.637177\"/>\n     <use style=\"fill:#1f77b4;stroke:#1f77b4;\" x=\"44.235227\" xlink:href=\"#m199eafcf6b\" y=\"202.637177\"/>\n     <use style=\"fill:#1f77b4;stroke:#1f77b4;\" x=\"94.9625\" xlink:href=\"#m199eafcf6b\" y=\"193.773404\"/>\n     <use style=\"fill:#1f77b4;stroke:#1f77b4;\" x=\"103.417045\" xlink:href=\"#m199eafcf6b\" y=\"184.909632\"/>\n     <use style=\"fill:#1f77b4;stroke:#1f77b4;\" x=\"78.053409\" xlink:href=\"#m199eafcf6b\" y=\"199.682586\"/>\n     <use style=\"fill:#1f77b4;stroke:#1f77b4;\" x=\"103.417045\" xlink:href=\"#m199eafcf6b\" y=\"193.773404\"/>\n     <use style=\"fill:#1f77b4;stroke:#1f77b4;\" x=\"61.144318\" xlink:href=\"#m199eafcf6b\" y=\"199.682586\"/>\n     <use style=\"fill:#1f77b4;stroke:#1f77b4;\" x=\"120.326136\" xlink:href=\"#m199eafcf6b\" y=\"196.727995\"/>\n     <use style=\"fill:#1f77b4;stroke:#1f77b4;\" x=\"94.9625\" xlink:href=\"#m199eafcf6b\" y=\"199.682586\"/>\n     <use style=\"fill:#1f77b4;stroke:#1f77b4;\" x=\"264.053409\" xlink:href=\"#m199eafcf6b\" y=\"102.181087\"/>\n     <use style=\"fill:#1f77b4;stroke:#1f77b4;\" x=\"213.326136\" xlink:href=\"#m199eafcf6b\" y=\"108.090269\"/>\n     <use style=\"fill:#1f77b4;stroke:#1f77b4;\" x=\"255.598864\" xlink:href=\"#m199eafcf6b\" y=\"96.271906\"/>\n     <use style=\"fill:#1f77b4;stroke:#1f77b4;\" x=\"137.235227\" xlink:href=\"#m199eafcf6b\" y=\"122.863223\"/>\n     <use style=\"fill:#1f77b4;stroke:#1f77b4;\" x=\"221.780682\" xlink:href=\"#m199eafcf6b\" y=\"105.135678\"/>\n     <use style=\"fill:#1f77b4;stroke:#1f77b4;\" x=\"154.144318\" xlink:href=\"#m199eafcf6b\" y=\"108.090269\"/>\n     <use style=\"fill:#1f77b4;stroke:#1f77b4;\" x=\"204.871591\" xlink:href=\"#m199eafcf6b\" y=\"102.181087\"/>\n     <use style=\"fill:#1f77b4;stroke:#1f77b4;\" x=\"86.507955\" xlink:href=\"#m199eafcf6b\" y=\"143.545359\"/>\n     <use style=\"fill:#1f77b4;stroke:#1f77b4;\" x=\"230.235227\" xlink:href=\"#m199eafcf6b\" y=\"105.135678\"/>\n     <use style=\"fill:#1f77b4;stroke:#1f77b4;\" x=\"111.871591\" xlink:href=\"#m199eafcf6b\" y=\"125.817814\"/>\n     <use style=\"fill:#1f77b4;stroke:#1f77b4;\" x=\"94.9625\" xlink:href=\"#m199eafcf6b\" y=\"137.636178\"/>\n     <use style=\"fill:#1f77b4;stroke:#1f77b4;\" x=\"171.053409\" xlink:href=\"#m199eafcf6b\" y=\"116.954042\"/>\n     <use style=\"fill:#1f77b4;stroke:#1f77b4;\" x=\"179.507955\" xlink:href=\"#m199eafcf6b\" y=\"122.863223\"/>\n     <use style=\"fill:#1f77b4;stroke:#1f77b4;\" x=\"187.9625\" xlink:href=\"#m199eafcf6b\" y=\"102.181087\"/>\n     <use style=\"fill:#1f77b4;stroke:#1f77b4;\" x=\"145.689773\" xlink:href=\"#m199eafcf6b\" y=\"134.681587\"/>\n     <use style=\"fill:#1f77b4;stroke:#1f77b4;\" x=\"238.689773\" xlink:href=\"#m199eafcf6b\" y=\"111.04486\"/>\n     <use style=\"fill:#1f77b4;stroke:#1f77b4;\" x=\"145.689773\" xlink:href=\"#m199eafcf6b\" y=\"108.090269\"/>\n     <use style=\"fill:#1f77b4;stroke:#1f77b4;\" x=\"162.598864\" xlink:href=\"#m199eafcf6b\" y=\"119.908633\"/>\n     <use style=\"fill:#1f77b4;stroke:#1f77b4;\" x=\"196.417045\" xlink:href=\"#m199eafcf6b\" y=\"108.090269\"/>\n     <use style=\"fill:#1f77b4;stroke:#1f77b4;\" x=\"145.689773\" xlink:href=\"#m199eafcf6b\" y=\"125.817814\"/>\n     <use style=\"fill:#1f77b4;stroke:#1f77b4;\" x=\"171.053409\" xlink:href=\"#m199eafcf6b\" y=\"99.226497\"/>\n     <use style=\"fill:#1f77b4;stroke:#1f77b4;\" x=\"187.9625\" xlink:href=\"#m199eafcf6b\" y=\"122.863223\"/>\n     <use style=\"fill:#1f77b4;stroke:#1f77b4;\" x=\"204.871591\" xlink:href=\"#m199eafcf6b\" y=\"96.271906\"/>\n     <use style=\"fill:#1f77b4;stroke:#1f77b4;\" x=\"187.9625\" xlink:href=\"#m199eafcf6b\" y=\"102.181087\"/>\n     <use style=\"fill:#1f77b4;stroke:#1f77b4;\" x=\"213.326136\" xlink:href=\"#m199eafcf6b\" y=\"113.999451\"/>\n     <use style=\"fill:#1f77b4;stroke:#1f77b4;\" x=\"230.235227\" xlink:href=\"#m199eafcf6b\" y=\"111.04486\"/>\n     <use style=\"fill:#1f77b4;stroke:#1f77b4;\" x=\"247.144318\" xlink:href=\"#m199eafcf6b\" y=\"99.226497\"/>\n     <use style=\"fill:#1f77b4;stroke:#1f77b4;\" x=\"238.689773\" xlink:href=\"#m199eafcf6b\" y=\"93.317315\"/>\n     <use style=\"fill:#1f77b4;stroke:#1f77b4;\" x=\"179.507955\" xlink:href=\"#m199eafcf6b\" y=\"108.090269\"/>\n     <use style=\"fill:#1f77b4;stroke:#1f77b4;\" x=\"154.144318\" xlink:href=\"#m199eafcf6b\" y=\"137.636178\"/>\n     <use style=\"fill:#1f77b4;stroke:#1f77b4;\" x=\"137.235227\" xlink:href=\"#m199eafcf6b\" y=\"128.772405\"/>\n     <use style=\"fill:#1f77b4;stroke:#1f77b4;\" x=\"137.235227\" xlink:href=\"#m199eafcf6b\" y=\"131.726996\"/>\n     <use style=\"fill:#1f77b4;stroke:#1f77b4;\" x=\"162.598864\" xlink:href=\"#m199eafcf6b\" y=\"125.817814\"/>\n     <use style=\"fill:#1f77b4;stroke:#1f77b4;\" x=\"179.507955\" xlink:href=\"#m199eafcf6b\" y=\"90.362724\"/>\n     <use style=\"fill:#1f77b4;stroke:#1f77b4;\" x=\"128.780682\" xlink:href=\"#m199eafcf6b\" y=\"108.090269\"/>\n     <use style=\"fill:#1f77b4;stroke:#1f77b4;\" x=\"179.507955\" xlink:href=\"#m199eafcf6b\" y=\"108.090269\"/>\n     <use style=\"fill:#1f77b4;stroke:#1f77b4;\" x=\"238.689773\" xlink:href=\"#m199eafcf6b\" y=\"102.181087\"/>\n     <use style=\"fill:#1f77b4;stroke:#1f77b4;\" x=\"204.871591\" xlink:href=\"#m199eafcf6b\" y=\"111.04486\"/>\n     <use style=\"fill:#1f77b4;stroke:#1f77b4;\" x=\"145.689773\" xlink:href=\"#m199eafcf6b\" y=\"119.908633\"/>\n     <use style=\"fill:#1f77b4;stroke:#1f77b4;\" x=\"137.235227\" xlink:href=\"#m199eafcf6b\" y=\"122.863223\"/>\n     <use style=\"fill:#1f77b4;stroke:#1f77b4;\" x=\"137.235227\" xlink:href=\"#m199eafcf6b\" y=\"111.04486\"/>\n     <use style=\"fill:#1f77b4;stroke:#1f77b4;\" x=\"187.9625\" xlink:href=\"#m199eafcf6b\" y=\"105.135678\"/>\n     <use style=\"fill:#1f77b4;stroke:#1f77b4;\" x=\"162.598864\" xlink:href=\"#m199eafcf6b\" y=\"122.863223\"/>\n     <use style=\"fill:#1f77b4;stroke:#1f77b4;\" x=\"94.9625\" xlink:href=\"#m199eafcf6b\" y=\"143.545359\"/>\n     <use style=\"fill:#1f77b4;stroke:#1f77b4;\" x=\"145.689773\" xlink:href=\"#m199eafcf6b\" y=\"116.954042\"/>\n     <use style=\"fill:#1f77b4;stroke:#1f77b4;\" x=\"154.144318\" xlink:href=\"#m199eafcf6b\" y=\"116.954042\"/>\n     <use style=\"fill:#1f77b4;stroke:#1f77b4;\" x=\"154.144318\" xlink:href=\"#m199eafcf6b\" y=\"116.954042\"/>\n     <use style=\"fill:#1f77b4;stroke:#1f77b4;\" x=\"196.417045\" xlink:href=\"#m199eafcf6b\" y=\"113.999451\"/>\n     <use style=\"fill:#1f77b4;stroke:#1f77b4;\" x=\"103.417045\" xlink:href=\"#m199eafcf6b\" y=\"152.409132\"/>\n     <use style=\"fill:#1f77b4;stroke:#1f77b4;\" x=\"154.144318\" xlink:href=\"#m199eafcf6b\" y=\"119.908633\"/>\n     <use style=\"fill:#1f77b4;stroke:#1f77b4;\" x=\"204.871591\" xlink:href=\"#m199eafcf6b\" y=\"63.771406\"/>\n     <use style=\"fill:#1f77b4;stroke:#1f77b4;\" x=\"162.598864\" xlink:href=\"#m199eafcf6b\" y=\"90.362724\"/>\n     <use style=\"fill:#1f77b4;stroke:#1f77b4;\" x=\"272.507955\" xlink:href=\"#m199eafcf6b\" y=\"66.725997\"/>\n     <use style=\"fill:#1f77b4;stroke:#1f77b4;\" x=\"204.871591\" xlink:href=\"#m199eafcf6b\" y=\"75.58977\"/>\n     <use style=\"fill:#1f77b4;stroke:#1f77b4;\" x=\"221.780682\" xlink:href=\"#m199eafcf6b\" y=\"69.680588\"/>\n     <use style=\"fill:#1f77b4;stroke:#1f77b4;\" x=\"314.780682\" xlink:href=\"#m199eafcf6b\" y=\"46.043861\"/>\n     <use style=\"fill:#1f77b4;stroke:#1f77b4;\" x=\"86.507955\" xlink:href=\"#m199eafcf6b\" y=\"108.090269\"/>\n     <use style=\"fill:#1f77b4;stroke:#1f77b4;\" x=\"289.417045\" xlink:href=\"#m199eafcf6b\" y=\"54.907634\"/>\n     <use style=\"fill:#1f77b4;stroke:#1f77b4;\" x=\"238.689773\" xlink:href=\"#m199eafcf6b\" y=\"69.680588\"/>\n     <use style=\"fill:#1f77b4;stroke:#1f77b4;\" x=\"280.9625\" xlink:href=\"#m199eafcf6b\" y=\"60.816815\"/>\n     <use style=\"fill:#1f77b4;stroke:#1f77b4;\" x=\"221.780682\" xlink:href=\"#m199eafcf6b\" y=\"90.362724\"/>\n     <use style=\"fill:#1f77b4;stroke:#1f77b4;\" x=\"213.326136\" xlink:href=\"#m199eafcf6b\" y=\"84.453542\"/>\n     <use style=\"fill:#1f77b4;stroke:#1f77b4;\" x=\"247.144318\" xlink:href=\"#m199eafcf6b\" y=\"78.544361\"/>\n     <use style=\"fill:#1f77b4;stroke:#1f77b4;\" x=\"154.144318\" xlink:href=\"#m199eafcf6b\" y=\"93.317315\"/>\n     <use style=\"fill:#1f77b4;stroke:#1f77b4;\" x=\"162.598864\" xlink:href=\"#m199eafcf6b\" y=\"90.362724\"/>\n     <use style=\"fill:#1f77b4;stroke:#1f77b4;\" x=\"213.326136\" xlink:href=\"#m199eafcf6b\" y=\"84.453542\"/>\n     <use style=\"fill:#1f77b4;stroke:#1f77b4;\" x=\"221.780682\" xlink:href=\"#m199eafcf6b\" y=\"78.544361\"/>\n     <use style=\"fill:#1f77b4;stroke:#1f77b4;\" x=\"323.235227\" xlink:href=\"#m199eafcf6b\" y=\"43.08927\"/>\n     <use style=\"fill:#1f77b4;stroke:#1f77b4;\" x=\"323.235227\" xlink:href=\"#m199eafcf6b\" y=\"37.180089\"/>\n     <use style=\"fill:#1f77b4;stroke:#1f77b4;\" x=\"179.507955\" xlink:href=\"#m199eafcf6b\" y=\"93.317315\"/>\n     <use style=\"fill:#1f77b4;stroke:#1f77b4;\" x=\"255.598864\" xlink:href=\"#m199eafcf6b\" y=\"72.635179\"/>\n     <use style=\"fill:#1f77b4;stroke:#1f77b4;\" x=\"145.689773\" xlink:href=\"#m199eafcf6b\" y=\"96.271906\"/>\n     <use style=\"fill:#1f77b4;stroke:#1f77b4;\" x=\"323.235227\" xlink:href=\"#m199eafcf6b\" y=\"43.08927\"/>\n     <use style=\"fill:#1f77b4;stroke:#1f77b4;\" x=\"204.871591\" xlink:href=\"#m199eafcf6b\" y=\"96.271906\"/>\n     <use style=\"fill:#1f77b4;stroke:#1f77b4;\" x=\"238.689773\" xlink:href=\"#m199eafcf6b\" y=\"72.635179\"/>\n     <use style=\"fill:#1f77b4;stroke:#1f77b4;\" x=\"280.9625\" xlink:href=\"#m199eafcf6b\" y=\"63.771406\"/>\n     <use style=\"fill:#1f77b4;stroke:#1f77b4;\" x=\"196.417045\" xlink:href=\"#m199eafcf6b\" y=\"99.226497\"/>\n     <use style=\"fill:#1f77b4;stroke:#1f77b4;\" x=\"187.9625\" xlink:href=\"#m199eafcf6b\" y=\"96.271906\"/>\n     <use style=\"fill:#1f77b4;stroke:#1f77b4;\" x=\"213.326136\" xlink:href=\"#m199eafcf6b\" y=\"75.58977\"/>\n     <use style=\"fill:#1f77b4;stroke:#1f77b4;\" x=\"280.9625\" xlink:href=\"#m199eafcf6b\" y=\"69.680588\"/>\n     <use style=\"fill:#1f77b4;stroke:#1f77b4;\" x=\"297.871591\" xlink:href=\"#m199eafcf6b\" y=\"60.816815\"/>\n     <use style=\"fill:#1f77b4;stroke:#1f77b4;\" x=\"340.144318\" xlink:href=\"#m199eafcf6b\" y=\"51.953043\"/>\n     <use style=\"fill:#1f77b4;stroke:#1f77b4;\" x=\"213.326136\" xlink:href=\"#m199eafcf6b\" y=\"75.58977\"/>\n     <use style=\"fill:#1f77b4;stroke:#1f77b4;\" x=\"204.871591\" xlink:href=\"#m199eafcf6b\" y=\"90.362724\"/>\n     <use style=\"fill:#1f77b4;stroke:#1f77b4;\" x=\"187.9625\" xlink:href=\"#m199eafcf6b\" y=\"75.58977\"/>\n     <use style=\"fill:#1f77b4;stroke:#1f77b4;\" x=\"323.235227\" xlink:href=\"#m199eafcf6b\" y=\"60.816815\"/>\n     <use style=\"fill:#1f77b4;stroke:#1f77b4;\" x=\"204.871591\" xlink:href=\"#m199eafcf6b\" y=\"75.58977\"/>\n     <use style=\"fill:#1f77b4;stroke:#1f77b4;\" x=\"213.326136\" xlink:href=\"#m199eafcf6b\" y=\"78.544361\"/>\n     <use style=\"fill:#1f77b4;stroke:#1f77b4;\" x=\"179.507955\" xlink:href=\"#m199eafcf6b\" y=\"99.226497\"/>\n     <use style=\"fill:#1f77b4;stroke:#1f77b4;\" x=\"255.598864\" xlink:href=\"#m199eafcf6b\" y=\"81.498951\"/>\n     <use style=\"fill:#1f77b4;stroke:#1f77b4;\" x=\"238.689773\" xlink:href=\"#m199eafcf6b\" y=\"75.58977\"/>\n     <use style=\"fill:#1f77b4;stroke:#1f77b4;\" x=\"255.598864\" xlink:href=\"#m199eafcf6b\" y=\"90.362724\"/>\n     <use style=\"fill:#1f77b4;stroke:#1f77b4;\" x=\"162.598864\" xlink:href=\"#m199eafcf6b\" y=\"90.362724\"/>\n     <use style=\"fill:#1f77b4;stroke:#1f77b4;\" x=\"247.144318\" xlink:href=\"#m199eafcf6b\" y=\"66.725997\"/>\n     <use style=\"fill:#1f77b4;stroke:#1f77b4;\" x=\"238.689773\" xlink:href=\"#m199eafcf6b\" y=\"72.635179\"/>\n     <use style=\"fill:#1f77b4;stroke:#1f77b4;\" x=\"238.689773\" xlink:href=\"#m199eafcf6b\" y=\"87.408133\"/>\n     <use style=\"fill:#1f77b4;stroke:#1f77b4;\" x=\"204.871591\" xlink:href=\"#m199eafcf6b\" y=\"93.317315\"/>\n     <use style=\"fill:#1f77b4;stroke:#1f77b4;\" x=\"221.780682\" xlink:href=\"#m199eafcf6b\" y=\"87.408133\"/>\n     <use style=\"fill:#1f77b4;stroke:#1f77b4;\" x=\"196.417045\" xlink:href=\"#m199eafcf6b\" y=\"81.498951\"/>\n     <use style=\"fill:#1f77b4;stroke:#1f77b4;\" x=\"171.053409\" xlink:href=\"#m199eafcf6b\" y=\"90.362724\"/>\n    </g>\n   </g>\n   <g id=\"matplotlib.axis_1\">\n    <g id=\"xtick_1\">\n     <g id=\"line2d_1\">\n      <defs>\n       <path d=\"M 0 0 \nL 0 3.5 \n\" id=\"ma10896954c\" style=\"stroke:#000000;stroke-width:0.8;\"/>\n      </defs>\n      <g>\n       <use style=\"stroke:#000000;stroke-width:0.8;\" x=\"52.689773\" xlink:href=\"#ma10896954c\" y=\"224.64\"/>\n      </g>\n     </g>\n     <g id=\"text_1\">\n      <!-- 4.5 -->\n      <g transform=\"translate(44.73821 239.238438)scale(0.1 -0.1)\">\n       <defs>\n        <path d=\"M 2419 4116 \nL 825 1625 \nL 2419 1625 \nL 2419 4116 \nz\nM 2253 4666 \nL 3047 4666 \nL 3047 1625 \nL 3713 1625 \nL 3713 1100 \nL 3047 1100 \nL 3047 0 \nL 2419 0 \nL 2419 1100 \nL 313 1100 \nL 313 1709 \nL 2253 4666 \nz\n\" id=\"DejaVuSans-34\" transform=\"scale(0.015625)\"/>\n        <path d=\"M 684 794 \nL 1344 794 \nL 1344 0 \nL 684 0 \nL 684 794 \nz\n\" id=\"DejaVuSans-2e\" transform=\"scale(0.015625)\"/>\n        <path d=\"M 691 4666 \nL 3169 4666 \nL 3169 4134 \nL 1269 4134 \nL 1269 2991 \nQ 1406 3038 1543 3061 \nQ 1681 3084 1819 3084 \nQ 2600 3084 3056 2656 \nQ 3513 2228 3513 1497 \nQ 3513 744 3044 326 \nQ 2575 -91 1722 -91 \nQ 1428 -91 1123 -41 \nQ 819 9 494 109 \nL 494 744 \nQ 775 591 1075 516 \nQ 1375 441 1709 441 \nQ 2250 441 2565 725 \nQ 2881 1009 2881 1497 \nQ 2881 1984 2565 2268 \nQ 2250 2553 1709 2553 \nQ 1456 2553 1204 2497 \nQ 953 2441 691 2322 \nL 691 4666 \nz\n\" id=\"DejaVuSans-35\" transform=\"scale(0.015625)\"/>\n       </defs>\n       <use xlink:href=\"#DejaVuSans-34\"/>\n       <use x=\"63.623047\" xlink:href=\"#DejaVuSans-2e\"/>\n       <use x=\"95.410156\" xlink:href=\"#DejaVuSans-35\"/>\n      </g>\n     </g>\n    </g>\n    <g id=\"xtick_2\">\n     <g id=\"line2d_2\">\n      <g>\n       <use style=\"stroke:#000000;stroke-width:0.8;\" x=\"94.9625\" xlink:href=\"#ma10896954c\" y=\"224.64\"/>\n      </g>\n     </g>\n     <g id=\"text_2\">\n      <!-- 5.0 -->\n      <g transform=\"translate(87.010937 239.238438)scale(0.1 -0.1)\">\n       <defs>\n        <path d=\"M 2034 4250 \nQ 1547 4250 1301 3770 \nQ 1056 3291 1056 2328 \nQ 1056 1369 1301 889 \nQ 1547 409 2034 409 \nQ 2525 409 2770 889 \nQ 3016 1369 3016 2328 \nQ 3016 3291 2770 3770 \nQ 2525 4250 2034 4250 \nz\nM 2034 4750 \nQ 2819 4750 3233 4129 \nQ 3647 3509 3647 2328 \nQ 3647 1150 3233 529 \nQ 2819 -91 2034 -91 \nQ 1250 -91 836 529 \nQ 422 1150 422 2328 \nQ 422 3509 836 4129 \nQ 1250 4750 2034 4750 \nz\n\" id=\"DejaVuSans-30\" transform=\"scale(0.015625)\"/>\n       </defs>\n       <use xlink:href=\"#DejaVuSans-35\"/>\n       <use x=\"63.623047\" xlink:href=\"#DejaVuSans-2e\"/>\n       <use x=\"95.410156\" xlink:href=\"#DejaVuSans-30\"/>\n      </g>\n     </g>\n    </g>\n    <g id=\"xtick_3\">\n     <g id=\"line2d_3\">\n      <g>\n       <use style=\"stroke:#000000;stroke-width:0.8;\" x=\"137.235227\" xlink:href=\"#ma10896954c\" y=\"224.64\"/>\n      </g>\n     </g>\n     <g id=\"text_3\">\n      <!-- 5.5 -->\n      <g transform=\"translate(129.283665 239.238438)scale(0.1 -0.1)\">\n       <use xlink:href=\"#DejaVuSans-35\"/>\n       <use x=\"63.623047\" xlink:href=\"#DejaVuSans-2e\"/>\n       <use x=\"95.410156\" xlink:href=\"#DejaVuSans-35\"/>\n      </g>\n     </g>\n    </g>\n    <g id=\"xtick_4\">\n     <g id=\"line2d_4\">\n      <g>\n       <use style=\"stroke:#000000;stroke-width:0.8;\" x=\"179.507955\" xlink:href=\"#ma10896954c\" y=\"224.64\"/>\n      </g>\n     </g>\n     <g id=\"text_4\">\n      <!-- 6.0 -->\n      <g transform=\"translate(171.556392 239.238438)scale(0.1 -0.1)\">\n       <defs>\n        <path d=\"M 2113 2584 \nQ 1688 2584 1439 2293 \nQ 1191 2003 1191 1497 \nQ 1191 994 1439 701 \nQ 1688 409 2113 409 \nQ 2538 409 2786 701 \nQ 3034 994 3034 1497 \nQ 3034 2003 2786 2293 \nQ 2538 2584 2113 2584 \nz\nM 3366 4563 \nL 3366 3988 \nQ 3128 4100 2886 4159 \nQ 2644 4219 2406 4219 \nQ 1781 4219 1451 3797 \nQ 1122 3375 1075 2522 \nQ 1259 2794 1537 2939 \nQ 1816 3084 2150 3084 \nQ 2853 3084 3261 2657 \nQ 3669 2231 3669 1497 \nQ 3669 778 3244 343 \nQ 2819 -91 2113 -91 \nQ 1303 -91 875 529 \nQ 447 1150 447 2328 \nQ 447 3434 972 4092 \nQ 1497 4750 2381 4750 \nQ 2619 4750 2861 4703 \nQ 3103 4656 3366 4563 \nz\n\" id=\"DejaVuSans-36\" transform=\"scale(0.015625)\"/>\n       </defs>\n       <use xlink:href=\"#DejaVuSans-36\"/>\n       <use x=\"63.623047\" xlink:href=\"#DejaVuSans-2e\"/>\n       <use x=\"95.410156\" xlink:href=\"#DejaVuSans-30\"/>\n      </g>\n     </g>\n    </g>\n    <g id=\"xtick_5\">\n     <g id=\"line2d_5\">\n      <g>\n       <use style=\"stroke:#000000;stroke-width:0.8;\" x=\"221.780682\" xlink:href=\"#ma10896954c\" y=\"224.64\"/>\n      </g>\n     </g>\n     <g id=\"text_5\">\n      <!-- 6.5 -->\n      <g transform=\"translate(213.829119 239.238438)scale(0.1 -0.1)\">\n       <use xlink:href=\"#DejaVuSans-36\"/>\n       <use x=\"63.623047\" xlink:href=\"#DejaVuSans-2e\"/>\n       <use x=\"95.410156\" xlink:href=\"#DejaVuSans-35\"/>\n      </g>\n     </g>\n    </g>\n    <g id=\"xtick_6\">\n     <g id=\"line2d_6\">\n      <g>\n       <use style=\"stroke:#000000;stroke-width:0.8;\" x=\"264.053409\" xlink:href=\"#ma10896954c\" y=\"224.64\"/>\n      </g>\n     </g>\n     <g id=\"text_6\">\n      <!-- 7.0 -->\n      <g transform=\"translate(256.101847 239.238438)scale(0.1 -0.1)\">\n       <defs>\n        <path d=\"M 525 4666 \nL 3525 4666 \nL 3525 4397 \nL 1831 0 \nL 1172 0 \nL 2766 4134 \nL 525 4134 \nL 525 4666 \nz\n\" id=\"DejaVuSans-37\" transform=\"scale(0.015625)\"/>\n       </defs>\n       <use xlink:href=\"#DejaVuSans-37\"/>\n       <use x=\"63.623047\" xlink:href=\"#DejaVuSans-2e\"/>\n       <use x=\"95.410156\" xlink:href=\"#DejaVuSans-30\"/>\n      </g>\n     </g>\n    </g>\n    <g id=\"xtick_7\">\n     <g id=\"line2d_7\">\n      <g>\n       <use style=\"stroke:#000000;stroke-width:0.8;\" x=\"306.326136\" xlink:href=\"#ma10896954c\" y=\"224.64\"/>\n      </g>\n     </g>\n     <g id=\"text_7\">\n      <!-- 7.5 -->\n      <g transform=\"translate(298.374574 239.238438)scale(0.1 -0.1)\">\n       <use xlink:href=\"#DejaVuSans-37\"/>\n       <use x=\"63.623047\" xlink:href=\"#DejaVuSans-2e\"/>\n       <use x=\"95.410156\" xlink:href=\"#DejaVuSans-35\"/>\n      </g>\n     </g>\n    </g>\n    <g id=\"xtick_8\">\n     <g id=\"line2d_8\">\n      <g>\n       <use style=\"stroke:#000000;stroke-width:0.8;\" x=\"348.598864\" xlink:href=\"#ma10896954c\" y=\"224.64\"/>\n      </g>\n     </g>\n     <g id=\"text_8\">\n      <!-- 8.0 -->\n      <g transform=\"translate(340.647301 239.238438)scale(0.1 -0.1)\">\n       <defs>\n        <path d=\"M 2034 2216 \nQ 1584 2216 1326 1975 \nQ 1069 1734 1069 1313 \nQ 1069 891 1326 650 \nQ 1584 409 2034 409 \nQ 2484 409 2743 651 \nQ 3003 894 3003 1313 \nQ 3003 1734 2745 1975 \nQ 2488 2216 2034 2216 \nz\nM 1403 2484 \nQ 997 2584 770 2862 \nQ 544 3141 544 3541 \nQ 544 4100 942 4425 \nQ 1341 4750 2034 4750 \nQ 2731 4750 3128 4425 \nQ 3525 4100 3525 3541 \nQ 3525 3141 3298 2862 \nQ 3072 2584 2669 2484 \nQ 3125 2378 3379 2068 \nQ 3634 1759 3634 1313 \nQ 3634 634 3220 271 \nQ 2806 -91 2034 -91 \nQ 1263 -91 848 271 \nQ 434 634 434 1313 \nQ 434 1759 690 2068 \nQ 947 2378 1403 2484 \nz\nM 1172 3481 \nQ 1172 3119 1398 2916 \nQ 1625 2713 2034 2713 \nQ 2441 2713 2670 2916 \nQ 2900 3119 2900 3481 \nQ 2900 3844 2670 4047 \nQ 2441 4250 2034 4250 \nQ 1625 4250 1398 4047 \nQ 1172 3844 1172 3481 \nz\n\" id=\"DejaVuSans-38\" transform=\"scale(0.015625)\"/>\n       </defs>\n       <use xlink:href=\"#DejaVuSans-38\"/>\n       <use x=\"63.623047\" xlink:href=\"#DejaVuSans-2e\"/>\n       <use x=\"95.410156\" xlink:href=\"#DejaVuSans-30\"/>\n      </g>\n     </g>\n    </g>\n   </g>\n   <g id=\"matplotlib.axis_2\">\n    <g id=\"ytick_1\">\n     <g id=\"line2d_9\">\n      <defs>\n       <path d=\"M 0 0 \nL -3.5 0 \n\" id=\"md49f15f580\" style=\"stroke:#000000;stroke-width:0.8;\"/>\n      </defs>\n      <g>\n       <use style=\"stroke:#000000;stroke-width:0.8;\" x=\"20.5625\" xlink:href=\"#md49f15f580\" y=\"211.500949\"/>\n      </g>\n     </g>\n     <g id=\"text_9\">\n      <!-- 1 -->\n      <g transform=\"translate(7.2 215.300168)scale(0.1 -0.1)\">\n       <defs>\n        <path d=\"M 794 531 \nL 1825 531 \nL 1825 4091 \nL 703 3866 \nL 703 4441 \nL 1819 4666 \nL 2450 4666 \nL 2450 531 \nL 3481 531 \nL 3481 0 \nL 794 0 \nL 794 531 \nz\n\" id=\"DejaVuSans-31\" transform=\"scale(0.015625)\"/>\n       </defs>\n       <use xlink:href=\"#DejaVuSans-31\"/>\n      </g>\n     </g>\n    </g>\n    <g id=\"ytick_2\">\n     <g id=\"line2d_10\">\n      <g>\n       <use style=\"stroke:#000000;stroke-width:0.8;\" x=\"20.5625\" xlink:href=\"#md49f15f580\" y=\"181.955041\"/>\n      </g>\n     </g>\n     <g id=\"text_10\">\n      <!-- 2 -->\n      <g transform=\"translate(7.2 185.754259)scale(0.1 -0.1)\">\n       <defs>\n        <path d=\"M 1228 531 \nL 3431 531 \nL 3431 0 \nL 469 0 \nL 469 531 \nQ 828 903 1448 1529 \nQ 2069 2156 2228 2338 \nQ 2531 2678 2651 2914 \nQ 2772 3150 2772 3378 \nQ 2772 3750 2511 3984 \nQ 2250 4219 1831 4219 \nQ 1534 4219 1204 4116 \nQ 875 4013 500 3803 \nL 500 4441 \nQ 881 4594 1212 4672 \nQ 1544 4750 1819 4750 \nQ 2544 4750 2975 4387 \nQ 3406 4025 3406 3419 \nQ 3406 3131 3298 2873 \nQ 3191 2616 2906 2266 \nQ 2828 2175 2409 1742 \nQ 1991 1309 1228 531 \nz\n\" id=\"DejaVuSans-32\" transform=\"scale(0.015625)\"/>\n       </defs>\n       <use xlink:href=\"#DejaVuSans-32\"/>\n      </g>\n     </g>\n    </g>\n    <g id=\"ytick_3\">\n     <g id=\"line2d_11\">\n      <g>\n       <use style=\"stroke:#000000;stroke-width:0.8;\" x=\"20.5625\" xlink:href=\"#md49f15f580\" y=\"152.409132\"/>\n      </g>\n     </g>\n     <g id=\"text_11\">\n      <!-- 3 -->\n      <g transform=\"translate(7.2 156.208351)scale(0.1 -0.1)\">\n       <defs>\n        <path d=\"M 2597 2516 \nQ 3050 2419 3304 2112 \nQ 3559 1806 3559 1356 \nQ 3559 666 3084 287 \nQ 2609 -91 1734 -91 \nQ 1441 -91 1130 -33 \nQ 819 25 488 141 \nL 488 750 \nQ 750 597 1062 519 \nQ 1375 441 1716 441 \nQ 2309 441 2620 675 \nQ 2931 909 2931 1356 \nQ 2931 1769 2642 2001 \nQ 2353 2234 1838 2234 \nL 1294 2234 \nL 1294 2753 \nL 1863 2753 \nQ 2328 2753 2575 2939 \nQ 2822 3125 2822 3475 \nQ 2822 3834 2567 4026 \nQ 2313 4219 1838 4219 \nQ 1578 4219 1281 4162 \nQ 984 4106 628 3988 \nL 628 4550 \nQ 988 4650 1302 4700 \nQ 1616 4750 1894 4750 \nQ 2613 4750 3031 4423 \nQ 3450 4097 3450 3541 \nQ 3450 3153 3228 2886 \nQ 3006 2619 2597 2516 \nz\n\" id=\"DejaVuSans-33\" transform=\"scale(0.015625)\"/>\n       </defs>\n       <use xlink:href=\"#DejaVuSans-33\"/>\n      </g>\n     </g>\n    </g>\n    <g id=\"ytick_4\">\n     <g id=\"line2d_12\">\n      <g>\n       <use style=\"stroke:#000000;stroke-width:0.8;\" x=\"20.5625\" xlink:href=\"#md49f15f580\" y=\"122.863223\"/>\n      </g>\n     </g>\n     <g id=\"text_12\">\n      <!-- 4 -->\n      <g transform=\"translate(7.2 126.662442)scale(0.1 -0.1)\">\n       <use xlink:href=\"#DejaVuSans-34\"/>\n      </g>\n     </g>\n    </g>\n    <g id=\"ytick_5\">\n     <g id=\"line2d_13\">\n      <g>\n       <use style=\"stroke:#000000;stroke-width:0.8;\" x=\"20.5625\" xlink:href=\"#md49f15f580\" y=\"93.317315\"/>\n      </g>\n     </g>\n     <g id=\"text_13\">\n      <!-- 5 -->\n      <g transform=\"translate(7.2 97.116534)scale(0.1 -0.1)\">\n       <use xlink:href=\"#DejaVuSans-35\"/>\n      </g>\n     </g>\n    </g>\n    <g id=\"ytick_6\">\n     <g id=\"line2d_14\">\n      <g>\n       <use style=\"stroke:#000000;stroke-width:0.8;\" x=\"20.5625\" xlink:href=\"#md49f15f580\" y=\"63.771406\"/>\n      </g>\n     </g>\n     <g id=\"text_14\">\n      <!-- 6 -->\n      <g transform=\"translate(7.2 67.570625)scale(0.1 -0.1)\">\n       <use xlink:href=\"#DejaVuSans-36\"/>\n      </g>\n     </g>\n    </g>\n    <g id=\"ytick_7\">\n     <g id=\"line2d_15\">\n      <g>\n       <use style=\"stroke:#000000;stroke-width:0.8;\" x=\"20.5625\" xlink:href=\"#md49f15f580\" y=\"34.225498\"/>\n      </g>\n     </g>\n     <g id=\"text_15\">\n      <!-- 7 -->\n      <g transform=\"translate(7.2 38.024716)scale(0.1 -0.1)\">\n       <use xlink:href=\"#DejaVuSans-37\"/>\n      </g>\n     </g>\n    </g>\n   </g>\n   <g id=\"line2d_16\">\n    <path clip-path=\"url(#p7f9ce0cf7c)\" d=\"M 103.417045 170.829091 \nL 35.780682 214.756364 \nL 340.144318 17.083636 \nL 171.053409 126.901818 \n\" style=\"fill:none;stroke:#1f77b4;stroke-linecap:square;stroke-width:1.5;\"/>\n   </g>\n   <g id=\"patch_3\">\n    <path d=\"M 20.5625 224.64 \nL 20.5625 7.2 \n\" style=\"fill:none;stroke:#000000;stroke-linecap:square;stroke-linejoin:miter;stroke-width:0.8;\"/>\n   </g>\n   <g id=\"patch_4\">\n    <path d=\"M 355.3625 224.64 \nL 355.3625 7.2 \n\" style=\"fill:none;stroke:#000000;stroke-linecap:square;stroke-linejoin:miter;stroke-width:0.8;\"/>\n   </g>\n   <g id=\"patch_5\">\n    <path d=\"M 20.5625 224.64 \nL 355.3625 224.64 \n\" style=\"fill:none;stroke:#000000;stroke-linecap:square;stroke-linejoin:miter;stroke-width:0.8;\"/>\n   </g>\n   <g id=\"patch_6\">\n    <path d=\"M 20.5625 7.2 \nL 355.3625 7.2 \n\" style=\"fill:none;stroke:#000000;stroke-linecap:square;stroke-linejoin:miter;stroke-width:0.8;\"/>\n   </g>\n  </g>\n </g>\n <defs>\n  <clipPath id=\"p7f9ce0cf7c\">\n   <rect height=\"217.44\" width=\"334.8\" x=\"20.5625\" y=\"7.2\"/>\n  </clipPath>\n </defs>\n</svg>\n",
      "image/png": "[encoded data removed]"
     },
     "metadata": {
      "needs_background": "light"
     }
    }
   ],
   "source": [
    "from sklearn import datasets , linear_model\n",
    "import matplotlib.pyplot as plt\n",
    "iris = datasets.load_iris()\n",
    "x = iris.data[:,0]\n",
    "y = iris.data[:,2]\n",
    "model = linear_model.LinearRegression()\n",
    "model.fit(x.reshape(-1,1) , y)\n",
    "plt.scatter(x,y)\n",
    "plt.plot(x , model.predict(x.reshape(-1,1)))\n",
    "plt.show()"
   ]
  },
  {
   "cell_type": "markdown",
   "id": "2ccc27ae",
   "metadata": {},
   "source": [
    "# 39,40"
   ]
  },
  {
   "cell_type": "code",
   "execution_count": 29,
   "id": "8fa24657",
   "metadata": {},
   "outputs": [
    {
     "output_type": "display_data",
     "data": {
      "text/plain": "<Figure size 432x288 with 1 Axes>",
      "image/svg+xml": "<?xml version=\"1.0\" encoding=\"utf-8\" standalone=\"no\"?>\n<!DOCTYPE svg PUBLIC \"-//W3C//DTD SVG 1.1//EN\"\n  \"http://www.w3.org/Graphics/SVG/1.1/DTD/svg11.dtd\">\n<svg height=\"262.19625pt\" version=\"1.1\" viewBox=\"0 0 385.78125 262.19625\" width=\"385.78125pt\" xmlns=\"http://www.w3.org/2000/svg\" xmlns:xlink=\"http://www.w3.org/1999/xlink\">\n <metadata>\n  <rdf:RDF xmlns:cc=\"http://creativecommons.org/ns#\" xmlns:dc=\"http://purl.org/dc/elements/1.1/\" xmlns:rdf=\"http://www.w3.org/1999/02/22-rdf-syntax-ns#\">\n   <cc:Work>\n    <dc:type rdf:resource=\"http://purl.org/dc/dcmitype/StillImage\"/>\n    <dc:date>2021-06-15T23:58:38.987999</dc:date>\n    <dc:format>image/svg+xml</dc:format>\n    <dc:creator>\n     <cc:Agent>\n      <dc:title>Matplotlib v3.4.2, https://matplotlib.org/</dc:title>\n     </cc:Agent>\n    </dc:creator>\n   </cc:Work>\n  </rdf:RDF>\n </metadata>\n <defs>\n  <style type=\"text/css\">*{stroke-linecap:butt;stroke-linejoin:round;}</style>\n </defs>\n <g id=\"figure_1\">\n  <g id=\"patch_1\">\n   <path d=\"M 0 262.19625 \nL 385.78125 262.19625 \nL 385.78125 0 \nL 0 0 \nz\n\" style=\"fill:none;\"/>\n  </g>\n  <g id=\"axes_1\">\n   <g id=\"patch_2\">\n    <path d=\"M 43.78125 224.64 \nL 378.58125 224.64 \nL 378.58125 7.2 \nL 43.78125 7.2 \nz\n\" style=\"fill:#ffffff;\"/>\n   </g>\n   <g id=\"PathCollection_1\">\n    <defs>\n     <path d=\"M 0 3 \nC 0.795609 3 1.55874 2.683901 2.12132 2.12132 \nC 2.683901 1.55874 3 0.795609 3 0 \nC 3 -0.795609 2.683901 -1.55874 2.12132 -2.12132 \nC 1.55874 -2.683901 0.795609 -3 0 -3 \nC -0.795609 -3 -1.55874 -2.683901 -2.12132 -2.12132 \nC -2.683901 -1.55874 -3 -0.795609 -3 0 \nC -3 0.795609 -2.683901 1.55874 -2.12132 2.12132 \nC -1.55874 2.683901 -0.795609 3 0 3 \nz\n\" id=\"m59ca064992\" style=\"stroke:#008000;\"/>\n    </defs>\n    <g clip-path=\"url(#pc215e4622a)\">\n     <use style=\"fill:#008000;stroke:#008000;\" x=\"79.634255\" xlink:href=\"#m59ca064992\" y=\"206.52\"/>\n     <use style=\"fill:#008000;stroke:#008000;\" x=\"79.634255\" xlink:href=\"#m59ca064992\" y=\"206.52\"/>\n     <use style=\"fill:#008000;stroke:#008000;\" x=\"74.475549\" xlink:href=\"#m59ca064992\" y=\"206.52\"/>\n     <use style=\"fill:#008000;stroke:#008000;\" x=\"84.79296\" xlink:href=\"#m59ca064992\" y=\"206.52\"/>\n     <use style=\"fill:#008000;stroke:#008000;\" x=\"79.634255\" xlink:href=\"#m59ca064992\" y=\"206.52\"/>\n     <use style=\"fill:#008000;stroke:#008000;\" x=\"95.110372\" xlink:href=\"#m59ca064992\" y=\"190.047273\"/>\n     <use style=\"fill:#008000;stroke:#008000;\" x=\"79.634255\" xlink:href=\"#m59ca064992\" y=\"198.283636\"/>\n     <use style=\"fill:#008000;stroke:#008000;\" x=\"84.79296\" xlink:href=\"#m59ca064992\" y=\"206.52\"/>\n     <use style=\"fill:#008000;stroke:#008000;\" x=\"79.634255\" xlink:href=\"#m59ca064992\" y=\"206.52\"/>\n     <use style=\"fill:#008000;stroke:#008000;\" x=\"84.79296\" xlink:href=\"#m59ca064992\" y=\"214.756364\"/>\n     <use style=\"fill:#008000;stroke:#008000;\" x=\"84.79296\" xlink:href=\"#m59ca064992\" y=\"206.52\"/>\n     <use style=\"fill:#008000;stroke:#008000;\" x=\"89.951666\" xlink:href=\"#m59ca064992\" y=\"206.52\"/>\n     <use style=\"fill:#008000;stroke:#008000;\" x=\"79.634255\" xlink:href=\"#m59ca064992\" y=\"214.756364\"/>\n     <use style=\"fill:#008000;stroke:#008000;\" x=\"64.158138\" xlink:href=\"#m59ca064992\" y=\"214.756364\"/>\n     <use style=\"fill:#008000;stroke:#008000;\" x=\"69.316843\" xlink:href=\"#m59ca064992\" y=\"206.52\"/>\n     <use style=\"fill:#008000;stroke:#008000;\" x=\"84.79296\" xlink:href=\"#m59ca064992\" y=\"190.047273\"/>\n     <use style=\"fill:#008000;stroke:#008000;\" x=\"74.475549\" xlink:href=\"#m59ca064992\" y=\"190.047273\"/>\n     <use style=\"fill:#008000;stroke:#008000;\" x=\"79.634255\" xlink:href=\"#m59ca064992\" y=\"198.283636\"/>\n     <use style=\"fill:#008000;stroke:#008000;\" x=\"95.110372\" xlink:href=\"#m59ca064992\" y=\"198.283636\"/>\n     <use style=\"fill:#008000;stroke:#008000;\" x=\"84.79296\" xlink:href=\"#m59ca064992\" y=\"198.283636\"/>\n     <use style=\"fill:#008000;stroke:#008000;\" x=\"95.110372\" xlink:href=\"#m59ca064992\" y=\"206.52\"/>\n     <use style=\"fill:#008000;stroke:#008000;\" x=\"84.79296\" xlink:href=\"#m59ca064992\" y=\"190.047273\"/>\n     <use style=\"fill:#008000;stroke:#008000;\" x=\"58.999432\" xlink:href=\"#m59ca064992\" y=\"206.52\"/>\n     <use style=\"fill:#008000;stroke:#008000;\" x=\"95.110372\" xlink:href=\"#m59ca064992\" y=\"181.810909\"/>\n     <use style=\"fill:#008000;stroke:#008000;\" x=\"105.427783\" xlink:href=\"#m59ca064992\" y=\"206.52\"/>\n     <use style=\"fill:#008000;stroke:#008000;\" x=\"89.951666\" xlink:href=\"#m59ca064992\" y=\"206.52\"/>\n     <use style=\"fill:#008000;stroke:#008000;\" x=\"89.951666\" xlink:href=\"#m59ca064992\" y=\"190.047273\"/>\n     <use style=\"fill:#008000;stroke:#008000;\" x=\"84.79296\" xlink:href=\"#m59ca064992\" y=\"206.52\"/>\n     <use style=\"fill:#008000;stroke:#008000;\" x=\"79.634255\" xlink:href=\"#m59ca064992\" y=\"206.52\"/>\n     <use style=\"fill:#008000;stroke:#008000;\" x=\"89.951666\" xlink:href=\"#m59ca064992\" y=\"206.52\"/>\n     <use style=\"fill:#008000;stroke:#008000;\" x=\"89.951666\" xlink:href=\"#m59ca064992\" y=\"206.52\"/>\n     <use style=\"fill:#008000;stroke:#008000;\" x=\"84.79296\" xlink:href=\"#m59ca064992\" y=\"190.047273\"/>\n     <use style=\"fill:#008000;stroke:#008000;\" x=\"84.79296\" xlink:href=\"#m59ca064992\" y=\"214.756364\"/>\n     <use style=\"fill:#008000;stroke:#008000;\" x=\"79.634255\" xlink:href=\"#m59ca064992\" y=\"206.52\"/>\n     <use style=\"fill:#008000;stroke:#008000;\" x=\"84.79296\" xlink:href=\"#m59ca064992\" y=\"206.52\"/>\n     <use style=\"fill:#008000;stroke:#008000;\" x=\"69.316843\" xlink:href=\"#m59ca064992\" y=\"206.52\"/>\n     <use style=\"fill:#008000;stroke:#008000;\" x=\"74.475549\" xlink:href=\"#m59ca064992\" y=\"206.52\"/>\n     <use style=\"fill:#008000;stroke:#008000;\" x=\"79.634255\" xlink:href=\"#m59ca064992\" y=\"214.756364\"/>\n     <use style=\"fill:#008000;stroke:#008000;\" x=\"74.475549\" xlink:href=\"#m59ca064992\" y=\"206.52\"/>\n     <use style=\"fill:#008000;stroke:#008000;\" x=\"84.79296\" xlink:href=\"#m59ca064992\" y=\"206.52\"/>\n     <use style=\"fill:#008000;stroke:#008000;\" x=\"74.475549\" xlink:href=\"#m59ca064992\" y=\"198.283636\"/>\n     <use style=\"fill:#008000;stroke:#008000;\" x=\"74.475549\" xlink:href=\"#m59ca064992\" y=\"198.283636\"/>\n     <use style=\"fill:#008000;stroke:#008000;\" x=\"74.475549\" xlink:href=\"#m59ca064992\" y=\"206.52\"/>\n     <use style=\"fill:#008000;stroke:#008000;\" x=\"89.951666\" xlink:href=\"#m59ca064992\" y=\"173.574545\"/>\n     <use style=\"fill:#008000;stroke:#008000;\" x=\"105.427783\" xlink:href=\"#m59ca064992\" y=\"190.047273\"/>\n     <use style=\"fill:#008000;stroke:#008000;\" x=\"79.634255\" xlink:href=\"#m59ca064992\" y=\"198.283636\"/>\n     <use style=\"fill:#008000;stroke:#008000;\" x=\"89.951666\" xlink:href=\"#m59ca064992\" y=\"206.52\"/>\n     <use style=\"fill:#008000;stroke:#008000;\" x=\"79.634255\" xlink:href=\"#m59ca064992\" y=\"206.52\"/>\n     <use style=\"fill:#008000;stroke:#008000;\" x=\"84.79296\" xlink:href=\"#m59ca064992\" y=\"206.52\"/>\n     <use style=\"fill:#008000;stroke:#008000;\" x=\"79.634255\" xlink:href=\"#m59ca064992\" y=\"206.52\"/>\n    </g>\n   </g>\n   <g id=\"PathCollection_2\">\n    <defs>\n     <path d=\"M 0 3 \nC 0.795609 3 1.55874 2.683901 2.12132 2.12132 \nC 2.683901 1.55874 3 0.795609 3 0 \nC 3 -0.795609 2.683901 -1.55874 2.12132 -2.12132 \nC 1.55874 -2.683901 0.795609 -3 0 -3 \nC -0.795609 -3 -1.55874 -2.683901 -2.12132 -2.12132 \nC -2.683901 -1.55874 -3 -0.795609 -3 0 \nC -3 0.795609 -2.683901 1.55874 -2.12132 2.12132 \nC -1.55874 2.683901 -0.795609 3 0 3 \nz\n\" id=\"mf56f513acf\" style=\"stroke:#ff0000;\"/>\n    </defs>\n    <g clip-path=\"url(#pc215e4622a)\">\n     <use style=\"fill:#ff0000;stroke:#ff0000;\" x=\"249.871543\" xlink:href=\"#mf56f513acf\" y=\"107.683636\"/>\n     <use style=\"fill:#ff0000;stroke:#ff0000;\" x=\"239.554131\" xlink:href=\"#mf56f513acf\" y=\"99.447273\"/>\n     <use style=\"fill:#ff0000;stroke:#ff0000;\" x=\"213.760603\" xlink:href=\"#mf56f513acf\" y=\"115.92\"/>\n     <use style=\"fill:#ff0000;stroke:#ff0000;\" x=\"244.712837\" xlink:href=\"#mf56f513acf\" y=\"99.447273\"/>\n     <use style=\"fill:#ff0000;stroke:#ff0000;\" x=\"239.554131\" xlink:href=\"#mf56f513acf\" y=\"115.92\"/>\n     <use style=\"fill:#ff0000;stroke:#ff0000;\" x=\"249.871543\" xlink:href=\"#mf56f513acf\" y=\"91.210909\"/>\n     <use style=\"fill:#ff0000;stroke:#ff0000;\" x=\"177.649663\" xlink:href=\"#mf56f513acf\" y=\"140.629091\"/>\n     <use style=\"fill:#ff0000;stroke:#ff0000;\" x=\"244.712837\" xlink:href=\"#mf56f513acf\" y=\"115.92\"/>\n     <use style=\"fill:#ff0000;stroke:#ff0000;\" x=\"208.601897\" xlink:href=\"#mf56f513acf\" y=\"107.683636\"/>\n     <use style=\"fill:#ff0000;stroke:#ff0000;\" x=\"187.967074\" xlink:href=\"#mf56f513acf\" y=\"140.629091\"/>\n     <use style=\"fill:#ff0000;stroke:#ff0000;\" x=\"224.078014\" xlink:href=\"#mf56f513acf\" y=\"99.447273\"/>\n     <use style=\"fill:#ff0000;stroke:#ff0000;\" x=\"213.760603\" xlink:href=\"#mf56f513acf\" y=\"140.629091\"/>\n     <use style=\"fill:#ff0000;stroke:#ff0000;\" x=\"249.871543\" xlink:href=\"#mf56f513acf\" y=\"107.683636\"/>\n     <use style=\"fill:#ff0000;stroke:#ff0000;\" x=\"193.12578\" xlink:href=\"#mf56f513acf\" y=\"115.92\"/>\n     <use style=\"fill:#ff0000;stroke:#ff0000;\" x=\"234.395426\" xlink:href=\"#mf56f513acf\" y=\"107.683636\"/>\n     <use style=\"fill:#ff0000;stroke:#ff0000;\" x=\"239.554131\" xlink:href=\"#mf56f513acf\" y=\"99.447273\"/>\n     <use style=\"fill:#ff0000;stroke:#ff0000;\" x=\"218.919309\" xlink:href=\"#mf56f513acf\" y=\"140.629091\"/>\n     <use style=\"fill:#ff0000;stroke:#ff0000;\" x=\"239.554131\" xlink:href=\"#mf56f513acf\" y=\"99.447273\"/>\n     <use style=\"fill:#ff0000;stroke:#ff0000;\" x=\"208.601897\" xlink:href=\"#mf56f513acf\" y=\"132.392727\"/>\n     <use style=\"fill:#ff0000;stroke:#ff0000;\" x=\"255.030248\" xlink:href=\"#mf56f513acf\" y=\"74.738182\"/>\n     <use style=\"fill:#ff0000;stroke:#ff0000;\" x=\"213.760603\" xlink:href=\"#mf56f513acf\" y=\"115.92\"/>\n     <use style=\"fill:#ff0000;stroke:#ff0000;\" x=\"260.188954\" xlink:href=\"#mf56f513acf\" y=\"99.447273\"/>\n     <use style=\"fill:#ff0000;stroke:#ff0000;\" x=\"249.871543\" xlink:href=\"#mf56f513acf\" y=\"124.156364\"/>\n     <use style=\"fill:#ff0000;stroke:#ff0000;\" x=\"229.23672\" xlink:href=\"#mf56f513acf\" y=\"115.92\"/>\n     <use style=\"fill:#ff0000;stroke:#ff0000;\" x=\"234.395426\" xlink:href=\"#mf56f513acf\" y=\"107.683636\"/>\n     <use style=\"fill:#ff0000;stroke:#ff0000;\" x=\"255.030248\" xlink:href=\"#mf56f513acf\" y=\"107.683636\"/>\n     <use style=\"fill:#ff0000;stroke:#ff0000;\" x=\"239.554131\" xlink:href=\"#mf56f513acf\" y=\"99.447273\"/>\n     <use style=\"fill:#ff0000;stroke:#ff0000;\" x=\"187.967074\" xlink:href=\"#mf56f513acf\" y=\"140.629091\"/>\n     <use style=\"fill:#ff0000;stroke:#ff0000;\" x=\"203.443191\" xlink:href=\"#mf56f513acf\" y=\"132.392727\"/>\n     <use style=\"fill:#ff0000;stroke:#ff0000;\" x=\"198.284486\" xlink:href=\"#mf56f513acf\" y=\"140.629091\"/>\n     <use style=\"fill:#ff0000;stroke:#ff0000;\" x=\"208.601897\" xlink:href=\"#mf56f513acf\" y=\"124.156364\"/>\n     <use style=\"fill:#ff0000;stroke:#ff0000;\" x=\"270.506366\" xlink:href=\"#mf56f513acf\" y=\"91.210909\"/>\n     <use style=\"fill:#ff0000;stroke:#ff0000;\" x=\"239.554131\" xlink:href=\"#mf56f513acf\" y=\"99.447273\"/>\n     <use style=\"fill:#ff0000;stroke:#ff0000;\" x=\"239.554131\" xlink:href=\"#mf56f513acf\" y=\"91.210909\"/>\n     <use style=\"fill:#ff0000;stroke:#ff0000;\" x=\"249.871543\" xlink:href=\"#mf56f513acf\" y=\"99.447273\"/>\n     <use style=\"fill:#ff0000;stroke:#ff0000;\" x=\"234.395426\" xlink:href=\"#mf56f513acf\" y=\"115.92\"/>\n     <use style=\"fill:#ff0000;stroke:#ff0000;\" x=\"218.919309\" xlink:href=\"#mf56f513acf\" y=\"115.92\"/>\n     <use style=\"fill:#ff0000;stroke:#ff0000;\" x=\"213.760603\" xlink:href=\"#mf56f513acf\" y=\"115.92\"/>\n     <use style=\"fill:#ff0000;stroke:#ff0000;\" x=\"234.395426\" xlink:href=\"#mf56f513acf\" y=\"124.156364\"/>\n     <use style=\"fill:#ff0000;stroke:#ff0000;\" x=\"244.712837\" xlink:href=\"#mf56f513acf\" y=\"107.683636\"/>\n     <use style=\"fill:#ff0000;stroke:#ff0000;\" x=\"213.760603\" xlink:href=\"#mf56f513acf\" y=\"124.156364\"/>\n     <use style=\"fill:#ff0000;stroke:#ff0000;\" x=\"177.649663\" xlink:href=\"#mf56f513acf\" y=\"140.629091\"/>\n     <use style=\"fill:#ff0000;stroke:#ff0000;\" x=\"224.078014\" xlink:href=\"#mf56f513acf\" y=\"115.92\"/>\n     <use style=\"fill:#ff0000;stroke:#ff0000;\" x=\"224.078014\" xlink:href=\"#mf56f513acf\" y=\"124.156364\"/>\n     <use style=\"fill:#ff0000;stroke:#ff0000;\" x=\"224.078014\" xlink:href=\"#mf56f513acf\" y=\"115.92\"/>\n     <use style=\"fill:#ff0000;stroke:#ff0000;\" x=\"229.23672\" xlink:href=\"#mf56f513acf\" y=\"115.92\"/>\n     <use style=\"fill:#ff0000;stroke:#ff0000;\" x=\"162.173546\" xlink:href=\"#mf56f513acf\" y=\"132.392727\"/>\n     <use style=\"fill:#ff0000;stroke:#ff0000;\" x=\"218.919309\" xlink:href=\"#mf56f513acf\" y=\"115.92\"/>\n     <use style=\"fill:#ff0000;stroke:#ff0000;\" x=\"270.506366\" xlink:href=\"#mf56f513acf\" y=\"66.501818\"/>\n     <use style=\"fill:#ff0000;stroke:#ff0000;\" x=\"239.554131\" xlink:href=\"#mf56f513acf\" y=\"82.974545\"/>\n     <use style=\"fill:#ff0000;stroke:#ff0000;\" x=\"265.34766\" xlink:href=\"#mf56f513acf\" y=\"58.265455\"/>\n     <use style=\"fill:#ff0000;stroke:#ff0000;\" x=\"270.506366\" xlink:href=\"#mf56f513acf\" y=\"25.32\"/>\n     <use style=\"fill:#ff0000;stroke:#ff0000;\" x=\"265.34766\" xlink:href=\"#mf56f513acf\" y=\"99.447273\"/>\n     <use style=\"fill:#ff0000;stroke:#ff0000;\" x=\"260.188954\" xlink:href=\"#mf56f513acf\" y=\"58.265455\"/>\n     <use style=\"fill:#ff0000;stroke:#ff0000;\" x=\"260.188954\" xlink:href=\"#mf56f513acf\" y=\"74.738182\"/>\n     <use style=\"fill:#ff0000;stroke:#ff0000;\" x=\"255.030248\" xlink:href=\"#mf56f513acf\" y=\"74.738182\"/>\n     <use style=\"fill:#ff0000;stroke:#ff0000;\" x=\"260.188954\" xlink:href=\"#mf56f513acf\" y=\"74.738182\"/>\n     <use style=\"fill:#ff0000;stroke:#ff0000;\" x=\"270.506366\" xlink:href=\"#mf56f513acf\" y=\"99.447273\"/>\n     <use style=\"fill:#ff0000;stroke:#ff0000;\" x=\"255.030248\" xlink:href=\"#mf56f513acf\" y=\"74.738182\"/>\n     <use style=\"fill:#ff0000;stroke:#ff0000;\" x=\"270.506366\" xlink:href=\"#mf56f513acf\" y=\"66.501818\"/>\n     <use style=\"fill:#ff0000;stroke:#ff0000;\" x=\"265.34766\" xlink:href=\"#mf56f513acf\" y=\"66.501818\"/>\n     <use style=\"fill:#ff0000;stroke:#ff0000;\" x=\"270.506366\" xlink:href=\"#mf56f513acf\" y=\"74.738182\"/>\n    </g>\n   </g>\n   <g id=\"PathCollection_3\">\n    <defs>\n     <path d=\"M 0 3 \nC 0.795609 3 1.55874 2.683901 2.12132 2.12132 \nC 2.683901 1.55874 3 0.795609 3 0 \nC 3 -0.795609 2.683901 -1.55874 2.12132 -2.12132 \nC 1.55874 -2.683901 0.795609 -3 0 -3 \nC -0.795609 -3 -1.55874 -2.683901 -2.12132 -2.12132 \nC -2.683901 -1.55874 -3 -0.795609 -3 0 \nC -3 0.795609 -2.683901 1.55874 -2.12132 2.12132 \nC -1.55874 2.683901 -0.795609 3 0 3 \nz\n\" id=\"m26494ee131\" style=\"stroke:#0000ff;\"/>\n    </defs>\n    <g clip-path=\"url(#pc215e4622a)\">\n     <use style=\"fill:#0000ff;stroke:#0000ff;\" x=\"260.188954\" xlink:href=\"#m26494ee131\" y=\"99.447273\"/>\n     <use style=\"fill:#0000ff;stroke:#0000ff;\" x=\"265.34766\" xlink:href=\"#m26494ee131\" y=\"82.974545\"/>\n     <use style=\"fill:#0000ff;stroke:#0000ff;\" x=\"316.934717\" xlink:href=\"#m26494ee131\" y=\"17.083636\"/>\n     <use style=\"fill:#0000ff;stroke:#0000ff;\" x=\"311.776011\" xlink:href=\"#m26494ee131\" y=\"50.029091\"/>\n     <use style=\"fill:#0000ff;stroke:#0000ff;\" x=\"296.299894\" xlink:href=\"#m26494ee131\" y=\"74.738182\"/>\n     <use style=\"fill:#0000ff;stroke:#0000ff;\" x=\"306.617305\" xlink:href=\"#m26494ee131\" y=\"41.792727\"/>\n     <use style=\"fill:#0000ff;stroke:#0000ff;\" x=\"347.886951\" xlink:href=\"#m26494ee131\" y=\"50.029091\"/>\n     <use style=\"fill:#0000ff;stroke:#0000ff;\" x=\"332.410834\" xlink:href=\"#m26494ee131\" y=\"74.738182\"/>\n     <use style=\"fill:#0000ff;stroke:#0000ff;\" x=\"306.617305\" xlink:href=\"#m26494ee131\" y=\"74.738182\"/>\n     <use style=\"fill:#0000ff;stroke:#0000ff;\" x=\"322.093423\" xlink:href=\"#m26494ee131\" y=\"17.083636\"/>\n     <use style=\"fill:#0000ff;stroke:#0000ff;\" x=\"270.506366\" xlink:href=\"#m26494ee131\" y=\"58.265455\"/>\n     <use style=\"fill:#0000ff;stroke:#0000ff;\" x=\"280.823777\" xlink:href=\"#m26494ee131\" y=\"66.501818\"/>\n     <use style=\"fill:#0000ff;stroke:#0000ff;\" x=\"291.141188\" xlink:href=\"#m26494ee131\" y=\"50.029091\"/>\n     <use style=\"fill:#0000ff;stroke:#0000ff;\" x=\"280.823777\" xlink:href=\"#m26494ee131\" y=\"33.556364\"/>\n     <use style=\"fill:#0000ff;stroke:#0000ff;\" x=\"291.141188\" xlink:href=\"#m26494ee131\" y=\"74.738182\"/>\n     <use style=\"fill:#0000ff;stroke:#0000ff;\" x=\"353.045657\" xlink:href=\"#m26494ee131\" y=\"41.792727\"/>\n     <use style=\"fill:#0000ff;stroke:#0000ff;\" x=\"363.363068\" xlink:href=\"#m26494ee131\" y=\"33.556364\"/>\n     <use style=\"fill:#0000ff;stroke:#0000ff;\" x=\"301.4586\" xlink:href=\"#m26494ee131\" y=\"33.556364\"/>\n     <use style=\"fill:#0000ff;stroke:#0000ff;\" x=\"353.045657\" xlink:href=\"#m26494ee131\" y=\"58.265455\"/>\n     <use style=\"fill:#0000ff;stroke:#0000ff;\" x=\"301.4586\" xlink:href=\"#m26494ee131\" y=\"50.029091\"/>\n     <use style=\"fill:#0000ff;stroke:#0000ff;\" x=\"316.934717\" xlink:href=\"#m26494ee131\" y=\"74.738182\"/>\n     <use style=\"fill:#0000ff;stroke:#0000ff;\" x=\"296.299894\" xlink:href=\"#m26494ee131\" y=\"50.029091\"/>\n     <use style=\"fill:#0000ff;stroke:#0000ff;\" x=\"306.617305\" xlink:href=\"#m26494ee131\" y=\"91.210909\"/>\n     <use style=\"fill:#0000ff;stroke:#0000ff;\" x=\"322.093423\" xlink:href=\"#m26494ee131\" y=\"66.501818\"/>\n     <use style=\"fill:#0000ff;stroke:#0000ff;\" x=\"337.56954\" xlink:href=\"#m26494ee131\" y=\"58.265455\"/>\n     <use style=\"fill:#0000ff;stroke:#0000ff;\" x=\"296.299894\" xlink:href=\"#m26494ee131\" y=\"41.792727\"/>\n     <use style=\"fill:#0000ff;stroke:#0000ff;\" x=\"296.299894\" xlink:href=\"#m26494ee131\" y=\"107.683636\"/>\n     <use style=\"fill:#0000ff;stroke:#0000ff;\" x=\"322.093423\" xlink:href=\"#m26494ee131\" y=\"33.556364\"/>\n     <use style=\"fill:#0000ff;stroke:#0000ff;\" x=\"296.299894\" xlink:href=\"#m26494ee131\" y=\"25.32\"/>\n     <use style=\"fill:#0000ff;stroke:#0000ff;\" x=\"291.141188\" xlink:href=\"#m26494ee131\" y=\"74.738182\"/>\n     <use style=\"fill:#0000ff;stroke:#0000ff;\" x=\"285.982483\" xlink:href=\"#m26494ee131\" y=\"50.029091\"/>\n     <use style=\"fill:#0000ff;stroke:#0000ff;\" x=\"296.299894\" xlink:href=\"#m26494ee131\" y=\"25.32\"/>\n     <use style=\"fill:#0000ff;stroke:#0000ff;\" x=\"270.506366\" xlink:href=\"#m26494ee131\" y=\"33.556364\"/>\n     <use style=\"fill:#0000ff;stroke:#0000ff;\" x=\"311.776011\" xlink:href=\"#m26494ee131\" y=\"33.556364\"/>\n     <use style=\"fill:#0000ff;stroke:#0000ff;\" x=\"301.4586\" xlink:href=\"#m26494ee131\" y=\"17.083636\"/>\n     <use style=\"fill:#0000ff;stroke:#0000ff;\" x=\"275.665071\" xlink:href=\"#m26494ee131\" y=\"33.556364\"/>\n     <use style=\"fill:#0000ff;stroke:#0000ff;\" x=\"275.665071\" xlink:href=\"#m26494ee131\" y=\"58.265455\"/>\n     <use style=\"fill:#0000ff;stroke:#0000ff;\" x=\"285.982483\" xlink:href=\"#m26494ee131\" y=\"33.556364\"/>\n    </g>\n   </g>\n   <g id=\"matplotlib.axis_1\">\n    <g id=\"xtick_1\">\n     <g id=\"line2d_1\">\n      <defs>\n       <path d=\"M 0 0 \nL 0 3.5 \n\" id=\"m892a957993\" style=\"stroke:#000000;stroke-width:0.8;\"/>\n      </defs>\n      <g>\n       <use style=\"stroke:#000000;stroke-width:0.8;\" x=\"58.999432\" xlink:href=\"#m892a957993\" y=\"224.64\"/>\n      </g>\n     </g>\n     <g id=\"text_1\">\n      <!-- 1 -->\n      <g transform=\"translate(55.818182 239.238437)scale(0.1 -0.1)\">\n       <defs>\n        <path d=\"M 794 531 \nL 1825 531 \nL 1825 4091 \nL 703 3866 \nL 703 4441 \nL 1819 4666 \nL 2450 4666 \nL 2450 531 \nL 3481 531 \nL 3481 0 \nL 794 0 \nL 794 531 \nz\n\" id=\"DejaVuSans-31\" transform=\"scale(0.015625)\"/>\n       </defs>\n       <use xlink:href=\"#DejaVuSans-31\"/>\n      </g>\n     </g>\n    </g>\n    <g id=\"xtick_2\">\n     <g id=\"line2d_2\">\n      <g>\n       <use style=\"stroke:#000000;stroke-width:0.8;\" x=\"110.586489\" xlink:href=\"#m892a957993\" y=\"224.64\"/>\n      </g>\n     </g>\n     <g id=\"text_2\">\n      <!-- 2 -->\n      <g transform=\"translate(107.405239 239.238437)scale(0.1 -0.1)\">\n       <defs>\n        <path d=\"M 1228 531 \nL 3431 531 \nL 3431 0 \nL 469 0 \nL 469 531 \nQ 828 903 1448 1529 \nQ 2069 2156 2228 2338 \nQ 2531 2678 2651 2914 \nQ 2772 3150 2772 3378 \nQ 2772 3750 2511 3984 \nQ 2250 4219 1831 4219 \nQ 1534 4219 1204 4116 \nQ 875 4013 500 3803 \nL 500 4441 \nQ 881 4594 1212 4672 \nQ 1544 4750 1819 4750 \nQ 2544 4750 2975 4387 \nQ 3406 4025 3406 3419 \nQ 3406 3131 3298 2873 \nQ 3191 2616 2906 2266 \nQ 2828 2175 2409 1742 \nQ 1991 1309 1228 531 \nz\n\" id=\"DejaVuSans-32\" transform=\"scale(0.015625)\"/>\n       </defs>\n       <use xlink:href=\"#DejaVuSans-32\"/>\n      </g>\n     </g>\n    </g>\n    <g id=\"xtick_3\">\n     <g id=\"line2d_3\">\n      <g>\n       <use style=\"stroke:#000000;stroke-width:0.8;\" x=\"162.173546\" xlink:href=\"#m892a957993\" y=\"224.64\"/>\n      </g>\n     </g>\n     <g id=\"text_3\">\n      <!-- 3 -->\n      <g transform=\"translate(158.992296 239.238437)scale(0.1 -0.1)\">\n       <defs>\n        <path d=\"M 2597 2516 \nQ 3050 2419 3304 2112 \nQ 3559 1806 3559 1356 \nQ 3559 666 3084 287 \nQ 2609 -91 1734 -91 \nQ 1441 -91 1130 -33 \nQ 819 25 488 141 \nL 488 750 \nQ 750 597 1062 519 \nQ 1375 441 1716 441 \nQ 2309 441 2620 675 \nQ 2931 909 2931 1356 \nQ 2931 1769 2642 2001 \nQ 2353 2234 1838 2234 \nL 1294 2234 \nL 1294 2753 \nL 1863 2753 \nQ 2328 2753 2575 2939 \nQ 2822 3125 2822 3475 \nQ 2822 3834 2567 4026 \nQ 2313 4219 1838 4219 \nQ 1578 4219 1281 4162 \nQ 984 4106 628 3988 \nL 628 4550 \nQ 988 4650 1302 4700 \nQ 1616 4750 1894 4750 \nQ 2613 4750 3031 4423 \nQ 3450 4097 3450 3541 \nQ 3450 3153 3228 2886 \nQ 3006 2619 2597 2516 \nz\n\" id=\"DejaVuSans-33\" transform=\"scale(0.015625)\"/>\n       </defs>\n       <use xlink:href=\"#DejaVuSans-33\"/>\n      </g>\n     </g>\n    </g>\n    <g id=\"xtick_4\">\n     <g id=\"line2d_4\">\n      <g>\n       <use style=\"stroke:#000000;stroke-width:0.8;\" x=\"213.760603\" xlink:href=\"#m892a957993\" y=\"224.64\"/>\n      </g>\n     </g>\n     <g id=\"text_4\">\n      <!-- 4 -->\n      <g transform=\"translate(210.579353 239.238437)scale(0.1 -0.1)\">\n       <defs>\n        <path d=\"M 2419 4116 \nL 825 1625 \nL 2419 1625 \nL 2419 4116 \nz\nM 2253 4666 \nL 3047 4666 \nL 3047 1625 \nL 3713 1625 \nL 3713 1100 \nL 3047 1100 \nL 3047 0 \nL 2419 0 \nL 2419 1100 \nL 313 1100 \nL 313 1709 \nL 2253 4666 \nz\n\" id=\"DejaVuSans-34\" transform=\"scale(0.015625)\"/>\n       </defs>\n       <use xlink:href=\"#DejaVuSans-34\"/>\n      </g>\n     </g>\n    </g>\n    <g id=\"xtick_5\">\n     <g id=\"line2d_5\">\n      <g>\n       <use style=\"stroke:#000000;stroke-width:0.8;\" x=\"265.34766\" xlink:href=\"#m892a957993\" y=\"224.64\"/>\n      </g>\n     </g>\n     <g id=\"text_5\">\n      <!-- 5 -->\n      <g transform=\"translate(262.16641 239.238437)scale(0.1 -0.1)\">\n       <defs>\n        <path d=\"M 691 4666 \nL 3169 4666 \nL 3169 4134 \nL 1269 4134 \nL 1269 2991 \nQ 1406 3038 1543 3061 \nQ 1681 3084 1819 3084 \nQ 2600 3084 3056 2656 \nQ 3513 2228 3513 1497 \nQ 3513 744 3044 326 \nQ 2575 -91 1722 -91 \nQ 1428 -91 1123 -41 \nQ 819 9 494 109 \nL 494 744 \nQ 775 591 1075 516 \nQ 1375 441 1709 441 \nQ 2250 441 2565 725 \nQ 2881 1009 2881 1497 \nQ 2881 1984 2565 2268 \nQ 2250 2553 1709 2553 \nQ 1456 2553 1204 2497 \nQ 953 2441 691 2322 \nL 691 4666 \nz\n\" id=\"DejaVuSans-35\" transform=\"scale(0.015625)\"/>\n       </defs>\n       <use xlink:href=\"#DejaVuSans-35\"/>\n      </g>\n     </g>\n    </g>\n    <g id=\"xtick_6\">\n     <g id=\"line2d_6\">\n      <g>\n       <use style=\"stroke:#000000;stroke-width:0.8;\" x=\"316.934717\" xlink:href=\"#m892a957993\" y=\"224.64\"/>\n      </g>\n     </g>\n     <g id=\"text_6\">\n      <!-- 6 -->\n      <g transform=\"translate(313.753467 239.238437)scale(0.1 -0.1)\">\n       <defs>\n        <path d=\"M 2113 2584 \nQ 1688 2584 1439 2293 \nQ 1191 2003 1191 1497 \nQ 1191 994 1439 701 \nQ 1688 409 2113 409 \nQ 2538 409 2786 701 \nQ 3034 994 3034 1497 \nQ 3034 2003 2786 2293 \nQ 2538 2584 2113 2584 \nz\nM 3366 4563 \nL 3366 3988 \nQ 3128 4100 2886 4159 \nQ 2644 4219 2406 4219 \nQ 1781 4219 1451 3797 \nQ 1122 3375 1075 2522 \nQ 1259 2794 1537 2939 \nQ 1816 3084 2150 3084 \nQ 2853 3084 3261 2657 \nQ 3669 2231 3669 1497 \nQ 3669 778 3244 343 \nQ 2819 -91 2113 -91 \nQ 1303 -91 875 529 \nQ 447 1150 447 2328 \nQ 447 3434 972 4092 \nQ 1497 4750 2381 4750 \nQ 2619 4750 2861 4703 \nQ 3103 4656 3366 4563 \nz\n\" id=\"DejaVuSans-36\" transform=\"scale(0.015625)\"/>\n       </defs>\n       <use xlink:href=\"#DejaVuSans-36\"/>\n      </g>\n     </g>\n    </g>\n    <g id=\"xtick_7\">\n     <g id=\"line2d_7\">\n      <g>\n       <use style=\"stroke:#000000;stroke-width:0.8;\" x=\"368.521774\" xlink:href=\"#m892a957993\" y=\"224.64\"/>\n      </g>\n     </g>\n     <g id=\"text_7\">\n      <!-- 7 -->\n      <g transform=\"translate(365.340524 239.238437)scale(0.1 -0.1)\">\n       <defs>\n        <path d=\"M 525 4666 \nL 3525 4666 \nL 3525 4397 \nL 1831 0 \nL 1172 0 \nL 2766 4134 \nL 525 4134 \nL 525 4666 \nz\n\" id=\"DejaVuSans-37\" transform=\"scale(0.015625)\"/>\n       </defs>\n       <use xlink:href=\"#DejaVuSans-37\"/>\n      </g>\n     </g>\n    </g>\n    <g id=\"text_8\">\n     <!-- petal length (cm) -->\n     <g transform=\"translate(167.880469 252.916562)scale(0.1 -0.1)\">\n      <defs>\n       <path d=\"M 1159 525 \nL 1159 -1331 \nL 581 -1331 \nL 581 3500 \nL 1159 3500 \nL 1159 2969 \nQ 1341 3281 1617 3432 \nQ 1894 3584 2278 3584 \nQ 2916 3584 3314 3078 \nQ 3713 2572 3713 1747 \nQ 3713 922 3314 415 \nQ 2916 -91 2278 -91 \nQ 1894 -91 1617 61 \nQ 1341 213 1159 525 \nz\nM 3116 1747 \nQ 3116 2381 2855 2742 \nQ 2594 3103 2138 3103 \nQ 1681 3103 1420 2742 \nQ 1159 2381 1159 1747 \nQ 1159 1113 1420 752 \nQ 1681 391 2138 391 \nQ 2594 391 2855 752 \nQ 3116 1113 3116 1747 \nz\n\" id=\"DejaVuSans-70\" transform=\"scale(0.015625)\"/>\n       <path d=\"M 3597 1894 \nL 3597 1613 \nL 953 1613 \nQ 991 1019 1311 708 \nQ 1631 397 2203 397 \nQ 2534 397 2845 478 \nQ 3156 559 3463 722 \nL 3463 178 \nQ 3153 47 2828 -22 \nQ 2503 -91 2169 -91 \nQ 1331 -91 842 396 \nQ 353 884 353 1716 \nQ 353 2575 817 3079 \nQ 1281 3584 2069 3584 \nQ 2775 3584 3186 3129 \nQ 3597 2675 3597 1894 \nz\nM 3022 2063 \nQ 3016 2534 2758 2815 \nQ 2500 3097 2075 3097 \nQ 1594 3097 1305 2825 \nQ 1016 2553 972 2059 \nL 3022 2063 \nz\n\" id=\"DejaVuSans-65\" transform=\"scale(0.015625)\"/>\n       <path d=\"M 1172 4494 \nL 1172 3500 \nL 2356 3500 \nL 2356 3053 \nL 1172 3053 \nL 1172 1153 \nQ 1172 725 1289 603 \nQ 1406 481 1766 481 \nL 2356 481 \nL 2356 0 \nL 1766 0 \nQ 1100 0 847 248 \nQ 594 497 594 1153 \nL 594 3053 \nL 172 3053 \nL 172 3500 \nL 594 3500 \nL 594 4494 \nL 1172 4494 \nz\n\" id=\"DejaVuSans-74\" transform=\"scale(0.015625)\"/>\n       <path d=\"M 2194 1759 \nQ 1497 1759 1228 1600 \nQ 959 1441 959 1056 \nQ 959 750 1161 570 \nQ 1363 391 1709 391 \nQ 2188 391 2477 730 \nQ 2766 1069 2766 1631 \nL 2766 1759 \nL 2194 1759 \nz\nM 3341 1997 \nL 3341 0 \nL 2766 0 \nL 2766 531 \nQ 2569 213 2275 61 \nQ 1981 -91 1556 -91 \nQ 1019 -91 701 211 \nQ 384 513 384 1019 \nQ 384 1609 779 1909 \nQ 1175 2209 1959 2209 \nL 2766 2209 \nL 2766 2266 \nQ 2766 2663 2505 2880 \nQ 2244 3097 1772 3097 \nQ 1472 3097 1187 3025 \nQ 903 2953 641 2809 \nL 641 3341 \nQ 956 3463 1253 3523 \nQ 1550 3584 1831 3584 \nQ 2591 3584 2966 3190 \nQ 3341 2797 3341 1997 \nz\n\" id=\"DejaVuSans-61\" transform=\"scale(0.015625)\"/>\n       <path d=\"M 603 4863 \nL 1178 4863 \nL 1178 0 \nL 603 0 \nL 603 4863 \nz\n\" id=\"DejaVuSans-6c\" transform=\"scale(0.015625)\"/>\n       <path id=\"DejaVuSans-20\" transform=\"scale(0.015625)\"/>\n       <path d=\"M 3513 2113 \nL 3513 0 \nL 2938 0 \nL 2938 2094 \nQ 2938 2591 2744 2837 \nQ 2550 3084 2163 3084 \nQ 1697 3084 1428 2787 \nQ 1159 2491 1159 1978 \nL 1159 0 \nL 581 0 \nL 581 3500 \nL 1159 3500 \nL 1159 2956 \nQ 1366 3272 1645 3428 \nQ 1925 3584 2291 3584 \nQ 2894 3584 3203 3211 \nQ 3513 2838 3513 2113 \nz\n\" id=\"DejaVuSans-6e\" transform=\"scale(0.015625)\"/>\n       <path d=\"M 2906 1791 \nQ 2906 2416 2648 2759 \nQ 2391 3103 1925 3103 \nQ 1463 3103 1205 2759 \nQ 947 2416 947 1791 \nQ 947 1169 1205 825 \nQ 1463 481 1925 481 \nQ 2391 481 2648 825 \nQ 2906 1169 2906 1791 \nz\nM 3481 434 \nQ 3481 -459 3084 -895 \nQ 2688 -1331 1869 -1331 \nQ 1566 -1331 1297 -1286 \nQ 1028 -1241 775 -1147 \nL 775 -588 \nQ 1028 -725 1275 -790 \nQ 1522 -856 1778 -856 \nQ 2344 -856 2625 -561 \nQ 2906 -266 2906 331 \nL 2906 616 \nQ 2728 306 2450 153 \nQ 2172 0 1784 0 \nQ 1141 0 747 490 \nQ 353 981 353 1791 \nQ 353 2603 747 3093 \nQ 1141 3584 1784 3584 \nQ 2172 3584 2450 3431 \nQ 2728 3278 2906 2969 \nL 2906 3500 \nL 3481 3500 \nL 3481 434 \nz\n\" id=\"DejaVuSans-67\" transform=\"scale(0.015625)\"/>\n       <path d=\"M 3513 2113 \nL 3513 0 \nL 2938 0 \nL 2938 2094 \nQ 2938 2591 2744 2837 \nQ 2550 3084 2163 3084 \nQ 1697 3084 1428 2787 \nQ 1159 2491 1159 1978 \nL 1159 0 \nL 581 0 \nL 581 4863 \nL 1159 4863 \nL 1159 2956 \nQ 1366 3272 1645 3428 \nQ 1925 3584 2291 3584 \nQ 2894 3584 3203 3211 \nQ 3513 2838 3513 2113 \nz\n\" id=\"DejaVuSans-68\" transform=\"scale(0.015625)\"/>\n       <path d=\"M 1984 4856 \nQ 1566 4138 1362 3434 \nQ 1159 2731 1159 2009 \nQ 1159 1288 1364 580 \nQ 1569 -128 1984 -844 \nL 1484 -844 \nQ 1016 -109 783 600 \nQ 550 1309 550 2009 \nQ 550 2706 781 3412 \nQ 1013 4119 1484 4856 \nL 1984 4856 \nz\n\" id=\"DejaVuSans-28\" transform=\"scale(0.015625)\"/>\n       <path d=\"M 3122 3366 \nL 3122 2828 \nQ 2878 2963 2633 3030 \nQ 2388 3097 2138 3097 \nQ 1578 3097 1268 2742 \nQ 959 2388 959 1747 \nQ 959 1106 1268 751 \nQ 1578 397 2138 397 \nQ 2388 397 2633 464 \nQ 2878 531 3122 666 \nL 3122 134 \nQ 2881 22 2623 -34 \nQ 2366 -91 2075 -91 \nQ 1284 -91 818 406 \nQ 353 903 353 1747 \nQ 353 2603 823 3093 \nQ 1294 3584 2113 3584 \nQ 2378 3584 2631 3529 \nQ 2884 3475 3122 3366 \nz\n\" id=\"DejaVuSans-63\" transform=\"scale(0.015625)\"/>\n       <path d=\"M 3328 2828 \nQ 3544 3216 3844 3400 \nQ 4144 3584 4550 3584 \nQ 5097 3584 5394 3201 \nQ 5691 2819 5691 2113 \nL 5691 0 \nL 5113 0 \nL 5113 2094 \nQ 5113 2597 4934 2840 \nQ 4756 3084 4391 3084 \nQ 3944 3084 3684 2787 \nQ 3425 2491 3425 1978 \nL 3425 0 \nL 2847 0 \nL 2847 2094 \nQ 2847 2600 2669 2842 \nQ 2491 3084 2119 3084 \nQ 1678 3084 1418 2786 \nQ 1159 2488 1159 1978 \nL 1159 0 \nL 581 0 \nL 581 3500 \nL 1159 3500 \nL 1159 2956 \nQ 1356 3278 1631 3431 \nQ 1906 3584 2284 3584 \nQ 2666 3584 2933 3390 \nQ 3200 3197 3328 2828 \nz\n\" id=\"DejaVuSans-6d\" transform=\"scale(0.015625)\"/>\n       <path d=\"M 513 4856 \nL 1013 4856 \nQ 1481 4119 1714 3412 \nQ 1947 2706 1947 2009 \nQ 1947 1309 1714 600 \nQ 1481 -109 1013 -844 \nL 513 -844 \nQ 928 -128 1133 580 \nQ 1338 1288 1338 2009 \nQ 1338 2731 1133 3434 \nQ 928 4138 513 4856 \nz\n\" id=\"DejaVuSans-29\" transform=\"scale(0.015625)\"/>\n      </defs>\n      <use xlink:href=\"#DejaVuSans-70\"/>\n      <use x=\"63.476562\" xlink:href=\"#DejaVuSans-65\"/>\n      <use x=\"125\" xlink:href=\"#DejaVuSans-74\"/>\n      <use x=\"164.208984\" xlink:href=\"#DejaVuSans-61\"/>\n      <use x=\"225.488281\" xlink:href=\"#DejaVuSans-6c\"/>\n      <use x=\"253.271484\" xlink:href=\"#DejaVuSans-20\"/>\n      <use x=\"285.058594\" xlink:href=\"#DejaVuSans-6c\"/>\n      <use x=\"312.841797\" xlink:href=\"#DejaVuSans-65\"/>\n      <use x=\"374.365234\" xlink:href=\"#DejaVuSans-6e\"/>\n      <use x=\"437.744141\" xlink:href=\"#DejaVuSans-67\"/>\n      <use x=\"501.220703\" xlink:href=\"#DejaVuSans-74\"/>\n      <use x=\"540.429688\" xlink:href=\"#DejaVuSans-68\"/>\n      <use x=\"603.808594\" xlink:href=\"#DejaVuSans-20\"/>\n      <use x=\"635.595703\" xlink:href=\"#DejaVuSans-28\"/>\n      <use x=\"674.609375\" xlink:href=\"#DejaVuSans-63\"/>\n      <use x=\"729.589844\" xlink:href=\"#DejaVuSans-6d\"/>\n      <use x=\"827.001953\" xlink:href=\"#DejaVuSans-29\"/>\n     </g>\n    </g>\n   </g>\n   <g id=\"matplotlib.axis_2\">\n    <g id=\"ytick_1\">\n     <g id=\"line2d_8\">\n      <defs>\n       <path d=\"M 0 0 \nL -3.5 0 \n\" id=\"m16cd974c53\" style=\"stroke:#000000;stroke-width:0.8;\"/>\n      </defs>\n      <g>\n       <use style=\"stroke:#000000;stroke-width:0.8;\" x=\"43.78125\" xlink:href=\"#m16cd974c53\" y=\"222.992727\"/>\n      </g>\n     </g>\n     <g id=\"text_9\">\n      <!-- 0.0 -->\n      <g transform=\"translate(20.878125 226.791946)scale(0.1 -0.1)\">\n       <defs>\n        <path d=\"M 2034 4250 \nQ 1547 4250 1301 3770 \nQ 1056 3291 1056 2328 \nQ 1056 1369 1301 889 \nQ 1547 409 2034 409 \nQ 2525 409 2770 889 \nQ 3016 1369 3016 2328 \nQ 3016 3291 2770 3770 \nQ 2525 4250 2034 4250 \nz\nM 2034 4750 \nQ 2819 4750 3233 4129 \nQ 3647 3509 3647 2328 \nQ 3647 1150 3233 529 \nQ 2819 -91 2034 -91 \nQ 1250 -91 836 529 \nQ 422 1150 422 2328 \nQ 422 3509 836 4129 \nQ 1250 4750 2034 4750 \nz\n\" id=\"DejaVuSans-30\" transform=\"scale(0.015625)\"/>\n        <path d=\"M 684 794 \nL 1344 794 \nL 1344 0 \nL 684 0 \nL 684 794 \nz\n\" id=\"DejaVuSans-2e\" transform=\"scale(0.015625)\"/>\n       </defs>\n       <use xlink:href=\"#DejaVuSans-30\"/>\n       <use x=\"63.623047\" xlink:href=\"#DejaVuSans-2e\"/>\n       <use x=\"95.410156\" xlink:href=\"#DejaVuSans-30\"/>\n      </g>\n     </g>\n    </g>\n    <g id=\"ytick_2\">\n     <g id=\"line2d_9\">\n      <g>\n       <use style=\"stroke:#000000;stroke-width:0.8;\" x=\"43.78125\" xlink:href=\"#m16cd974c53\" y=\"181.810909\"/>\n      </g>\n     </g>\n     <g id=\"text_10\">\n      <!-- 0.5 -->\n      <g transform=\"translate(20.878125 185.610128)scale(0.1 -0.1)\">\n       <use xlink:href=\"#DejaVuSans-30\"/>\n       <use x=\"63.623047\" xlink:href=\"#DejaVuSans-2e\"/>\n       <use x=\"95.410156\" xlink:href=\"#DejaVuSans-35\"/>\n      </g>\n     </g>\n    </g>\n    <g id=\"ytick_3\">\n     <g id=\"line2d_10\">\n      <g>\n       <use style=\"stroke:#000000;stroke-width:0.8;\" x=\"43.78125\" xlink:href=\"#m16cd974c53\" y=\"140.629091\"/>\n      </g>\n     </g>\n     <g id=\"text_11\">\n      <!-- 1.0 -->\n      <g transform=\"translate(20.878125 144.42831)scale(0.1 -0.1)\">\n       <use xlink:href=\"#DejaVuSans-31\"/>\n       <use x=\"63.623047\" xlink:href=\"#DejaVuSans-2e\"/>\n       <use x=\"95.410156\" xlink:href=\"#DejaVuSans-30\"/>\n      </g>\n     </g>\n    </g>\n    <g id=\"ytick_4\">\n     <g id=\"line2d_11\">\n      <g>\n       <use style=\"stroke:#000000;stroke-width:0.8;\" x=\"43.78125\" xlink:href=\"#m16cd974c53\" y=\"99.447273\"/>\n      </g>\n     </g>\n     <g id=\"text_12\">\n      <!-- 1.5 -->\n      <g transform=\"translate(20.878125 103.246491)scale(0.1 -0.1)\">\n       <use xlink:href=\"#DejaVuSans-31\"/>\n       <use x=\"63.623047\" xlink:href=\"#DejaVuSans-2e\"/>\n       <use x=\"95.410156\" xlink:href=\"#DejaVuSans-35\"/>\n      </g>\n     </g>\n    </g>\n    <g id=\"ytick_5\">\n     <g id=\"line2d_12\">\n      <g>\n       <use style=\"stroke:#000000;stroke-width:0.8;\" x=\"43.78125\" xlink:href=\"#m16cd974c53\" y=\"58.265455\"/>\n      </g>\n     </g>\n     <g id=\"text_13\">\n      <!-- 2.0 -->\n      <g transform=\"translate(20.878125 62.064673)scale(0.1 -0.1)\">\n       <use xlink:href=\"#DejaVuSans-32\"/>\n       <use x=\"63.623047\" xlink:href=\"#DejaVuSans-2e\"/>\n       <use x=\"95.410156\" xlink:href=\"#DejaVuSans-30\"/>\n      </g>\n     </g>\n    </g>\n    <g id=\"ytick_6\">\n     <g id=\"line2d_13\">\n      <g>\n       <use style=\"stroke:#000000;stroke-width:0.8;\" x=\"43.78125\" xlink:href=\"#m16cd974c53\" y=\"17.083636\"/>\n      </g>\n     </g>\n     <g id=\"text_14\">\n      <!-- 2.5 -->\n      <g transform=\"translate(20.878125 20.882855)scale(0.1 -0.1)\">\n       <use xlink:href=\"#DejaVuSans-32\"/>\n       <use x=\"63.623047\" xlink:href=\"#DejaVuSans-2e\"/>\n       <use x=\"95.410156\" xlink:href=\"#DejaVuSans-35\"/>\n      </g>\n     </g>\n    </g>\n    <g id=\"text_15\">\n     <!-- petal width (cm) -->\n     <g transform=\"translate(14.798438 157.064531)rotate(-90)scale(0.1 -0.1)\">\n      <defs>\n       <path d=\"M 269 3500 \nL 844 3500 \nL 1563 769 \nL 2278 3500 \nL 2956 3500 \nL 3675 769 \nL 4391 3500 \nL 4966 3500 \nL 4050 0 \nL 3372 0 \nL 2619 2869 \nL 1863 0 \nL 1184 0 \nL 269 3500 \nz\n\" id=\"DejaVuSans-77\" transform=\"scale(0.015625)\"/>\n       <path d=\"M 603 3500 \nL 1178 3500 \nL 1178 0 \nL 603 0 \nL 603 3500 \nz\nM 603 4863 \nL 1178 4863 \nL 1178 4134 \nL 603 4134 \nL 603 4863 \nz\n\" id=\"DejaVuSans-69\" transform=\"scale(0.015625)\"/>\n       <path d=\"M 2906 2969 \nL 2906 4863 \nL 3481 4863 \nL 3481 0 \nL 2906 0 \nL 2906 525 \nQ 2725 213 2448 61 \nQ 2172 -91 1784 -91 \nQ 1150 -91 751 415 \nQ 353 922 353 1747 \nQ 353 2572 751 3078 \nQ 1150 3584 1784 3584 \nQ 2172 3584 2448 3432 \nQ 2725 3281 2906 2969 \nz\nM 947 1747 \nQ 947 1113 1208 752 \nQ 1469 391 1925 391 \nQ 2381 391 2643 752 \nQ 2906 1113 2906 1747 \nQ 2906 2381 2643 2742 \nQ 2381 3103 1925 3103 \nQ 1469 3103 1208 2742 \nQ 947 2381 947 1747 \nz\n\" id=\"DejaVuSans-64\" transform=\"scale(0.015625)\"/>\n      </defs>\n      <use xlink:href=\"#DejaVuSans-70\"/>\n      <use x=\"63.476562\" xlink:href=\"#DejaVuSans-65\"/>\n      <use x=\"125\" xlink:href=\"#DejaVuSans-74\"/>\n      <use x=\"164.208984\" xlink:href=\"#DejaVuSans-61\"/>\n      <use x=\"225.488281\" xlink:href=\"#DejaVuSans-6c\"/>\n      <use x=\"253.271484\" xlink:href=\"#DejaVuSans-20\"/>\n      <use x=\"285.058594\" xlink:href=\"#DejaVuSans-77\"/>\n      <use x=\"366.845703\" xlink:href=\"#DejaVuSans-69\"/>\n      <use x=\"394.628906\" xlink:href=\"#DejaVuSans-64\"/>\n      <use x=\"458.105469\" xlink:href=\"#DejaVuSans-74\"/>\n      <use x=\"497.314453\" xlink:href=\"#DejaVuSans-68\"/>\n      <use x=\"560.693359\" xlink:href=\"#DejaVuSans-20\"/>\n      <use x=\"592.480469\" xlink:href=\"#DejaVuSans-28\"/>\n      <use x=\"631.494141\" xlink:href=\"#DejaVuSans-63\"/>\n      <use x=\"686.474609\" xlink:href=\"#DejaVuSans-6d\"/>\n      <use x=\"783.886719\" xlink:href=\"#DejaVuSans-29\"/>\n     </g>\n    </g>\n   </g>\n   <g id=\"patch_3\">\n    <path d=\"M 43.78125 224.64 \nL 43.78125 7.2 \n\" style=\"fill:none;stroke:#000000;stroke-linecap:square;stroke-linejoin:miter;stroke-width:0.8;\"/>\n   </g>\n   <g id=\"patch_4\">\n    <path d=\"M 378.58125 224.64 \nL 378.58125 7.2 \n\" style=\"fill:none;stroke:#000000;stroke-linecap:square;stroke-linejoin:miter;stroke-width:0.8;\"/>\n   </g>\n   <g id=\"patch_5\">\n    <path d=\"M 43.78125 224.64 \nL 378.58125 224.64 \n\" style=\"fill:none;stroke:#000000;stroke-linecap:square;stroke-linejoin:miter;stroke-width:0.8;\"/>\n   </g>\n   <g id=\"patch_6\">\n    <path d=\"M 43.78125 7.2 \nL 378.58125 7.2 \n\" style=\"fill:none;stroke:#000000;stroke-linecap:square;stroke-linejoin:miter;stroke-width:0.8;\"/>\n   </g>\n  </g>\n </g>\n <defs>\n  <clipPath id=\"pc215e4622a\">\n   <rect height=\"217.44\" width=\"334.8\" x=\"43.78125\" y=\"7.2\"/>\n  </clipPath>\n </defs>\n</svg>\n",
      "image/png": "[encoded data removed]"
     },
     "metadata": {
      "needs_background": "light"
     }
    }
   ],
   "source": [
    "import matplotlib.pyplot as plt\n",
    "from sklearn import cluster , datasets\n",
    "iris = datasets.load_iris()\n",
    "data = iris.data\n",
    "model = cluster.KMeans(n_clusters=3)\n",
    "model.fit(data)\n",
    "labels = model.labels_\n",
    "ldata = data[labels == 0]\n",
    "plt.scatter(ldata[:,2] , ldata[: ,3], color='green')\n",
    "ldata = data[labels == 1]\n",
    "plt.scatter(ldata[:,2] , ldata[: ,3], color='red')\n",
    "ldata = data[labels == 2]\n",
    "plt.scatter(ldata[:,2] , ldata[: ,3], color='blue')\n",
    "plt.xlabel(iris['feature_names'][2])\n",
    "plt.ylabel(iris['feature_names'][3])\n",
    "plt.show()"
   ]
  },
  {
   "cell_type": "markdown",
   "id": "aa7fbbb2",
   "metadata": {},
   "source": [
    "# 45"
   ]
  },
  {
   "cell_type": "code",
   "execution_count": 30,
   "id": "358f6734",
   "metadata": {},
   "outputs": [
    {
     "output_type": "execute_result",
     "data": {
      "text/plain": [
       "array([[20, 17],\n",
       "       [48, 41]])"
      ]
     },
     "metadata": {},
     "execution_count": 30
    }
   ],
   "source": [
    "import numpy as np\n",
    "x = np.array([[1,2],[3,4]])\n",
    "w = np.array([[8,7],[6,5]])\n",
    "x.dot(w)"
   ]
  },
  {
   "cell_type": "code",
   "execution_count": null,
   "id": "37a51a59",
   "metadata": {},
   "outputs": [],
   "source": []
  }
 ],
 "metadata": {
  "kernelspec": {
   "name": "python3",
   "display_name": "Python 3.8.5 64-bit ('MachineLearning': conda)"
  },
  "language_info": {
   "codemirror_mode": {
    "name": "ipython",
    "version": 3
   },
   "file_extension": ".py",
   "mimetype": "text/x-python",
   "name": "python",
   "nbconvert_exporter": "python",
   "pygments_lexer": "ipython3",
   "version": "3.8.5"
  },
  "metadata": {
   "interpreter": {
    "hash": "97d3723faa4999a5fbc2f5ff613a8146b45a4dc56859e084e7329fed153e30f7"
   }
  },
  "interpreter": {
   "hash": "6794a5f773969a502a6a0978f7910d17b3990f82da61ba87afc2b8ced71d7da6"
  }
 },
 "nbformat": 4,
 "nbformat_minor": 5
}