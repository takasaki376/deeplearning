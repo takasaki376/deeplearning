{
 "metadata": {
  "language_info": {
   "codemirror_mode": {
    "name": "ipython",
    "version": 3
   },
   "file_extension": ".py",
   "mimetype": "text/x-python",
   "name": "python",
   "nbconvert_exporter": "python",
   "pygments_lexer": "ipython3",
   "version": 3
  },
  "orig_nbformat": 4
 },
 "nbformat": 4,
 "nbformat_minor": 2,
 "cells": [
  {
   "source": [
    "# 行列\n",
    "## 連立方程式"
   ],
   "cell_type": "markdown",
   "metadata": {}
  },
  {
   "source": [
    "# ｉ行目をｃ倍する\n",
    "# ｉ行ｉ列目にｃを指定する。対角線上は全て１とし、その他は０にする。\n",
    "\n",
    "\\begin{eqnarray}\n",
    "Q_{i,c} = \\left(\n",
    "\\begin{array}{ccccc}\n",
    "1 &        &    &     &     &        &  \\\\\n",
    "  & \\ddots &    &     &     &        &  \\\\\n",
    "  &        &  1 &     &     &        &  \\\\\n",
    "  &        &    &  c  &     &        &  \\\\\n",
    "  &        &    &     &  1  &        &  \\\\\n",
    "  &        &    &     &     & \\ddots &  \\\\\n",
    "  &        &    &     &     &        &  1\n",
    "\\end{array}\n",
    "\\right)\n",
    "\n",
    "\\end{eqnarray}"
   ],
   "cell_type": "markdown",
   "metadata": {}
  },
  {
   "source": [
    "# s行目にｔ行目のｃ倍を加える\n",
    "# ｓ行ｔ列目にｃを設定する。対角線上は全て１とし、その他は０にする。\n",
    "\n",
    "\\begin{eqnarray}\n",
    "Q_{i,c} = \\left(\n",
    "\\begin{array}{ccccc}\n",
    "1 &        &    &        &     &        &  \\\\\n",
    "  & \\ddots &    &        &     &        &  \\\\\n",
    "  &        &  1 &        &  c  &        &  \\\\\n",
    "  &        &    & \\ddots &     &        &  \\\\\n",
    "  &        &    &        &  1  &        &  \\\\\n",
    "  &        &    &        &     & \\ddots &  \\\\\n",
    "  &        &    &        &     &        &  1\n",
    "\\end{array}\n",
    "\\right)\n",
    "\n",
    "\\end{eqnarray}"
   ],
   "cell_type": "markdown",
   "metadata": {}
  },
  {
   "source": [
    "# ｐ行目にｑ行目を入れ替える\n",
    "\n",
    "\\begin{eqnarray}\n",
    "Q_{i,c} = \\left(\n",
    "\\begin{array}{ccccc}\n",
    "1 &        &    &        &     &        &  \\\\\n",
    "  & \\ddots &    &        &     &        &  \\\\\n",
    "  &        &  0 &        &  1  &        &  \\\\\n",
    "  &        &    & \\ddots &     &        &  \\\\\n",
    "  &        &  1 &        &  0  &        &  \\\\\n",
    "  &        &    &        &     & \\ddots &  \\\\\n",
    "  &        &    &        &     &        &  1\n",
    "\\end{array}\n",
    "\\right)\n",
    "\n",
    "\\end{eqnarray}"
   ],
   "cell_type": "markdown",
   "metadata": {}
  },
  {
   "source": [
    "# 逆行列"
   ],
   "cell_type": "markdown",
   "metadata": {}
  },
  {
   "source": [
    "# 逆行列を求める\n",
    "\n",
    "\\begin{eqnarray}\n",
    "A = \\left(\n",
    "\\begin{array}{cc}\n",
    "a & b \\\\\n",
    "c & d\n",
    "\\end{array}\n",
    "\\right)\n",
    "\\end{eqnarray}\n",
    "\n",
    "\n",
    "\\begin{eqnarray}\n",
    "A^{-1} = \\frac{1}{ad - bc} \\left(\n",
    "\\begin{array}{cc}\n",
    "d & -b \\\\\n",
    "-c & a\n",
    "\\end{array}\n",
    "\\right)\n",
    "\\end{eqnarray}\n",
    "\n"
   ],
   "cell_type": "markdown",
   "metadata": {}
  },
  {
   "source": [
    "\n",
    "\\begin{eqnarray}\n",
    "\\left(\n",
    "\\begin{array}{ccccc}\n",
    "4 & 7 \\\\\n",
    "1 & 2\n",
    "\\end{array}\n",
    "\\right)\n",
    "\\end{eqnarray}"
   ],
   "cell_type": "markdown",
   "metadata": {}
  }
 ]
}